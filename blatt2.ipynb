{
 "cells": [
  {
   "cell_type": "markdown",
   "metadata": {},
   "source": [
    "![TUM Physik logo](./content/tumphysik.png)\n",
    "## Übungen zur Experimentalphysik 1\n",
    "### Blatt 2\n",
    "Author: Philipp Gadow (philipp@pgadow.de)"
   ]
  },
  {
   "cell_type": "code",
   "execution_count": 1,
   "metadata": {
    "collapsed": true
   },
   "outputs": [],
   "source": [
    "# Vorbereitung: importiere python packages\n",
    "import math\n",
    "import numpy as np\n",
    "from sympy import symbols\n",
    "from sympy.physics.mechanics import *\n",
    "from sympy.interactive import printing\n",
    "printing.init_printing(use_latex=True)\n",
    "import matplotlib.pyplot as plt\n",
    "from ipywidgets import interact\n",
    "%matplotlib inline"
   ]
  },
  {
   "cell_type": "markdown",
   "metadata": {},
   "source": [
    "### Aufgabe 1\n",
    "Eine kleine Kugel wird zum Zeitpunkt $t= 0 \\,\\text{s}$ mit der Anfangsgeschwindigkeit $v_0= 30 \\,\\text{m} \\text{s}^{-1}$ unter dem Winkel $\\beta= 60^{\\circ}$ gegen die Horizontale abgeschossen. Rechnen Sie für die Zahlenrechnungen vereinfachend mit $g=10 \\,\\text{m} \\text{s}^{-2}$ .\n",
    "\n",
    "a) Ermitteln Sie die Gleichung $x(t)$ und $y(t)$ und bestimmen Sie $y(x)$ der Wurfparabel.\n",
    "\n",
    "**Lösung:**"
   ]
  },
  {
   "cell_type": "code",
   "execution_count": null,
   "metadata": {
    "collapsed": true
   },
   "outputs": [],
   "source": []
  },
  {
   "cell_type": "markdown",
   "metadata": {},
   "source": [
    "b) Berechnen Sie den Vektor $\\vec{v}_1$ der Geschwindigkeit zum Zeitpunkt $t_1=2\\,\\text{s}$. Geben Sie Betrag und Winkel zur x-Achse an.\n",
    "\n",
    "**Lösung:**"
   ]
  },
  {
   "cell_type": "code",
   "execution_count": null,
   "metadata": {
    "collapsed": true
   },
   "outputs": [],
   "source": []
  },
  {
   "cell_type": "markdown",
   "metadata": {},
   "source": [
    "c) Welche Ortskoordinaten $\\vec{r}_\\text{S}$ hat der Scheitelpunkt?\n",
    "\n",
    "**Lösung:**"
   ]
  },
  {
   "cell_type": "code",
   "execution_count": null,
   "metadata": {
    "collapsed": true
   },
   "outputs": [],
   "source": []
  },
  {
   "cell_type": "markdown",
   "metadata": {},
   "source": [
    "d) Welchen Krümmungsradius $R_\\text{S}$ hat die Wurfparabel im Scheitelpunkt?\n",
    "\n",
    "**Lösung:**"
   ]
  },
  {
   "cell_type": "code",
   "execution_count": null,
   "metadata": {
    "collapsed": true
   },
   "outputs": [],
   "source": []
  },
  {
   "cell_type": "markdown",
   "metadata": {},
   "source": [
    "### Aufgabe 2\n",
    "Finden Sie den Abschusswinkel zur Horizontalen $\\alpha$ eines Projektils, dessen Reichweite zweimal so groß wie seine maximale Höhe ist. Der Luftwiderstand ist zu vernachlässigen.\n",
    "\n",
    "**Lösung:**"
   ]
  },
  {
   "cell_type": "code",
   "execution_count": null,
   "metadata": {
    "collapsed": true
   },
   "outputs": [],
   "source": []
  },
  {
   "cell_type": "markdown",
   "metadata": {},
   "source": [
    "### Aufgabe 3\n",
    "Ein Stein fällt in einen Brunnen. Seine Anfangsgeschwindigkeit ist Null. Ein Zeitintervall $\\Delta t=1\\,\\text{s}$ nach dem Beginn des freien Falls wird eine zweiter Stein mit der Anfangsgeschwindigkeit  $v_{z0}=20\\,\\text{m}\\text{s}^{-1}$ hinterhergeworfen. Der Luftwiderstand bleibt unberücksichtigt. Verwenden Sie $g=10\\,\\text{m}\\text{s}^{-2}$.\n",
    "\n",
    "a) Berechnen Sie die Zeit $t_1$, die nach Bewegungsbeginn des ersten Steines vergeht, bis dieser vom zweiten Stein überholt wird.\n",
    "\n",
    "**Lösung:**"
   ]
  },
  {
   "cell_type": "code",
   "execution_count": null,
   "metadata": {
    "collapsed": true
   },
   "outputs": [],
   "source": []
  },
  {
   "cell_type": "markdown",
   "metadata": {},
   "source": [
    "b) In welcher Tiefe $z_1$ findet der Überholvorgang statt?\n",
    "\n",
    "**Lösung:**"
   ]
  },
  {
   "cell_type": "code",
   "execution_count": null,
   "metadata": {
    "collapsed": true
   },
   "outputs": [],
   "source": []
  },
  {
   "cell_type": "markdown",
   "metadata": {},
   "source": [
    "### Aufgabe 4\n",
    "Ein Wurfgeschoss wird am Fuße eines Hügels abgefeuert. Der Hügel steigt mit einem Winkel $\\beta$ gegenüber der Horizontalen. Finden Sie den Winkel, mit dem das Geschoss gegen die Horizontale in Richtung des Berges abgefeuert werden sollte, um seine größtmögliche Reichweite zu erzielen.\n",
    "\n",
    "*Hinweis:* $-\\frac{1}{\\tan(\\phi)}=\\tan(\\phi-\\frac{\\pi}{2}+n\\pi)$\n",
    "\n",
    "**Lösung:**"
   ]
  },
  {
   "cell_type": "code",
   "execution_count": null,
   "metadata": {
    "collapsed": true
   },
   "outputs": [],
   "source": []
  },
  {
   "cell_type": "markdown",
   "metadata": {},
   "source": [
    "### Aufgabe 5\n",
    "Ein Zug fährt mit konstanter Tangentialbeschleunigung auf einem Kreisbogen mit dem Radius $r=2\\,\\text{km}$. Dabei legt er die Strecke $\\Delta s=1200\\,\\text{m}$ zurück. Zu Beginn der betrachteten Bewegung hat er die Geschwindigkeit $v_{1}=30\\,\\text{km/h}$ und am Ende $v_{2}=100\\,\\text{km/h}$.\n",
    "\n",
    "a) Wie lange dauert der Beschleunigungsvorgang?\n",
    "\n",
    "**Lösung:**"
   ]
  },
  {
   "cell_type": "code",
   "execution_count": null,
   "metadata": {
    "collapsed": true
   },
   "outputs": [],
   "source": []
  },
  {
   "cell_type": "markdown",
   "metadata": {},
   "source": [
    "b) Wie groß ist die Tangentialbeschleunigung?\n",
    "\n",
    "**Lösung:**"
   ]
  },
  {
   "cell_type": "code",
   "execution_count": null,
   "metadata": {
    "collapsed": true
   },
   "outputs": [],
   "source": []
  },
  {
   "cell_type": "markdown",
   "metadata": {},
   "source": [
    "c) Berechnen Sie die Winkelbeschleunigung.\n",
    "\n",
    "**Lösung:**"
   ]
  },
  {
   "cell_type": "code",
   "execution_count": null,
   "metadata": {
    "collapsed": true
   },
   "outputs": [],
   "source": []
  },
  {
   "cell_type": "markdown",
   "metadata": {},
   "source": [
    "d) Wie groß ist die Zentripetalbeschleunigung zu Beginn und am Ende des Vorgangs?\n",
    "\n",
    "**Lösung:**"
   ]
  },
  {
   "cell_type": "code",
   "execution_count": null,
   "metadata": {
    "collapsed": true
   },
   "outputs": [],
   "source": []
  },
  {
   "cell_type": "markdown",
   "metadata": {},
   "source": [
    "### Aufgabe 6\n",
    "Ein Auto fährt geradlinig mit der Geschwindigkeit $v_0=96\\,\\text{km/h}$ auf der Autobahn. Die Räder haben den Durchmesser $d=2r_2=58\\,\\text{cm}$.\n",
    "\n",
    "a) Welche Radialbeschleunigung $a_r$ hat die Ventilkappe das Rades, die sich im Abstand $r_1=14,5\\,\\text{cm}$ von der Achse befindet?\n",
    "\n",
    "**Lösung:**"
   ]
  },
  {
   "cell_type": "code",
   "execution_count": null,
   "metadata": {
    "collapsed": true
   },
   "outputs": [],
   "source": []
  },
  {
   "cell_type": "markdown",
   "metadata": {},
   "source": [
    "b) In welcher Zeit $t_1$ ändert sich die Richtung der Tangentialgeschwindigkeit dieser Kappe um den Winkel $\\varphi_1=60^{\\circ}$? (Hierbei soll die Drehung um die mitbewegte Achse des Rades betrachtet werden.)\n",
    "\n",
    "**Lösung:**"
   ]
  },
  {
   "cell_type": "code",
   "execution_count": null,
   "metadata": {
    "collapsed": true
   },
   "outputs": [],
   "source": []
  },
  {
   "cell_type": "markdown",
   "metadata": {},
   "source": [
    "c) Angenommen, die Ventilkappe löse sich gerade beim Durchgang im oberen Punkt. In welcher Richtung würde sie sich unmittelbar nach dem Lösen bewegen und wie groß wäre die Geschwindigkeit $v_K$?\n",
    "\n",
    "**Lösung:**"
   ]
  },
  {
   "cell_type": "code",
   "execution_count": null,
   "metadata": {
    "collapsed": true
   },
   "outputs": [],
   "source": []
  },
  {
   "cell_type": "markdown",
   "metadata": {},
   "source": [
    "### Mathematische Ergänzungen\n",
    "Der Tangens ist definiert durch\n",
    "$$\\tan z = \\frac{\\sin z}{\\cos z}\\text.$$\n",
    "\n",
    "a) Bestimmen Sie unter Verwendung der bekannten Ableitungen von $\\cos z$ und $\\sin z$ die Ableitungen von $\\tan z$.\n",
    "\n",
    "**Lösung:**"
   ]
  },
  {
   "cell_type": "code",
   "execution_count": null,
   "metadata": {
    "collapsed": true
   },
   "outputs": [],
   "source": []
  },
  {
   "cell_type": "markdown",
   "metadata": {},
   "source": [
    "b) Geben Sie einen Definitionsbereich an, in dem $\\tan z$ umkehrbar ist und bestimmen Sie die Ableitung der Umkehrfunktion Arcustangens $\\arctan z$.\n",
    "\n",
    "**Lösung:**"
   ]
  },
  {
   "cell_type": "code",
   "execution_count": null,
   "metadata": {
    "collapsed": true
   },
   "outputs": [],
   "source": []
  }
 ],
 "metadata": {
  "kernelspec": {
   "display_name": "Python 3",
   "language": "python",
   "name": "python3"
  },
  "language_info": {
   "codemirror_mode": {
    "name": "ipython",
    "version": 3
   },
   "file_extension": ".py",
   "mimetype": "text/x-python",
   "name": "python",
   "nbconvert_exporter": "python",
   "pygments_lexer": "ipython3",
   "version": "3.5.2"
  }
 },
 "nbformat": 4,
 "nbformat_minor": 1
}
