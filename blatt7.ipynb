{
 "cells": [
  {
   "cell_type": "markdown",
   "metadata": {},
   "source": [
    "![TUM Physik logo](./content/tumphysik.png)\n",
    "## Übungen zur Experimentalphysik 1\n",
    "### Blatt 7\n",
    "Author: Philipp Gadow (philipp@pgadow.de)"
   ]
  },
  {
   "cell_type": "markdown",
   "metadata": {},
   "source": [
    "### Aufgabe 1\n",
    "\n",
    "Die Masse $m$ eines idealen Pendels der Länge $L$ wird mit einer masselosen Feder mit Federkonstante $D$ verbunden. Am tiefsten Punkt des Pendels (d.h. bei $\\alpha=0$) wird die Feder um\n",
    "die Strecke $x_{0}$ aus ihrer Gleichgewichtslage eingedrückt.\n",
    "\n",
    "![Pendel mit Feder](./content/b7_a1_pendel.jpg)\n",
    "\n",
    "**Hinweis:** Nehmen Sie näherungsweise an, dass eine Auslenkung der Feder senkrecht zu ihrer Achse keine rücktreibende Kraft zur Folge hat, und vernachlässigen Sie Reibungseffekte. Das Pendel schwingt im Gravitationsfeld der Erde. Sie dürfen ebenfalls annehmen, dass $\\alpha<<1$. \n",
    "\n",
    "a) Stellen Sie die Bewegungsgleichung für die Pendelauslenkung $\\alpha$ auf. Zeigen Sie, dass im Fall kleiner Auslenkungen ($\\alpha<<1$) die allgemeine Lösung folgende Form hat:\n",
    "\n",
    "$$ \\alpha(t)=A\\sin(\\omega t)+B\\cos(\\omega t)+\\alpha_{R} $$\n",
    "\n",
    "**Lösung:**\n",
    "\n",
    "Wir stellen zunächst die Bewegungsgleichung des Systems auf. Dazu führen wir Polarkoordinaten ein:\n",
    "$$x = L \\sin \\alpha$$\n",
    "$$y = L \\cos \\alpha$$\n",
    "\n",
    "Wir betrachten die Kräfte, die auf die Masse $m$ wirken:\n",
    "* Gewichtskraft: $F_G = - mg \\, \\sin \\alpha$\n",
    "* Rückstellkraft der Feder: $F_D = - D (x - x_0) \\cos \\alpha$\n",
    "\n",
    "Die resultierende Kraft ist\n",
    "$$ m \\ddot x = m L \\ddot \\alpha = - m g \\, \\sin \\alpha - D (x - x_0) \\cos \\alpha$$\n",
    "\n",
    "Mit ein wenig Umformen und der Identität $x = L \\sin \\alpha$ folgt eine nicht lineare Differentialgleichung für den Auslenkwinkel $\\alpha$\n",
    "$$ \\ddot \\alpha = - \\frac{g}{L} \\, \\sin \\alpha - \\frac{D}{m} x \\, \\sin \\alpha \\, \\cos \\alpha + \\frac{D}{mL} x_0 \\cos \\alpha$$.\n",
    "\n",
    "Diese Differentialgleichung können wir nicht ohne weiteres lösen. Hier hilft eine Taylor-Entwicklung der Sinus- und Cosinusterme weiter.\n",
    "In erster Näherung gilt\n",
    "* $\\cos \\alpha \\approx 1 + \\dots$\n",
    "* $\\sin \\alpha \\approx \\alpha + \\dots$\n",
    "\n",
    "Somit vereinfacht sich die Bewegungsgleichung für den Auslenkungswinkel $\\alpha$ zu\n",
    "$$ \\ddot \\alpha =  -\\frac{g}{L} \\alpha - \\frac{D}{m} \\alpha + \\frac{D x_0}{mL},$$\n",
    "wobei wir die Terme mit $\\alpha$ zusammen fassen können zu\n",
    "$$ \\ddot \\alpha + \\left( \\frac{g}{L} + \\frac{D}{m} \\right) \\alpha = \\frac{D x_0}{mL}.$$\n",
    "\n",
    "Das Vorgehen beim Lösen dieser inhomogenen Differentialgleichung ist\n",
    "* homogene Differentialgleichung lösen\n",
    "* spezielle Lösung der inhomogenen Differentialgleichung finden\n",
    "* allgemeine Lösung ist Summe aus Lösung der homogenen Differentialgleichung und spezieller Lösung\n",
    "\n",
    "#### Homogene Differentialgleichung\n",
    "Wir lösen zunächst die homogene Differentialgleichung\n",
    "$$ \\ddot \\alpha_{hom} + \\left( \\frac{g}{L} + \\frac{D}{m} \\right) \\alpha_{hom} = 0.$$\n",
    "Dies ist die Differentialgleichung eines harmonischen Oszillators $\\ddot x + \\omega^2 x = 0$ mit Kreisfrequenz $\\omega = \\sqrt{\\frac{g}{L} + \\frac{D}{m}}$. Die bekannte Lösung ist somit\n",
    "$ \\alpha_{hom} (t) = A \\sin (\\omega t) + B \\cos (\\omega t)$, deren Konstanten $A, B \\in \\mathbb{R}$ durch die Anfangs- oder Randbedingungen festgelegt werden.\n",
    "\n",
    "#### Spezielle Lösung\n",
    "Nun suchen wir eine spezielle Lösung der inhomogenen Differentialgleichung $ \\ddot \\alpha + \\left( \\frac{g}{L} + \\frac{D}{m} \\right) \\alpha = \\frac{D x_0}{mL}$.\n",
    "\n",
    "Wir machen den Ansatz einer konstanten Lösung $\\alpha_{spez} (t) = C$ mit $C \\in \\mathbb{R}$.\n",
    "Die Ableitungen verschwinden, da $\\dot \\alpha_{spez} = 0$. Setzen wir den Ansatz in die inhomogene Differentialgleichung ein, erhalten wir\n",
    "$$ \\left( \\frac{g}{L} + \\frac{D}{m} \\right) C = \\frac{D x_0}{mL}.$$\n",
    "Somit ist die spezielle Lösung $$\\alpha_{spez} = \\frac{\\frac{D x_0}{mL}}{\\frac{g}{L} + \\frac{D}{m}} = \\frac{D x_0}{m g + D L}$$.\n",
    "\n",
    "#### Allgemeine Lösung\n",
    "Die allgemeine Lösung ist die Linearkombination aus spezieller Lösung und allgemeiner Lösung\n",
    "$$\\alpha = \\alpha_{hom} + \\alpha_{spez} = A \\sin (\\omega t) + B \\cos (\\omega t) + \\frac{D x_0}{m g + D L}.$$\n",
    "\n",
    "Wären nun noch Anfangsbedingungen gegeben, könnten die Konstanten $A$ und $B$ mit der allgemeinen Lösung bestimmt werden. "
   ]
  },
  {
   "cell_type": "code",
   "execution_count": null,
   "metadata": {
    "collapsed": true
   },
   "outputs": [],
   "source": []
  },
  {
   "cell_type": "markdown",
   "metadata": {},
   "source": [
    "b) Geben Sie die Schwingungsperiode $T$ und die Ruhelage $\\alpha_{R}$ als Funktion von $m$, $L$, $D$ und $x_{0}$ an.\n",
    "\n",
    "**Lösung:**\n",
    "\n",
    "Da die Schwingungsperiode mit der Kreisfrequenz über $T = \\frac{2\\pi}{\\omega}$ zusammenhängt, ist die Schwingungsperiode\n",
    "$$T = 2 \\pi \\sqrt{\\frac{m L}{m g + D }}.$$\n",
    "\n",
    "Die Ruhelage ist durch die spezielle Lösung gegeben und ist\n",
    "\n",
    "$$\\alpha_{R} = \\frac{D x_0}{m g + D L}.$$"
   ]
  },
  {
   "cell_type": "code",
   "execution_count": null,
   "metadata": {
    "collapsed": true
   },
   "outputs": [],
   "source": []
  },
  {
   "cell_type": "markdown",
   "metadata": {},
   "source": [
    "### Aufgabe 2\n",
    "\n",
    "Um die Masse eines Astronauten in einer Raumstation zu bestimmen, nutzen wir das folgende Verfahren:\n",
    "\n",
    "Zunächst wird ein Sitz der Masse $m_\\text{S}=12,5\\,\\text{kg}$ durch eine Feder (Federkonstante $k$) an eine Wand der Raumstation gekoppelt, so dass der Sitz harmonische Schwingungen ausführt. Die dabei beobachtete Periodendauer ist $T_{\\text{0,S}}= 0.35 \\,\\text{s}$.\n",
    "\n",
    "Anschließend wird ein Astronaut in den Sitz geschnallt und das System erneut in Schwingungen versetzt. Man misst nun eine Schwingungsdauer $T_\\text{0,S,A}=0,90\\,\\text{s}$.\n",
    "\n",
    "![Pendel mit Feder](./content/b7_a2_stuhl.jpg)\n",
    "\n",
    "a) Bestimmen Sie aus diesen Messwerten die Masse $m_A$ des Astronauten. Stellen Sie dazu am Anfang die Differentialgleichung der Schwingung auf. \n",
    "\n",
    "**Lösung:**\n",
    "Auf den Stuhl wirkt die Rückstellkraft der Feder:\n",
    "$$m \\ddot x = - k x.$$\n",
    "Die Differentialgleichung der Schwingung lautet\n",
    "$$ \\ddot x = - \\frac{k}{m} x.$$\n",
    "Somit ist die Kreisfrequenz $\\omega = \\frac{k}{m}$ und die Schwingungsperiode $T_0 = \\frac{2 \\pi}{\\omega} = 2 \\pi \\sqrt{\\frac{m}{k}}$.\n",
    "\n",
    "Wir stellen nun zwei Gleichungen auf, eine für die Schwingung des leeren Stuhls mit Masse $m_S$ und eine mit Astronauten mit Masse $m_A$ auf dem Stuhl:\n",
    "\n",
    " (I) $T_{0, S}^2 = (2\\pi)^2 \\frac{m_S}{k}$\n",
    " \n",
    "(II) $T_{0, SA}^2 = (2\\pi)^2 \\frac{m_S + m_A}{k}$\n",
    "\n",
    "Teilen wir Gleichung (II) durch Gleichung (I), erhalten wir\n",
    "$$ \\frac{T_{0, SA}^2}{T_{0, S}^2} = \\frac{m_S + m_A}{m_S}.$$\n",
    "\n",
    "Somit ist, wenn wir diese Gleichung nach $m_A$ auflösen, die Masse des Austronauten\n",
    "$$m_A = m_S \\left(\\frac{T_{0, SA}^2}{T_{0, S}^2} -1 \\right) = 70,2 \\, \\text{kg}.$$"
   ]
  },
  {
   "cell_type": "code",
   "execution_count": null,
   "metadata": {
    "collapsed": true
   },
   "outputs": [],
   "source": []
  },
  {
   "cell_type": "markdown",
   "metadata": {},
   "source": [
    "b) Ein Mitastronaut muss die Schwingung starten. Welche Arbeit $W$ muss er einmalig aufwenden, damit sich für eine ungedämpfte Schwingung eine Schwingungsamplitude $\\hat{y}=10\\, \\text{cm}$ einstellt?\n",
    "\n",
    "**Lösung:**\n",
    "Die Energie bei maximaler Auslenkung $x(t) = \\hat{x}_0$ ist nur die potentielle Energie, da an diesem Umkehrpunkt der Bewegung die kinetische Energie Null ist.\n",
    "\n",
    "Die nötige Arbeit steckt dann in der Feder und ist\n",
    "$$W = E_{\\text{pot}} = \\frac{1}{2} k \\hat{x}_0^2 = 20.2 \\, \\text{J}.$$\n",
    "\n",
    "Die Federkonstante ist $k = (2\\pi)^2 \\frac{m_S}{T_{0,s}^2} = 4.03 \\, \\text{kN/m}$.\n",
    "\n"
   ]
  },
  {
   "cell_type": "code",
   "execution_count": null,
   "metadata": {
    "collapsed": true
   },
   "outputs": [],
   "source": []
  },
  {
   "cell_type": "markdown",
   "metadata": {},
   "source": [
    "### Aufgabe 3\n",
    "\n",
    "Zwischen München und London soll zum schnellen Transport ein geradliniger Rohrtunnel gebaut werden, also nicht der Erdkrümmung folgend (siehe Abbildung). Der Transport von Containern soll dabei reibungsfrei erfolgen. Die geradlinige Entfernung zwischen London und München beträgt $900\\,\\text{km}$.\n",
    "\n",
    "![Skizze des Tunnels](./content/b7_a3_tunnel.jpg)\n",
    "\n",
    "\n",
    "a) Zeigen Sie, dass die in $x-$Richtung wirkende Komponente der Gravitationskraft gegeben ist durch\n",
    "$$ F_{G,x}=F_{G}(r)\\cdot\\sin(\\theta)=\\frac{GmM_{E}}{R_{E}^{3}}\\cdot r\\cdot\\frac{x}{r} $$\n",
    "**Hinweis:** Die Gravitationskraft am Ort $r<R_{E}$ vom Erdmittelpunkt entfernt beträgt:\n",
    "$$ F_{G}(r)=G\\frac{mM_{E}(r)}{r^{2}}=G\\frac{4}{3}\\rho_{E}\\pi rm $$\n",
    "\n",
    "Gehen Sie dabei von einer konstanten Dichte $\\rho_{E}$ der Erde aus. Betrachten Sie zunächst die am Ort $r<R_{E}$ wirkende Gravitation.\n",
    "\n",
    "b) Ermitteln Sie damit die Bewegungsgleichung des Containers in $x-$Richtung. Lösen Sie diese Bewegungsgleichung mit den Anfangsbedingungen $v(0)=0\\,\\text{m}/\\text{s}$ und $x(0)=-L/2$ (Start des Transports in München). Gehen Sie dabei davon aus, dass das Be- und Entladen des Containers in London und München vernachlässigbar ist.\n",
    "\n",
    "c) Welche Zeit $t_{D}$ benötigt der Transport (mit Anfangsgeschwindigkeit $v(0)=0\\,\\text{m}/\\text{s}$) von München nach London durch diesen Tunnel? Welche Höchstgeschwindigkeit $v_{max}$ wird dabei erreicht?"
   ]
  },
  {
   "cell_type": "code",
   "execution_count": null,
   "metadata": {
    "collapsed": true
   },
   "outputs": [],
   "source": []
  },
  {
   "cell_type": "markdown",
   "metadata": {},
   "source": [
    "### Aufgabe 4\n",
    "\n",
    "Wir betrachten ein Pendel, das aus einem masselosen Winkeleisen (Schenkellänge $r$) mit Zwischenwinkel $90^{\\circ}$ und zwei identischen Massenpunkten der Masse $m$ besteht, die an den Enden des Winkeleisens befestigt sind. Das Winkeleisen ist im Knick $(0,0,0)$ drehbar gelagert. \n",
    "\n",
    "![Skizze des starren Pendels](./content/b7_a4_starrespendel.jpg)\n",
    "\n",
    "a) Berechnen Sie das Gesamtdrehmoment in Abhängigkeit von dem in der Zeichnung angegebenen Winkel $\\alpha$. \n",
    "\n",
    "b) Stellen Sie die Bewegungsgleichung für das Pendel auf. Nehmen Sie dazu an, dass $\\alpha^\\prime= \\alpha-45^{\\circ}$. Zeigen Sie, dass für die Bewegungsgleichung gilt:\n",
    "\n",
    "$$\\ddot{\\alpha^\\prime} = -\\frac{g}{r\\sqrt{2}} \\sin \\alpha^\\prime$$\n",
    "\n",
    "b) Lösen Sie die Bewegungsgleichung analog zum mathematischen Pendel. Geben Sie die Frequenz $\\omega$ der Pendelschwingung an. (Kleinwinkelnäherung)\n",
    "\n",
    "**Hinweis:** Verwenden Sie die beiden [Additionstheoreme](https://de.wikipedia.org/wiki/Formelsammlung_Trigonometrie)\n",
    "$$ \\sin (x+y) = \\sin x \\cos y + \\sin y \\cos x  \\qquad \\cos (x+y)= \\cos x \\cos y - \\sin x \\sin y.$$\n",
    "\n"
   ]
  },
  {
   "cell_type": "code",
   "execution_count": null,
   "metadata": {
    "collapsed": true
   },
   "outputs": [],
   "source": []
  },
  {
   "cell_type": "markdown",
   "metadata": {},
   "source": [
    "### Aufgabe 5\n",
    "\n",
    "Eine Masse $m$ hänge an einer Feder mit Federkonstante $k$. Die Feder sei nicht ideal (Dämpfungskonstante $d$). Betrachten Sie den Schwingfall ($\\frac{k}{m}> (\\frac{d}{2m})^2$).\n",
    "\n",
    "a) Wie lautet die Differentialgleichung des Oszillators?\n",
    "\n",
    "b) Lösen Sie diese Differentialgleichung allgemein mit einem passenden Ansatz.\n",
    "\n",
    "c) Geben Sie die Frequenz $w_d$ und den Dämpfungskoeffizient $\\delta$ als Funktion von $k$, $m$ und $d$ an."
   ]
  },
  {
   "cell_type": "code",
   "execution_count": null,
   "metadata": {
    "collapsed": true
   },
   "outputs": [],
   "source": []
  },
  {
   "cell_type": "markdown",
   "metadata": {},
   "source": [
    "### Aufgabe 6\n",
    "\n",
    "Fluorwasserstoff ist ein 2atomiges Molekül, das man sich in erster Näherung als zwei durch eine Feder gekoppelte Massenpunkte vorstellen kann, die entlang ihrer Verbindungslinie schwingen können (siehe Skizze).\n",
    "\n",
    "![Skizze von Fluorwasserstoffmolekül](./content/b7_a6_fluorwasserstoff.jpg)\n",
    "\n",
    "Der Gleichgewichtsabstand der Atome beträgt $a=92$pm, ihre Massen sind $m_{H}=1.66\\cdot 10^{-27}\\,\\text{kg}$ bzw. $m_{F}=31.5\\cdot 10^{-27}\\,\\text{kg}$. Durch spektroskopische Untersuchungen stellt man fest, dass die lineare Schwingungsfrequenz des Systems $f=12.4\\cdot 10^{14}\\,\\text{Hz}$ beträgt. Stellen Sie die Bewegungsgleichungen für die Auslenkungen $x_{1}$ und $x_{2}$ der beiden punktförmig gedachten Atome aus ihren eingezeichneten Gleichgewichtslagen auf und berechnen Sie die Federkonstante $k$ der HF-Bindung indem Sie die 'Relativkoordinate' $r=x_{2}-x_{1}$ berechnen."
   ]
  },
  {
   "cell_type": "code",
   "execution_count": null,
   "metadata": {
    "collapsed": true
   },
   "outputs": [],
   "source": []
  }
 ],
 "metadata": {
  "kernelspec": {
   "display_name": "Python 3",
   "language": "python",
   "name": "python3"
  },
  "language_info": {
   "codemirror_mode": {
    "name": "ipython",
    "version": 3
   },
   "file_extension": ".py",
   "mimetype": "text/x-python",
   "name": "python",
   "nbconvert_exporter": "python",
   "pygments_lexer": "ipython3",
   "version": "3.5.2"
  }
 },
 "nbformat": 4,
 "nbformat_minor": 1
}
