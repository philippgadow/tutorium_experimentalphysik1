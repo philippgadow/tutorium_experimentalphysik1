{
 "cells": [
  {
   "cell_type": "markdown",
   "metadata": {},
   "source": [
    "![TUM Physik logo](./content/tumphysik.png)\n",
    "## Übungen zur Experimentalphysik 1\n",
    "### Blatt 7\n",
    "Author: Philipp Gadow (philipp@pgadow.de)"
   ]
  },
  {
   "cell_type": "markdown",
   "metadata": {},
   "source": [
    "### Aufgabe 1\n",
    "\n",
    "Die Masse $m$ eines idealen Pendels der Länge $L$ wird mit einer masselosen Feder mit Federkonstante $D$ verbunden. Am tiefsten Punkt des Pendels (d.h. bei $\\alpha=0$) wird die Feder um\n",
    "die Strecke $x_{0}$ aus ihrer Gleichgewichtslage eingedrückt.\n",
    "\n",
    "![Pendel mit Feder](./content/b7_a1_pendel.jpg)\n",
    "\n",
    "**Hinweis:** Nehmen Sie näherungsweise an, dass eine Auslenkung der Feder senkrecht zu ihrer Achse keine rücktreibende Kraft zur Folge hat, und vernachlässigen Sie Reibungseffekte. Das Pendel schwingt im Gravitationsfeld der Erde. Sie dürfen ebenfalls annehmen, dass $\\alpha<<1$. \n",
    "\n",
    "a) Stellen Sie die Bewegungsgleichung für die Pendelauslenkung $\\alpha$ auf. Zeigen Sie, dass im Fall kleiner Auslenkungen ($\\alpha<<1$) die allgemeine Lösung folgende Form hat:\n",
    "\n",
    "$$ \\alpha(t)=A\\sin(\\omega t)+B\\cos(\\omega t)+\\alpha_{R} $$\n",
    "\n",
    "b) Geben Sie die Schwingungsperiode $T$ und die Ruhelage $\\alpha_{R}$ als Funktion von $m$, $L$, $D$ und $x_{0}$ an."
   ]
  },
  {
   "cell_type": "code",
   "execution_count": null,
   "metadata": {
    "collapsed": true
   },
   "outputs": [],
   "source": []
  },
  {
   "cell_type": "markdown",
   "metadata": {},
   "source": [
    "### Aufgabe 2\n",
    "\n",
    "Um die Masse eines Astronauten in einer Raumstation zu bestimmen, nutzen wir das folgende Verfahren:\n",
    "\n",
    "Zunächst wird ein Sitz der Masse $m_\\text{S}=12,5\\,\\text{kg}$ durch eine Feder (Federkonstante $k$) an eine Wand der Raumstation gekoppelt, so dass der Sitz harmonische Schwingungen ausführt. Die dabei beobachtete Periodendauer ist $T_{\\text{0,S}}= 0.35 \\,\\text{s}$.\n",
    "\n",
    "Anschließend wird ein Astronaut in den Sitz geschnallt und das System erneut in Schwingungen versetzt. Man misst nun eine Schwingungsdauer $T_\\text{0,S,A}=0,90\\,\\text{s}$.\n",
    "\n",
    "![Pendel mit Feder](./content/b7_a2_stuhl.jpg)\n",
    "\n",
    "a) Bestimmen Sie aus diesen Messwerten die Masse $m_A$ des Astronauten. Stellen Sie dazu am Anfang die Differentialgleichung der Schwingung auf. \n",
    "\n",
    "b) Ein Mitastronaut muss die Schwingung starten. Welche Arbeit $W$ muss er einmalig aufwenden, damit sich für eine ungedämpfte Schwingung eine Schwingungsamplitude $\\hat{y}=10\\, \\text{cm}$ einstellt?"
   ]
  },
  {
   "cell_type": "code",
   "execution_count": null,
   "metadata": {
    "collapsed": true
   },
   "outputs": [],
   "source": []
  },
  {
   "cell_type": "markdown",
   "metadata": {},
   "source": [
    "### Aufgabe 3\n",
    "\n",
    "Zwischen München und London soll zum schnellen Transport ein geradliniger Rohrtunnel gebaut werden, also nicht der Erdkrümmung folgend (siehe Abbildung). Der Transport von Containern soll dabei reibungsfrei erfolgen. Die geradlinige Entfernung zwischen London und München beträgt $900\\,\\text{km}$.\n",
    "\n",
    "![Skizze des Tunnels](./content/b7_a3_tunnel.jpg)\n",
    "\n",
    "\n",
    "a) Zeigen Sie, dass die in $x-$Richtung wirkende Komponente der Gravitationskraft gegeben ist durch\n",
    "$$ F_{G,x}=F_{G}(r)\\cdot\\sin(\\theta)=\\frac{GmM_{E}}{R_{E}^{3}}\\cdot r\\cdot\\frac{x}{r} $$\n",
    "**Hinweis:** Die Gravitationskraft am Ort $r<R_{E}$ vom Erdmittelpunkt entfernt beträgt:\n",
    "$$ F_{G}(r)=G\\frac{mM_{E}(r)}{r^{2}}=G\\frac{4}{3}\\rho_{E}\\pi rm $$\n",
    "\n",
    "Gehen Sie dabei von einer konstanten Dichte $\\rho_{E}$ der Erde aus. Betrachten Sie zunächst die am Ort $r<R_{E}$ wirkende Gravitation.\n",
    "\n",
    "b) Ermitteln Sie damit die Bewegungsgleichung des Containers in $x-$Richtung. Lösen Sie diese Bewegungsgleichung mit den Anfangsbedingungen $v(0)=0\\,\\text{m}/\\text{s}$ und $x(0)=-L/2$ (Start des Transports in München). Gehen Sie dabei davon aus, dass das Be- und Entladen des Containers in London und München vernachlässigbar ist.\n",
    "\n",
    "c) Welche Zeit $t_{D}$ benötigt der Transport (mit Anfangsgeschwindigkeit $v(0)=0\\,\\text{m}/\\text{s}$) von München nach London durch diesen Tunnel? Welche Höchstgeschwindigkeit $v_{max}$ wird dabei erreicht?"
   ]
  },
  {
   "cell_type": "code",
   "execution_count": null,
   "metadata": {
    "collapsed": true
   },
   "outputs": [],
   "source": []
  },
  {
   "cell_type": "markdown",
   "metadata": {},
   "source": [
    "### Aufgabe 4\n",
    "\n",
    "Wir betrachten ein Pendel, das aus einem masselosen Winkeleisen (Schenkellänge $r$) mit Zwischenwinkel $90^{\\circ}$ und zwei identischen Massenpunkten der Masse $m$ besteht, die an den Enden des Winkeleisens befestigt sind. Das Winkeleisen ist im Knick $(0,0,0)$ drehbar gelagert. \n",
    "\n",
    "![Skizze des starren Pendels](./content/b7_a4_starrespendel.jpg)\n",
    "\n",
    "a) Berechnen Sie das Gesamtdrehmoment in Abhängigkeit von dem in der Zeichnung angegebenen Winkel $\\alpha$. \n",
    "\n",
    "b) Stellen Sie die Bewegungsgleichung für das Pendel auf. Nehmen Sie dazu an, dass $\\alpha^\\prime= \\alpha-45^{\\circ}$. Zeigen Sie, dass für die Bewegungsgleichung gilt:\n",
    "\n",
    "$$\\ddot{\\alpha^\\prime} = -\\frac{g}{r\\sqrt{2}} \\sin \\alpha^\\prime$$\n",
    "\n",
    "b) Lösen Sie die Bewegungsgleichung analog zum mathematischen Pendel. Geben Sie die Frequenz $\\omega$ der Pendelschwingung an. (Kleinwinkelnäherung)\n",
    "\n",
    "**Hinweis:** Verwenden Sie die beiden [Additionstheoreme](https://de.wikipedia.org/wiki/Formelsammlung_Trigonometrie)\n",
    "$$ \\sin (x+y) = \\sin x \\cos y + \\sin y \\cos x  \\qquad \\cos (x+y)= \\cos x \\cos y - \\sin x \\sin y.$$\n",
    "\n"
   ]
  },
  {
   "cell_type": "code",
   "execution_count": null,
   "metadata": {
    "collapsed": true
   },
   "outputs": [],
   "source": []
  },
  {
   "cell_type": "markdown",
   "metadata": {},
   "source": [
    "### Aufgabe 5\n",
    "\n",
    "Eine Masse $m$ hänge an einer Feder mit Federkonstante $k$. Die Feder sei nicht ideal (Dämpfungskonstante $d$). Betrachten Sie den Schwingfall ($\\frac{k}{m}> (\\frac{d}{2m})^2$).\n",
    "\n",
    "a) Wie lautet die Differentialgleichung des Oszillators?\n",
    "\n",
    "b) Lösen Sie diese Differentialgleichung allgemein mit einem passenden Ansatz.\n",
    "\n",
    "c) Geben Sie die Frequenz $w_d$ und den Dämpfungskoeffizient $\\delta$ als Funktion von $k$, $m$ und $d$ an."
   ]
  },
  {
   "cell_type": "code",
   "execution_count": null,
   "metadata": {
    "collapsed": true
   },
   "outputs": [],
   "source": []
  },
  {
   "cell_type": "markdown",
   "metadata": {},
   "source": [
    "### Aufgabe 6\n",
    "\n",
    "Fluorwasserstoff ist ein 2atomiges Molekül, das man sich in erster Näherung als zwei durch eine Feder gekoppelte Massenpunkte vorstellen kann, die entlang ihrer Verbindungslinie schwingen können (siehe Skizze).\n",
    "\n",
    "![Skizze von Fluorwasserstoffmolekül](./content/b7_a6_fluorwasserstoff.jpg)\n",
    "\n",
    "Der Gleichgewichtsabstand der Atome beträgt $a=92$pm, ihre Massen sind $m_{H}=1.66\\cdot 10^{-27}\\,\\text{kg}$ bzw. $m_{F}=31.5\\cdot 10^{-27}\\,\\text{kg}$. Durch spektroskopische Untersuchungen stellt man fest, dass die lineare Schwingungsfrequenz des Systems $f=12.4\\cdot 10^{14}\\,\\text{Hz}$ beträgt. Stellen Sie die Bewegungsgleichungen für die Auslenkungen $x_{1}$ und $x_{2}$ der beiden punktförmig gedachten Atome aus ihren eingezeichneten Gleichgewichtslagen auf und berechnen Sie die Federkonstante $k$ der HF-Bindung indem Sie die 'Relativkoordinate' $r=x_{2}-x_{1}$ berechnen."
   ]
  },
  {
   "cell_type": "code",
   "execution_count": null,
   "metadata": {
    "collapsed": true
   },
   "outputs": [],
   "source": []
  }
 ],
 "metadata": {
  "kernelspec": {
   "display_name": "Python 3",
   "language": "python",
   "name": "python3"
  },
  "language_info": {
   "codemirror_mode": {
    "name": "ipython",
    "version": 3
   },
   "file_extension": ".py",
   "mimetype": "text/x-python",
   "name": "python",
   "nbconvert_exporter": "python",
   "pygments_lexer": "ipython3",
   "version": "3.5.2"
  }
 },
 "nbformat": 4,
 "nbformat_minor": 1
}
