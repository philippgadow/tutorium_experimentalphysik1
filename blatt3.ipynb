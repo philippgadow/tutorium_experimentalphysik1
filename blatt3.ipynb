{
 "cells": [
  {
   "cell_type": "markdown",
   "metadata": {},
   "source": [
    "![TUM Physik logo](./content/tumphysik.png)\n",
    "## Übungen zur Experimentalphysik 1\n",
    "### Blatt 3\n",
    "Author: Philipp Gadow (philipp@pgadow.de)"
   ]
  },
  {
   "cell_type": "markdown",
   "metadata": {},
   "source": [
    "### Aufgabe 1\n",
    "Zeichnen Sie die wirkenden Kräfte für jeden der Fälle mit der korrekten Richtung und Länge der Pfeile.\n",
    "![Bild mit Kraftdiagrammen](./content/b3a1_kraefte.jpg)\n",
    "\n",
    "**Lösung:**\n",
    "\n",
    "Zur Vorgehensweise: Zuerst müssen wir uns überlegen, welche Kraft wirkt. Dies ist fast immer die Gravitationskraft oder eine Zentripetalkraft, die durch eine Seilspannung ausgeübt wird.\n",
    "Dann betrachten wir das Bild, ob sich der Affe bewegt oder in eine Richtung beschleunigt wird. Liegt keine Bewegung oder eine gleichförmige lineare Bewegung vor, dann liegt nach dem ersten Newtonschen Axium ein Kräftegleichgewicht vor.\n",
    "\n",
    "Also muss die Gravitationskraft durch eine ebensogroße Kraft in entgegengesetzte Richtung ausgeglichen werden. Diese Kraft setzt sich aus den Normalkräften der Oberflächen zusammen, deren Projektionen in Summe auf die Richtung der Achse, auf der die Gravitationskraft wirkt, ebenso groß sein müssen.\n",
    "\n",
    "![Lösung mit Kraftdiagrammen](./content/b3a1_kraefte_lsg.jpg)\n",
    "\n",
    "\n"
   ]
  },
  {
   "cell_type": "code",
   "execution_count": null,
   "metadata": {
    "collapsed": true
   },
   "outputs": [],
   "source": []
  }
 ],
 "metadata": {
  "kernelspec": {
   "display_name": "Python 3",
   "language": "python",
   "name": "python3"
  },
  "language_info": {
   "codemirror_mode": {
    "name": "ipython",
    "version": 3
   },
   "file_extension": ".py",
   "mimetype": "text/x-python",
   "name": "python",
   "nbconvert_exporter": "python",
   "pygments_lexer": "ipython3",
   "version": "3.5.2"
  }
 },
 "nbformat": 4,
 "nbformat_minor": 1
}
