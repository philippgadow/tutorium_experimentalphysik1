{
 "cells": [
  {
   "cell_type": "markdown",
   "metadata": {},
   "source": [
    "![TUM Physik logo](./content/tumphysik.png)\n",
    "## Übungen zur Experimentalphysik 1\n",
    "### Blatt 3\n",
    "Author: Philipp Gadow (philipp@pgadow.de)"
   ]
  },
  {
   "cell_type": "markdown",
   "metadata": {},
   "source": [
    "### Aufgabe 1\n",
    "Zeichnen Sie die wirkenden Kräfte für jeden der Fälle mit der korrekten Richtung und Länge der Pfeile.\n",
    "![Bild mit Kraftdiagrammen](./content/b3a1_kraefte.jpg)\n",
    "\n",
    "**Lösung:**\n",
    "\n",
    "Zur Vorgehensweise: Zuerst müssen wir uns überlegen, welche Kraft wirkt. Dies ist fast immer die Gravitationskraft oder eine Zentripetalkraft, die durch eine Seilspannung ausgeübt wird.\n",
    "Dann betrachten wir das Bild, ob sich der Affe bewegt oder in eine Richtung beschleunigt wird. Liegt keine Bewegung oder eine gleichförmige lineare Bewegung vor, dann liegt nach dem ersten Newtonschen Axium ein Kräftegleichgewicht vor.\n",
    "\n",
    "Also muss die Gravitationskraft durch eine ebensogroße Kraft in entgegengesetzte Richtung ausgeglichen werden. Diese Kraft setzt sich aus den Normalkräften der Oberflächen zusammen, deren Projektionen in Summe auf die Richtung der Achse, auf der die Gravitationskraft wirkt, ebenso groß sein müssen.\n",
    "\n",
    "![Lösung mit Kraftdiagrammen](./content/b3a1_kraefte_lsg.jpg)"
   ]
  },
  {
   "cell_type": "markdown",
   "metadata": {
    "collapsed": true
   },
   "source": [
    "### Aufgabe 2\n",
    "Ein Pickup-Wagen soll mit Hilfe zweier Seile in Richtung der x-Achse gezogen werden (siehe Abbildung). Dazu ist eine resultierende Kraft von $950\\,\\text{N}$ in axialer Richtung erforderlich.\n",
    "![Skizze des Autos mit Seilen](./content/b3_a2_auto.jpg)\n",
    "\n",
    "a) Setzt man $\\theta=50^{\\circ}$, wie groß ist dann $F_B$ zu wählen?\n",
    "\n",
    "b) Welcher optimale Wert ist für $\\theta$ zu wählen, damit $F_B$ möglichst gering wird?"
   ]
  },
  {
   "cell_type": "code",
   "execution_count": null,
   "metadata": {
    "collapsed": true
   },
   "outputs": [],
   "source": []
  },
  {
   "cell_type": "markdown",
   "metadata": {},
   "source": [
    "### Aufgabe 3\n",
    "Ihr Auto steckt in einem Schlammloch fest. Sie sind allein, haben aber ein langes starkes Seil bei sich. Da Sie die Physikvorlesung aufmerksam verfolgt haben, befestigen Sie ein Ende des Seils am Auto und das andere Ende an einem Baum. Nun ziehen Sie seitlich mit der Kraft $F_1$ an der Mitte des Seils, wie in der Abbildung dargestellt.\n",
    "\n",
    "![Skizze des Autos im Schlammloch](./content/b3_a3_auto.jpg)\n",
    "\n",
    "a) Welche Kraft übt das Seil auf das Auto aus, wenn der Winkel $\\alpha = 3^{\\circ}$ beträgt und Sie mit einer Kraft $F_1 = 400 \\, \\text{N}$ am Seil ziehen, ohne, dass sich das Auto bewegt?\n",
    "\n",
    "b) Bis zu welchem Winkel $\\alpha$ ist die auf das Auto wirkende Kraft größer als die von Ihnen ausgeübte Kraft $F_1$?"
   ]
  },
  {
   "cell_type": "code",
   "execution_count": null,
   "metadata": {
    "collapsed": true
   },
   "outputs": [],
   "source": []
  },
  {
   "cell_type": "markdown",
   "metadata": {},
   "source": [
    "### Aufgabe 4\n",
    "Wie groß ist die vom Seil auf den Schlitten ausgeübte Kraft $\\vec{T}$ (das Seil greift im Schwerpunkt des Schlittens an)?\n",
    "\n",
    "![Skizze Schlittens](./content/b3_a4_schlitten.jpg)"
   ]
  },
  {
   "cell_type": "code",
   "execution_count": null,
   "metadata": {
    "collapsed": true
   },
   "outputs": [],
   "source": []
  },
  {
   "cell_type": "markdown",
   "metadata": {},
   "source": [
    "### Aufgabe 5\n",
    "Wir unternehmen eine Spazierfahrt in einem Auto Ihrer Wahl mit Masse $m$.\n",
    "\n",
    "a) Ein Auto fährt durch eine ebene Kurve mit Radius $R$. Der Reibungskoeffizient zwischen den Reifen und der Straße beträgt $\\mu_{s}$. Was ist die maximale Geschwindigkeit $v_{max}$, mit der das Auto die Kurve durchfahren kann, ohne wegzurutschen?\n",
    "\n",
    "b) Das Auto fährt nun in eine geneigte Kurve ein: Wenn der Winkel dieser Kurve gut gewählt ist, dann ist keine Reibung  notwendig, um das Auto auf Kurs zu halten. Wie steil sollte die Kurve sein, damit dies der Fall ist?\n",
    "\n",
    "c) Angenommen, das Auto durchfährt die geneigte Kurve und es ist eine Reibung $\\mu_{s}$ vorhanden: Wie groß kann dann die maximale Geschwindigkeit sein, ohne dass das Auto rutscht? Wie kann man von diesem Ergebnis einfach auf die maximalen Geschwindigkeiten für die Fälle aus a) und b) schließen?"
   ]
  },
  {
   "cell_type": "code",
   "execution_count": null,
   "metadata": {
    "collapsed": true
   },
   "outputs": [],
   "source": []
  },
  {
   "cell_type": "markdown",
   "metadata": {},
   "source": [
    "### Aufgabe 6\n",
    "Betrachten Sie die in der folgenden Abbildung dargestellte Atwoodsche Fallmaschine im Schwerefeld $g$. \n",
    "![Atwoodsche Fallmaschine](./content/b3_a6_fallmaschine.jpg)\n",
    "Sie besteht aus zwei Massen, die durch einen Faden verbunden sind, der über eine reibungsfrei drehbare, masselose Rolle läuft. Berechnen Sie die Beschleunigungen der beiden Massen, die Spannung $T$ im Faden und die Kraft $F$, mit der die gesamte Anordnung an der Aufhängung zieht.\n",
    "Überprüfen Sie Ihre Endergebnisse durch Betrachtung von einfachen Spezialfällen, z.B. $m1 = m2$, $m1 =0$ oder $g=0$.\n"
   ]
  },
  {
   "cell_type": "code",
   "execution_count": null,
   "metadata": {
    "collapsed": true
   },
   "outputs": [],
   "source": []
  },
  {
   "cell_type": "markdown",
   "metadata": {},
   "source": [
    "### Mathematische Ergänzungen"
   ]
  },
  {
   "cell_type": "code",
   "execution_count": null,
   "metadata": {
    "collapsed": true
   },
   "outputs": [],
   "source": []
  }
 ],
 "metadata": {
  "kernelspec": {
   "display_name": "Python 3",
   "language": "python",
   "name": "python3"
  },
  "language_info": {
   "codemirror_mode": {
    "name": "ipython",
    "version": 3
   },
   "file_extension": ".py",
   "mimetype": "text/x-python",
   "name": "python",
   "nbconvert_exporter": "python",
   "pygments_lexer": "ipython3",
   "version": "3.5.2"
  }
 },
 "nbformat": 4,
 "nbformat_minor": 1
}
