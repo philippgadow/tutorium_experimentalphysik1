{
 "cells": [
  {
   "cell_type": "markdown",
   "metadata": {},
   "source": [
    "![TUM Physik logo](./content/tumphysik.png)\n",
    "## Übungen zur Experimentalphysik 1\n",
    "### Blatt 3\n",
    "Author: Philipp Gadow (philipp@pgadow.de)"
   ]
  },
  {
   "cell_type": "code",
   "execution_count": 13,
   "metadata": {
    "collapsed": true
   },
   "outputs": [],
   "source": [
    "# Vorbereitungen: importiere Python-Bibliotheken\n",
    "import math\n",
    "import numpy as np\n",
    "import matplotlib.pyplot as plt\n",
    "%matplotlib inline"
   ]
  },
  {
   "cell_type": "markdown",
   "metadata": {},
   "source": [
    "### Aufgabe 1\n",
    "Zeichnen Sie die wirkenden Kräfte für jeden der Fälle mit der korrekten Richtung und Länge der Pfeile.\n",
    "![Bild mit Kraftdiagrammen](./content/b3_a1_kraefte.jpg)\n",
    "\n",
    "**Lösung:**\n",
    "\n",
    "Zur Vorgehensweise: Zuerst müssen wir uns überlegen, welche Kraft wirkt. Dies ist fast immer die Gravitationskraft oder eine Zentripetalkraft, die durch eine Seilspannung ausgeübt wird.\n",
    "Dann betrachten wir das Bild, ob sich der Affe bewegt oder in eine Richtung beschleunigt wird. Liegt keine Bewegung oder eine gleichförmige lineare Bewegung vor, dann liegt nach dem ersten Newtonschen Axium ein Kräftegleichgewicht vor.\n",
    "\n",
    "Also muss die Gravitationskraft durch eine ebensogroße Kraft in entgegengesetzte Richtung ausgeglichen werden. Diese Kraft setzt sich aus den Normalkräften der Oberflächen zusammen, deren Projektionen in Summe auf die Richtung der Achse, auf der die Gravitationskraft wirkt, ebenso groß sein müssen.\n",
    "\n",
    "![Lösung mit Kraftdiagrammen](./content/b3_a1_kraefte_lsg.jpg)"
   ]
  },
  {
   "cell_type": "markdown",
   "metadata": {
    "collapsed": true
   },
   "source": [
    "### Aufgabe 2\n",
    "Ein Pickup-Wagen soll mit Hilfe zweier Seile in Richtung der x-Achse gezogen werden (siehe Abbildung). Dazu ist eine resultierende Kraft von $950\\,\\text{N}$ in axialer Richtung erforderlich.\n",
    "![Skizze des Autos mit Seilen](./content/b3_a2_auto.jpg)\n",
    "\n",
    "a) Setzt man $\\theta=50^{\\circ}$, wie groß ist dann $F_B$ zu wählen?\n",
    "\n",
    "**Lösung:** Das Auto soll sich nur in axiale Richtung, also in Richtung der $x$-Achse bewegen. Das bedeutet, dass die Kraft nur in $x$-Richtung angreifen soll und die $y$-Komponente der Kraft null sein muss. Mit dieser Information können wir zwei Gleichungen, eine für die $x$-Komponente der Gesamtkraft und eine für die $y$-Komponente der Gesamtkraft aufstellen. Sie lauten:\n",
    "\n",
    "$$F_x = F_A \\cos 20^{\\circ} + F_B \\cos (\\theta = 50^{\\circ}) = 950 \\,\\text{N},$$\n",
    "\n",
    "$$F_y = F_A \\sin 20^{\\circ} - F_B \\sin (\\theta = 50^{\\circ}) = 0.$$\n",
    "\n",
    "Durch Auflösen der zweiten Gleichung nach $F_A = F_B \\frac{\\sin 50^{\\circ}}{\\sin 20^{\\circ}}$ und Einsetzen in die erste Gleichung erhalten wir $F_B \\cdot \\left( \\frac{\\sin 50^{\\circ}}{\\sin 20^{\\circ}} \\cdot \\cos 20^{\\circ} + \\cos 50^{\\circ} \\right) = 950 \\, \\text{N}$.\n",
    "Somit ist $F_B = 345.77 \\, \\text{N}$.\n",
    "\n",
    "b) Welcher optimale Wert ist für $\\theta$ zu wählen, damit $F_B$ möglichst gering wird?\n",
    "\n",
    "**Lösung:** Der allgemeine Ausdruck für die Kraft $F_B$ für einen beliebigen Winkel $\\theta$ ist (mit ähnlicher Rechnung wie in Teilaufgabe a))\n",
    "$$F_B =  \\frac{950 \\, \\text{N}}{\\left( \\frac{\\sin 50^{\\circ}}{\\sin 20^{\\circ}} \\cdot \\cos 20^{\\circ} + \\cos 50^{\\circ} \\right)}.$$\n",
    "\n",
    "Um das Minimum dieses Ausdrucks zu Bestimmen, muss der Nenner des Bruchs maximal sein, da der Zähler ja konstant ist. Daher genügt es, den Nenner zu differenzieren und die Stelle des Extremums zu finden.\n",
    "\n",
    "Die Ableitung des Nenners lautet:\n",
    "$$\\frac{\\text{d}}{\\text{d}{\\theta}} \\left(\\frac{\\cos 20^{\\circ}}{\\sin 20^{\\circ}} \\cdot \\sin \\theta + \\cos \\theta \\right) = \\frac{\\cos 20^{\\circ}}{\\sin 20^{\\circ}} \\cdot \\cos \\theta - \\sin \\theta.$$\n",
    "\n",
    "Aus der notwendigen Bedingung für ein Extremum, dass diese gleich null sein solle, folgt\n",
    "$\\tan \\theta = \\frac{\\cos 20^{\\circ}}{\\sin 20^{\\circ}}$ und somit $\\theta = 70^{\\circ}$."
   ]
  },
  {
   "cell_type": "code",
   "execution_count": 7,
   "metadata": {
    "collapsed": false
   },
   "outputs": [
    {
     "name": "stdout",
     "output_type": "stream",
     "text": [
      "notwendige Kraft an Seil B: 345.77 N\n",
      "Winkel theta: 1.222 rad\n",
      "Winkel theta: 70.0 Grad\n"
     ]
    }
   ],
   "source": [
    "# Teilaufgabe a): Berechne die notwendige Kraft F_B\n",
    "dtr = math.pi / 180. # degree to radian conversion factor\n",
    "fb = 950 / (math.sin(50*dtr) / math.sin(20*dtr) * math.cos(20*dtr) + math.cos(50*dtr))\n",
    "print(\"notwendige Kraft an Seil B: {:.2f} N\".format(fb))\n",
    "\n",
    "# Teilaufgabe b): Ableitung des Nenners\n",
    "theta = math.atan(math.cos(20*dtr)/math.sin(20*dtr))\n",
    "print(\"Winkel theta: {:.3f} rad\".format(theta))\n",
    "print(\"Winkel theta: {:.1f} Grad\".format(theta/dtr))"
   ]
  },
  {
   "cell_type": "markdown",
   "metadata": {},
   "source": [
    "### Aufgabe 3\n",
    "Ihr Auto steckt in einem Schlammloch fest. Sie sind allein, haben aber ein langes starkes Seil bei sich. Da Sie die Physikvorlesung aufmerksam verfolgt haben, befestigen Sie ein Ende des Seils am Auto und das andere Ende an einem Baum. Nun ziehen Sie seitlich mit der Kraft $F_1$ an der Mitte des Seils, wie in der Abbildung dargestellt.\n",
    "\n",
    "![Skizze des Autos im Schlammloch](./content/b3_a3_auto.jpg)\n",
    "\n",
    "a) Welche Kraft übt das Seil auf das Auto aus, wenn der Winkel $\\alpha = 3^{\\circ}$ beträgt und Sie mit einer Kraft $F_1 = 400 \\, \\text{N}$ am Seil ziehen, ohne, dass sich das Auto bewegt?\n",
    "\n",
    "**Lösung:** Da sich das Auto nicht bewegt, muss ein Kräftegleichgewicht vorherrschen. Die Komponente der Kraft entlang der Verbindungslinie zwischen Baum und Auto ist null, da sich die entgegengesetzt gleich großen Zugkräfte auf beiden Seiten aufheben. Für die orthogonal zu dieser Richtung wirkenden Kräfte gilt bei Kräftegleichgewicht, dass $F_1 = 2 F_2 \\sin \\alpha$, wobei $F_2$ die am Auto/Baum ausgeübte Kraft ist. Somit ist $F_2 = \\frac{F_1}{2 \\sin (\\alpha = 3^{\\circ})} = 3821.46 \\, \\text{N}$.\n",
    "\n",
    "b) Bis zu welchem Winkel $\\alpha$ ist die auf das Auto wirkende Kraft größer als die von Ihnen ausgeübte Kraft $F_1$?\n",
    "\n",
    "**Lösung:** Es gilt $F_1 < F_2$ genau dann, wenn $2 \\sin \\alpha < 1$, also wenn $\\alpha < 30 ^{\\circ}$ (siehe Abbildung)."
   ]
  },
  {
   "cell_type": "code",
   "execution_count": 27,
   "metadata": {
    "collapsed": false
   },
   "outputs": [
    {
     "name": "stdout",
     "output_type": "stream",
     "text": [
      "F2: 3821.46 N\n"
     ]
    },
    {
     "data": {
      "image/png": "[encoded data removed]",
      "text/plain": [
       "<matplotlib.figure.Figure at 0x7f44b4800048>"
      ]
     },
     "metadata": {},
     "output_type": "display_data"
    }
   ],
   "source": [
    "# Teilaufgabe a):\n",
    "f1 = 400. # Newton\n",
    "f2 = f1 / (2*math.sin(3*math.pi/180.))\n",
    "print(\"F2: {:.2f} N\".format(f2))\n",
    "\n",
    "# Teilaufgabe b):\n",
    "# Zeichne die Kräfte und eine Diagonale\n",
    "\n",
    "def f_f1(f1, alpha):\n",
    "    return f1 +alpha - alpha\n",
    "\n",
    "def f_f2(f1, alpha):\n",
    "    return f1 / (2*np.sin(alpha*math.pi/180.))\n",
    "\n",
    "alpha = np.linspace(20,45,100)\n",
    "plt.xlabel('alpha [degree]')\n",
    "plt.ylabel('F [N]')\n",
    "plt.plot(alpha, f_f1(400.,alpha))\n",
    "plt.plot(alpha, f_f2(400.,alpha))\n",
    "plt.show()"
   ]
  },
  {
   "cell_type": "markdown",
   "metadata": {},
   "source": [
    "### Aufgabe 4\n",
    "Wie groß ist die vom Seil auf den Schlitten ausgeübte Kraft $\\vec{T}$ (das Seil greift im Schwerpunkt des Schlittens an)?\n",
    "\n",
    "![Skizze Schlittens](./content/b3_a4_schlitten.jpg)\n",
    "\n",
    "**Lösung:** Da der Schlitten mit *konstanter Geschwindigkeit* gezogen wird, muss ein Kräftegleichgewicht vorliegen, da andernfalls nach dem ersten Newtonschen Axiom eine Beschleunigung vorliegen würde. Im Kräftediagramm sieht die Situation folgendermaßen aus:\n",
    "\n",
    "![Kräftediagramm zum gezogenen Schlitten](./content/b3_a4_kraefte.jpg)\n",
    "\n",
    "Es wirken\n",
    "- Gewichtskraft $\\vec{F}_g = - mg \\vec{e}_y$\n",
    "- Seilspannung $\\vec{T}$\n",
    "- Normalkraft $\\vec{N}$\n",
    "- Reibungskraft $\\vec{f}_k$, mit $|\\vec{f}_k|$ = $\\mu \\cdot |\\vec{N}|$.\n",
    "\n",
    "Wir betrachten nun $x$- und $y$-Kompomenten der Kräfte getrennt:\n",
    "\n",
    "**$y$-Komponenten:**\n",
    "\n",
    "Aus der Erfahrung wissen wir, dass ein Schlitten allgemein nur eine Bewegungskomponente in $x$-Richtung hat und in den seltensten Fällen (wie z.B. am Weihnachtsabend) vom Erdboden abhebt oder gar durch den Erdboden sinkt. Das bedeutet, dass die Komponente der Gesamtkraft in $y$-Richtung insgesamt null sein muss.\n",
    "\n",
    "Somit gilt: \n",
    "$$N_y + T_y + F_{g, y} = 0.$$\n",
    "Da die Normalkraft (daher der Name) normal zu der Oberfläche, über die der Schlitten gezogen wird, wirkt, hat sie nur eine $y$- Komponente, also $N_y = N$. Ebenso wirkt die Erdbeschleunigung in negative $y$-Richtung, also $F_{g, y} = - mg$.  Die $y$-Komponente der Seilspannung ist $T_y = T \\sin \\phi$.\n",
    "\n",
    "Die Normalkraft ist damit $N = mg - T \\sin \\phi$.\n",
    "\n",
    "**$x$-Komponenten:**\n",
    "\n",
    "Nun können wir die x-Komponente der Bewegung betrachten. Hier gilt für das Kräftegleichgewicht, dass\n",
    "$$f_{k, x} + T_x = 0.$$\n",
    "\n",
    "Die Reibungskraft ist der Bewegungsrichtung entgegengesetzt, sie wirkt also ausschließlich in negative $x$-Richtung, somit gilt $f_{k, x} = - \\mu N = - \\mu \\cdot (mg - T \\sin \\phi)$.\n",
    "Die $x$-Komponente der Seilspannung ist $T_x = T \\cos \\phi$.\n",
    "\n",
    "Somit gilt\n",
    "$$T \\cos \\phi = \\mu \\cdot (mg - T \\sin \\phi).$$\n",
    "\n",
    "Diese Gleichung gilt es nach T aufzulösen:\n",
    "$$T (\\cos \\phi + \\mu \\cdot \\sin \\phi) = \\mu \\cdot mg.$$\n",
    "\n",
    "Somit ist $T = \\frac{\\mu \\cdot mg}{(\\cos \\phi + \\mu \\cdot \\sin \\phi)} = 90.83 \\text{N}$."
   ]
  },
  {
   "cell_type": "code",
   "execution_count": 38,
   "metadata": {
    "collapsed": false
   },
   "outputs": [
    {
     "name": "stdout",
     "output_type": "stream",
     "text": [
      "T: 90.83 N\n"
     ]
    },
    {
     "data": {
      "image/png": "[encoded data removed]",
      "text/plain": [
       "<matplotlib.figure.Figure at 0x7f44b4a20438>"
      ]
     },
     "metadata": {},
     "output_type": "display_data"
    }
   ],
   "source": [
    "# Berechne numerisches Ergebnis\n",
    "mu = 0.1\n",
    "phi = 42 * math.pi/180.\n",
    "m = 75 #kg\n",
    "g = 9.81\n",
    "\n",
    "T = (mu*m*g)/(math.cos(phi) + mu* math.sin(phi))\n",
    "print(\"T: {:.2f} N\".format(T))\n",
    "\n",
    "# Zeichne allgemein Abhängigkeit der Kraft vom Winkel\n",
    "def T(phi):\n",
    "    phi_rad = phi * math.pi/180.\n",
    "    return (mu*m*g)/(np.cos(phi_rad) + mu* np.sin(phi_rad))\n",
    "\n",
    "phi = np.linspace(0,90., 900)\n",
    "plt.xlabel('phi [degree]')\n",
    "plt.ylabel('F [N]')\n",
    "plt.plot(phi, T(phi))\n",
    "plt.show()"
   ]
  },
  {
   "cell_type": "markdown",
   "metadata": {},
   "source": [
    "### Aufgabe 5\n",
    "Wir unternehmen eine Spazierfahrt in einem Auto Ihrer Wahl mit Masse $m$.\n",
    "\n",
    "| ebene Kurve | geneigte Kurve |\n",
    "| ----------- | -------------- |\n",
    "| ![Auto durchfährt gerade Kurve](./content/b3_a5_gerade.jpg) | ![Auto durchfährt gerade Kurve](./content/b3_a5_schief.jpg) |\n",
    "\n",
    "\n",
    "\n",
    "a) Ein Auto fährt durch eine ebene Kurve mit Radius $R$. Der Reibungskoeffizient zwischen den Reifen und der Straße beträgt $\\mu_{s}$. Was ist die maximale Geschwindigkeit $v_{max}$, mit der das Auto die Kurve durchfahren kann, ohne wegzurutschen?\n",
    "\n",
    "**Lösung:** Die Radialbeschleunigung des Autos ist $a_{\\text{rad}} = \\frac{v^2}{R}$.\n",
    "\n",
    "Wir zerlegen die Kräfte des Autos in $x$- und $y$-Komponenten, wie in der Zeichnung dargestellt.\n",
    "\n",
    "In $y$-Richtung wirken die Gravitationskraft und die Normalkraft der Oberfläche der Straße. Da das Auto weder einsinkt noch fliegt, müssen sich diese gegenseitig aufheben. Somit gilt\n",
    "$ N + F_g = 0 $, also ist $N = mg$.\n",
    "\n",
    "In $x$-Richtung wirkt die Reibungskraft $F_R = \\mu N = \\mu mg$ als Zentripetalkraft $F_z = m a_{\\text{rad}}$. Damit das Auto nicht aus der Kurve fällt muss gelten:\n",
    "\n",
    "$$ m \\frac{v^2}{R} = \\mu mg $$.\n",
    "\n",
    "Somit ist die Maximalgeschwindigkeit $v = \\sqrt{\\mu g R}$.\n",
    "\n",
    "b) Das Auto fährt nun in eine geneigte Kurve ein: Wenn der Winkel dieser Kurve gut gewählt ist, dann ist keine Reibung  notwendig, um das Auto auf Kurs zu halten. Wie steil sollte die Kurve sein, damit dies der Fall ist?\n",
    "\n",
    "**Lösung:** Ist die Kurve nicht eben, so hat die Normalkraft auch eine horizontale Komponente, da sie ja immer senkrecht auf der Oberfläche steht.\n",
    "\n",
    "Für das Kräftegleichgewicht gilt nun für die y-Komponente:\n",
    "$$ N \\cos \\gamma - mg = 0 ,$$\n",
    "Für die $x$-Komponente gilt (angenommen, dass der Reibungsterm wie laut Aufgabentext gefordert null ist):\n",
    "$$ N \\sin \\gamma = m a_{\\text{rad}} .$$\n",
    "\n",
    "Somit gilt für die Normalkraft (mit der ersten Gleichung) $N = \\frac{mg}{\\cos \\gamma}$.\n",
    "Dies können wir nun in die zweite Gleichung einsetzen, sodass für den Winkel $\\gamma$ gelten muss, dass\n",
    "$\\tan \\gamma = \\frac{a_{\\text{rad}}}{g} = \\frac{v^2}{gR}$.\n",
    "\n",
    "c) Angenommen, das Auto durchfährt die geneigte Kurve und es ist eine Reibung $\\mu_{s}$ vorhanden: Wie groß kann dann die maximale Geschwindigkeit sein, ohne dass das Auto rutscht? Wie kann man von diesem Ergebnis einfach auf die maximalen Geschwindigkeiten für die Fälle aus a) und b) schließen?\n",
    "\n",
    "Für den Fall, bei dem die geneigte Kurve auch mit Reibung betrachtet werden soll, gilt für das Kräftegleichgewicht in Komponenten:\n",
    "\n",
    "y-Komponente:\n",
    "$$ N \\cos \\gamma -  N \\mu \\sin \\gamma - mg = 0 ,$$\n",
    "$x$-Komponente:\n",
    "$$m \\frac{v^2}{R} =  N \\sin \\gamma + \\mu N \\cos \\gamma.$$\n",
    "\n",
    "Aufgelöst nach $v$ folgt\n",
    "\n",
    "$$v_{\\text{max}} = \\sqrt{\\frac{Rg(\\sin \\gamma + \\mu \\cos \\gamma)}{\\cos \\gamma - \\mu \\sin \\gamma}}.$$\n",
    "\n",
    "Aus dieser Gleichung lassen sich leicht die Spezialfälle aus a) und b) erhalten, indem man entweder $\\mu = 0$ oder $\\gamma = 0$ setzt."
   ]
  },
  {
   "cell_type": "markdown",
   "metadata": {},
   "source": [
    "### Aufgabe 6\n",
    "Betrachten Sie die in der folgenden Abbildung dargestellte Atwoodsche Fallmaschine im Schwerefeld $g$. \n",
    "![Atwoodsche Fallmaschine](./content/b3_a6_fallmaschine.jpg)\n",
    "Sie besteht aus zwei Massen, die durch einen Faden verbunden sind, der über eine reibungsfrei drehbare, masselose Rolle läuft. Berechnen Sie die Beschleunigungen der beiden Massen, die Spannung $T$ im Faden und die Kraft $F$, mit der die gesamte Anordnung an der Aufhängung zieht.\n",
    "Überprüfen Sie Ihre Endergebnisse durch Betrachtung von einfachen Spezialfällen, z.B. $m1 = m2$, $m1 =0$ oder $g=0$.\n",
    "\n",
    "**Lösung:** \n",
    "Wir definieren als Koordinatensysteme jeweils eine Bewegungsachse $x_1$ und $x_2$ für jede Rolle, deren positive Richtung zum Boden hin zeigt. Dann lauten die Bewegungsgleichungen des Systems\n",
    "\n",
    "$$ \\ddot x_1 = m_1 g - T $$\n",
    "$$ \\ddot x_2 = m_2 g - T $$\n",
    "\n",
    "Da die Seillänge insgesamt konstant ist, also $x_1 + x_2 = \\text{const}$, gilt zusätzlich noch\n",
    "$$ \\ddot x_1 = - \\ddot x_2 .$$\n",
    "\n",
    "Aus diesen drei Gleichungen folgt durch Einsetzen der ersten beiden in die dritte:\n",
    "\n",
    "$$ g - \\frac{T}{m_1} + g - \\frac{T}{m_2} = 0,$$\n",
    "\n",
    "und mit etwas umformen\n",
    "$$ 2g  = \\left( \\frac{m_1 + m_2}{m_1 \\cdot m_2} \\right) \\, T .$$\n",
    "\n",
    "Somit ist die Seilspannung $T = \\left( \\frac{ 2g \\cdot m_1 \\cdot m_2}{m_1 + m_2} \\right)$.\n",
    "\n",
    "Die Kraft an der Aufhängung ist zwei mal die Seilspannung $F = 2T = \\left( \\frac{ 4g \\cdot m_1 \\cdot m_2}{m_1 + m_2} \\right)$.\n",
    "\n",
    "Setzen wir $T$ in erste und zweite Bewegungsgleichung, so erhalten wir die Beschleunigungen der Massen\n",
    "\n",
    "$$ x_1 = \\frac{m_1 - m_2}{m_1 + m_2} \\, g,$$\n",
    "$$ x_2 = \\frac{m_2 - m_1}{m_1 + m_2} \\, g.$$\n",
    "\n",
    "Für den Spezialfall $m_1 = m_2 = m$ stellen wir fest, dass die Massen nicht beschleunigt werden, also ein Kräftegleichgewicht vorherrscht. Die Seilspannung ist genau der Gravitationskraft entgegengesetzt gleich groß $ |T| =  m g$ und die Kraft auf die Aufhängung entspricht der der beiden Massen $F = 2 m g$.\n",
    "\n",
    "Für den Spezialfall $m_1 = 0$ ist die Beschleunigung von $m_1$ nur durch $m_2$ bestimmt und negativ, also nach oben hin beschleunigt. Entsprechend umgekehrt ist die Beschleunigung von $m_2$, wobei diese Masse frei mit der Erdbeschleunigung $g$ fällt. Die Seilspannung ist $T = 0$, ebenso wie die Kraft auf die Aufhängung $F= 0$.\n",
    "\n",
    "Wenn $g=0$ ist, so bleibt das System in Ruhe, denn dann sind sowohl $F, T, \\ddot x_1$, als auch $\\ddot x_2$ gleich null."
   ]
  },
  {
   "cell_type": "markdown",
   "metadata": {},
   "source": [
    "### Mathematische Ergänzungen\n",
    "\n",
    "Die relativistische Energie-Impuls-Beziehung lautet\n",
    "\n",
    "$$ E^2 = m^2 c^4 + p^2 c^2 $$\n",
    "\n",
    "a) Entwickeln Sie $E(p)$ in eine Taylor-Reihe um $p=0$.\n",
    "\n",
    "**Lösung** \n",
    "Wir ziehen die Wurzel aus $E$ und klammern den Term $mc^2$ aus:\n",
    "$$ E = \\sqrt{m^2 c^4 + p^2 c^2} = m c^2 \\cdot \\sqrt{1 + \\left(\\frac{p}{mc}\\right)^2}.$$\n",
    "\n",
    "Diesen Ausdruck können wir nun als [Taylor-Entwicklung](https://de.wikipedia.org/wiki/Taylorreihe) schreiben.\n",
    "\n",
    "Das Ergebnis lautet: $E = m c^2 \\left( 1 + \\frac{1}{2} \\frac{p^2}{m^2 c^2} + O(p^4) \\right)$\n",
    "\n",
    "b) Was gilt für $p << mc$?\n",
    "\n",
    "**Lösung:**\n",
    "Im sog. klassischen Grenzfall erhalten wir die bekannte Gleichung für die kinetische Energie zurück mit einem zusätzlichen Term, welcher die Ruheneergie eines Systems beschreibt.\n",
    "\n",
    "$$ E \\approx mc^2 + \\frac{p^2}{2m} = mc^2 + \\frac{m}{2} v^2 .$$"
   ]
  },
  {
   "cell_type": "code",
   "execution_count": null,
   "metadata": {
    "collapsed": true
   },
   "outputs": [],
   "source": []
  }
 ],
 "metadata": {
  "kernelspec": {
   "display_name": "Python 3",
   "language": "python",
   "name": "python3"
  },
  "language_info": {
   "codemirror_mode": {
    "name": "ipython",
    "version": 3
   },
   "file_extension": ".py",
   "mimetype": "text/x-python",
   "name": "python",
   "nbconvert_exporter": "python",
   "pygments_lexer": "ipython3",
   "version": "3.5.2"
  }
 },
 "nbformat": 4,
 "nbformat_minor": 1
}
