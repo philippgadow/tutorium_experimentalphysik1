{
 "cells": [
  {
   "cell_type": "markdown",
   "metadata": {},
   "source": [
    "![TUM Physik logo](content/tumphysik.png)\n",
    "## Übungen zur Experimentalphysik 1\n",
    "### Blatt 1\n",
    "Author: Philipp Gadow (philipp@pgadow.de)"
   ]
  },
  {
   "cell_type": "code",
   "execution_count": 2,
   "metadata": {
    "collapsed": false
   },
   "outputs": [],
   "source": [
    "# Vorbereitung: importiere python packages\n",
    "import math\n",
    "import numpy as np\n",
    "import sympy\n",
    "from sympy import symbols, simplify, factor, I\n",
    "from sympy.physics.mechanics import ReferenceFrame\n",
    "import matplotlib.pyplot as plt\n",
    "%matplotlib inline"
   ]
  },
  {
   "cell_type": "markdown",
   "metadata": {},
   "source": [
    "### Aufgabe 1\n",
    "a) Sie haben in der Vorlesung das [Sekundenpendel](https://de.wikipedia.org/wiki/Sekundenpendel) gesehen (l = 0,994m, m = 300g) und beschließen ein Sekundenpendel (eine halbe Periode entspricht einer Sekunde) auf dem Mond zu bauen. Wie muss dieses Pendel beschaffen sein?\n",
    "\n",
    "**Antwort**: Das Pendel muss kürzer sein, da die Rückstellkraft, die auf das Pendel wegen der verringerten Anziehung auf dem Mond wirkt, geringer ist. Um wie viel kürzer das Pendel sein muss, werden wir jetzt berechnen:\n",
    "Es gilt für die Schwingungsdauer eines Fadenpendels $T = 2 \\pi \\sqrt{\\frac{l}{g}}$, wobei $l$ die Fadenlänge und $g$ die Schwerebeschleunigung, die auf der Erde $g = G\\frac{M_{\\text{Erde}}}{R_{\\text{Erde}}^2} = 9.81 \\text{m}\\text{s}^{-2}$ beträgt und sich aus Gravitationskonstante $G$, Erdradius $R_{\\text{Erde}}$ und Erdmasse $m_{\\text{Erde}}$ zusammensetzt.\n",
    "Die Schwerebeschleunigung auf dem Mond beträgt $g_{\\text{Mond}} = G\\frac{M_{\\text{Mond}}}{R_{\\text{Mond}}^2}$.\n",
    "Somit können wir die Länge des Seils mit der geforderten Schwingungsdauer von $2\\,\\text{s}$ (hin und zurück) berechnen."
   ]
  },
  {
   "cell_type": "code",
   "execution_count": 2,
   "metadata": {
    "collapsed": false
   },
   "outputs": [
    {
     "name": "stdout",
     "output_type": "stream",
     "text": [
      "Schwerebeschleuningung der Erde: 9.82 m/s^(-2)\n",
      "Schwerebeschleuningung des Monds: 1.63 m/s^(-2)\n",
      "Länge Sekundenpendel auf der Erde: 0.99 m\n",
      "Länge Sekundenpendel auf dem Mond: 0.16 m\n"
     ]
    }
   ],
   "source": [
    "# Definiere Konstanten und Größen\n",
    "G = 6.67408 * 10**(-11) # in m**3 kg**(-1) s**(-2)\n",
    "m_earth = 5.972 * 10**24 # in kg\n",
    "r_earth = 6371000 # in m\n",
    "m_moon = 7.348 * 10**22 # in kg\n",
    "r_moon = 1737000 # in m\n",
    "\n",
    "# Berechne Schwerebeschleunigungen\n",
    "g_earth = G * m_earth / (r_earth**2)\n",
    "g_moon  = G * m_moon / (r_moon**2)\n",
    "\n",
    "print('Schwerebeschleuningung der Erde: {:.2f} m/s^(-2)'.format(g_earth)) # mehr Informationen zu format:\n",
    "print('Schwerebeschleuningung des Monds: {:.2f} m/s^(-2)'.format(g_moon)) # http://pyformat.info\n",
    "\n",
    "# Berechne Pendellängen\n",
    "def length(T,g):\n",
    "    return (T**2 * g)/((2. * math.pi)**2)\n",
    "                     \n",
    "l_earth = length(2., g_earth)\n",
    "l_moon = length(2., g_moon)\n",
    "print('Länge Sekundenpendel auf der Erde: {:.2f} m'.format(l_earth))\n",
    "print('Länge Sekundenpendel auf dem Mond: {:.2f} m'.format(l_moon))"
   ]
  },
  {
   "cell_type": "markdown",
   "metadata": {},
   "source": [
    "b) Beflügelt von ihrem Erfolg wollen sie das Gleiche auf dem Mars machen. Da der Marstag\n",
    "nur um 41 Minuten länger ist als ein Erdtag wollen Sie nicht innerlich die ganze Zeit\n",
    "umrechnen und bauen ihr Pendel so, dass es Marssekunden anzeigen soll (ein $\\frac{1}{24\\cdot60\\cdot60}$)-tel\n",
    "eines Marstages).\n",
    "\n",
    "**Antwort**: Wir berechnen den Faktor, um wie viel eine Marssekunde länger ist als eine Erdsekunde.\n",
    "Dann müssen wir noch die Schwerebeschleunigung auf dem Mars berechnen und können dann wie vorher die Fadenlänge berechnen."
   ]
  },
  {
   "cell_type": "code",
   "execution_count": 3,
   "metadata": {
    "collapsed": false
   },
   "outputs": [
    {
     "name": "stdout",
     "output_type": "stream",
     "text": [
      "Faktor m_mars/m_erde: 1.03\n",
      "Schwerebeschleuningung des Mars: 3.71 m/s^(-2)\n",
      "Länge Marssekundenpendel auf der Mars: 0.39 m\n"
     ]
    }
   ],
   "source": [
    "# Berechne Faktor, um wie viel Marssekunde länger ist als Erdsekunde\n",
    "a = (24*60 + 41)/(24*60)\n",
    "print('Faktor m_mars/m_erde: {:.2f}'.format(a))\n",
    "\n",
    "\n",
    "# Definiere Konstanten und Größen\n",
    "G = 6.67408 * 10**(-11) # in m**3 kg**(-1) s**(-2)\n",
    "m_mars = 6.39 * 10**23  # in kg\n",
    "r_mars = 3390000 # in m\n",
    "\n",
    "# Berechne Schwerebeschleunigungen\n",
    "g_mars  = G * m_mars / (r_mars**2)\n",
    "\n",
    "print('Schwerebeschleuningung des Mars: {:.2f} m/s^(-2)'.format(g_mars))\n",
    "\n",
    "# Berechne Pendellänge\n",
    "l_mars = a * length(2., g_mars)\n",
    "print('Länge Marssekundenpendel auf der Mars: {:.2f} m'.format(l_mars))\n"
   ]
  },
  {
   "cell_type": "markdown",
   "metadata": {},
   "source": [
    "c) Was zeigt ihr Marspendel zurück auf der Erde für eine Zeitspanne an?\n",
    "\n",
    "**Antwort**: Wir setzen für eine Schwingung hin (also eine halbe Periode) die Länge des Pendels, die wir eben berechnet haben und die Schwerebeschleunigung auf der Erde ein. Für eine ganze Periode, also zwei Schwingungen ist die Lösung natürlich die doppelte Zeit."
   ]
  },
  {
   "cell_type": "code",
   "execution_count": 4,
   "metadata": {
    "collapsed": false
   },
   "outputs": [
    {
     "name": "stdout",
     "output_type": "stream",
     "text": [
      "Schwingungsdauer eine Schwingung 0.62\n",
      "Periodendauer 1.25\n"
     ]
    }
   ],
   "source": [
    "T_2 = 1/2 *2 * math.pi * math.sqrt(l_mars / g_earth)\n",
    "T = 2 * math.pi * math.sqrt(l_mars / g_earth)\n",
    "print('Schwingungsdauer eine Schwingung {:.2f}'.format(T_2))\n",
    "print('Periodendauer {:.2f}'.format(T))"
   ]
  },
  {
   "cell_type": "markdown",
   "metadata": {},
   "source": [
    "### Aufgabe 2\n",
    "Für die Altersbestimmung lebender Substanzen wird die sogenannte [$\\text{C}^{14}$-Methode](https://de.wikipedia.org/wiki/Radiokarbonmethode) verwendet. Lebende Substanzen enthalten vom Isotop $\\text{C}^{14}$ ein Atom auf $9.3 \\cdot 10^{11}$ $\\text{C}^{12}$-Atome. $\\text{C}^{14}$ zerfällt mit einer [Halbwertszeit](https://de.wikipedia.org/wiki/Halbwertszeit) von ungefähr $5.5 \\cdot 10^3$ Jahren. Bei der Verbrennung eines archäologischen Fundes wird $\\text{C}\\text{O}_{2}$ aufgefangen und aufbereitet zur Füllung eines Zählrohrs. Dabei geht kein Kohlenstoff verloren. Messungen ergeben, dass pro Minute $8.2$ $\\text{C}^{14}$-Zerfälle im Zählrohr stattfinden. Wie alt ist das Fundstück? $\\text{C}\\text{O}_{2}$-Menge: $n = 0.071\\,\\text{mol}$ $\\text{C}\\text{O}_{2}$.\n",
    "\n",
    "**Antwort**: Wir berechnen zuerst die Anzahl der $\\text{C}^{12}$-Atome in dem Fundstück, indem wir die Anzahl der $\\text{C}\\text{O}_{2}$-Moleküle berechnen, in denen ja genau ein C-Atom vorhanden ist. Dann berechnen wir mit dem angegebenen Verhältnis die Anzahl der $\\text{C}^{14}$ Atome damals im lebenden Zustand.\n",
    "\n",
    "Die heute noch vorhandene Anzahl von $\\text{C}^{14}$-Atomen ergibt sich nach dem Zerfallsgesetz, das wir als Differentialgleichung formulieren,\n",
    "$$\\frac{\\text{d}N}{\\text{d}t} = - \\lambda N.$$\n",
    "Die Lösung ist dieses Typs von Differentialgleichung ist eine Exponentialfunktion $N(t) = N_0 \\exp{(-\\lambda t)}$.\n",
    "\n",
    "Die Zerfallskonstante lässt sich aus der Halbwertszeit $T_{1/2}$ berechnen als $\\lambda = \\frac{\\ln{2}}{T_{1/2}}$.\n",
    "Damit können wir nach dem Zerfallsgesetz das Alter des Fundstücks berechnen, da wir die Anzahl der $\\text{C}^{14}$-Atome im lebenden Zustand kennen."
   ]
  },
  {
   "cell_type": "code",
   "execution_count": 5,
   "metadata": {
    "collapsed": false
   },
   "outputs": [
    {
     "name": "stdout",
     "output_type": "stream",
     "text": [
      "Anzahl der C14-Atome heute: 34221874755.14\n",
      "Alter der Probe: 2342.70 Jahre\n"
     ]
    }
   ],
   "source": [
    "# Definiere Konstanten und Größen\n",
    "N_A = 6.022140857e23 # in 1/mol, Avogadro-Konstante\n",
    "\n",
    "# gesamte Menge CO2 in Fundstück\n",
    "n_CO2 = 0.071 # in mol\n",
    "N_CO2 = n_CO2 * N_A # Anzahl CO2-Moleküle = Anzahl C-Atome\n",
    "\n",
    "# Anzahl der C14-Atome damals im lebenden Zustand\n",
    "ratio_C14_to_C12 = 1. / 9.3e11\n",
    "N0= N_CO2 * ratio_C14_to_C12\n",
    "\n",
    "# Zerfallsgesetz\n",
    "def decay(N0, decay_constant, t):\n",
    "    return N0 * math.exp(-decay_constant * t)\n",
    "\n",
    "# Berechne Zerfallskonstante aus Halbwertszeit\n",
    "T_12 = 5.5e3 * 365.25 * 24 * 60**2 # in s\n",
    "decay_constant = math.log(2) / T_12 # in 1/s\n",
    "\n",
    "# berechne Anzahl der C14-Atome jetzt aus gemessener Zerfallsrate\n",
    "decay_rate = 8.2 / 60 # Zerfälle pro Sekunde\n",
    "N = decay_rate / decay_constant\n",
    "\n",
    "print('Anzahl der C14-Atome heute: {:.2f}'.format(N))\n",
    "\n",
    "# berechne Alter der Probe\n",
    "t = math.log(N0 / N) / decay_constant # in s\n",
    "t /= (365.25 * 24 * 60**2) # in y\n",
    "\n",
    "print('Alter der Probe: {:.2f} Jahre'.format(t))"
   ]
  },
  {
   "cell_type": "markdown",
   "metadata": {},
   "source": [
    "### Aufgabe 3\n",
    "\n",
    "Benutzen Sie die [Dimensionsanalyse](https://de.wikipedia.org/wiki/Dimensionsanalyse#Beispiele), um zu ermitteln, inwiefern die Auftriebskraft pro Spannweitenlänge (siehe Abbildung) eines Flugzeugflügels mit Breite $L$ eine Funktion von $L$, der Fluggeschwindigkeit $v$ und der Luftdichte $\\rho$ ist.\n",
    "\n",
    "![Skizze Flugzeug](content/b1_a3_flugzeug.jpg)\n",
    "\n",
    "**Antwort**: Dimensionsanalyse der beteiligten Größen\n",
    "\n",
    "Beteiligte Parameter              | Notation                      | Größen            | Grundgrößen\n",
    "--------------------------------- | ----------------------------  | ----------------- |----------------------\n",
    "Auftriebskraft / Spannweitenlänge | $\\frac{\\text{d}F}{\\text{d}s}$ | Kraft / Länge     | M / T$^2$\n",
    "Flügelbreite                      | $ L $                         | Länge             | L\n",
    "Fluggeschwindigkeit               | $ v $                         | Geschwindigkeit   | L / T\n",
    "Luftdichte                        | $\\rho$                        | Gewicht / Volumen | M / L$^3$\n",
    "\n",
    "Wir machen den Ansatz, dass die Auftriebskraft pro Spannweitenlänge $\\frac{\\text{d}F}{\\text{d}s}$ als Funktion $f$ der angegebenen Größen dargestellt werden kann:\n",
    "\n",
    "$$\\frac{\\text{d}F}{\\text{d}s} = f(L, v, \\rho)$$\n",
    "\n",
    "\n",
    "Dimensionsvektor von $\\frac{\\text{d}F}{\\text{d}s}$ | Zugeordnete Dimensionsmatrix von $f$\n",
    "--- | ---\n",
    "$\\begin{pmatrix} & \\text{M} & \\text{L} & \\text{T} \\\\ \\frac{\\text{d}F}{\\text{d}s} & 1 & 0 & -2 \\end{pmatrix}$ | $\\begin{pmatrix} & \\text{M} & \\text{L} & \\text{T} \\\\ \\rho & 1 & -3 & 0 \\\\ L & 0 & 1 & 0 \\\\ v & 0 & 1 & -1 \\end{pmatrix}$\n",
    "\n",
    "Nun müssen wir mit Linearkombinationen der Zeilen der rechten Matrix auf die Form des linken Zeilenvektors kommen.\n",
    "Wir sehen sofort, dass unsere einzige Möglichkeit auf der linken Seite die Masse mit einer Potenz von eins vorkommen zu lassen ist, wenn die Dichte $\\rho$ ebenfalls mit einer Potenz von eins in $f$ vorkommt.\n",
    "\n",
    "Dadurch, dass $\\rho$ in $f$ enthalten sein muss, haben wir neben dem gewünschten Faktor $\\text{M}^1$ den Faktor $\\text{L}^{-3}$ bekommen. Die Zielvorgabe ist aber, dass $f$ unabhängig von L ist.\n",
    "Also müssen wir mit den verbleibenden Größen $L$ und $v$ eine geeignete Kombination finden, die uns die Faktoren von L beseitigt und zusätzlich noch den fehlenden Faktor $\\text{T}^{-2}$ liefert.\n",
    "\n",
    "Die einzige Möglichkeit, wie das geschehen kann, ist, wenn $v$ mit der Potenz zwei in $f$ vorkommt und $L$ mit der Potenz eins vorkommt.\n",
    "\n",
    "Die Lösung ist somit\n",
    "$$\\frac{\\text{d}F}{\\text{d}s} = k \\cdot \\rho \\cdot L \\cdot v^2,$$\n",
    "wobei $k \\in \\mathbb{R}$ eine dimensionslose Konstante ist."
   ]
  },
  {
   "cell_type": "markdown",
   "metadata": {},
   "source": [
    "### Aufgabe 4\n",
    "Ein Radfahrer fährt mit einer konstanten Geschwindigkeit von 36 km/h. Zur Zeit $t_0$ springt die noch 150m entfernte Ampel auf Rot. 20 Sekunden später schaltet sie wieder auf Grün. Genau dann will der Radfahrer die Ampel passieren. Dazu bewegt er sich vom Moment $t_0$ an bis zum Passieren der Ampel mit der konstanten Beschleunigung $a_1$.\n",
    "\n",
    "a) Wie groß ist $a_1$ und mit welcher Geschwindigkeit passiert der Radfahrer die Ampel?"
   ]
  },
  {
   "cell_type": "code",
   "execution_count": 6,
   "metadata": {
    "collapsed": false
   },
   "outputs": [
    {
     "name": "stdout",
     "output_type": "stream",
     "text": [
      "a1 = -0.25 m/s^(-2)\n",
      "v1 = 5.00 m/s\n"
     ]
    }
   ],
   "source": [
    "# Definiere Größen\n",
    "t0 = 0 # in s\n",
    "t1 = 20 # in s\n",
    "s0 = 0 # in s\n",
    "s1 = 150 # in s\n",
    "v0 = 36 * 1000/60**2  # in m/s\n",
    "\n",
    "def v(t, a, v0):\n",
    "    return a*t + v0\n",
    "def s(t, a, v0, s0):\n",
    "    return a/2.*t**2 + v0 *t + s0\n",
    "\n",
    "a1 = 2.*(s1 - v0*t1 - s0)/t1**2\n",
    "print('a1 = {:.2f} m/s^(-2)'.format(a1))\n",
    "\n",
    "v1 = a1*t1 + v0\n",
    "print('v1 = {:.2f} m/s'.format(v1))"
   ]
  },
  {
   "cell_type": "markdown",
   "metadata": {},
   "source": [
    "b) Zeichnen Sie die entsprechenden $v-t$ und $x-t$ Diagramme."
   ]
  },
  {
   "cell_type": "code",
   "execution_count": 7,
   "metadata": {
    "collapsed": false
   },
   "outputs": [
    {
     "data": {
      "image/png": "[encoded data removed]",
      "text/plain": [
       "<matplotlib.figure.Figure at 0x7f1770156978>"
      ]
     },
     "metadata": {},
     "output_type": "display_data"
    }
   ],
   "source": [
    "# v-t Diagramm\n",
    "t = np.arange(t0, t1)\n",
    "plt.plot(t, v(t,a1,v0))\n",
    "plt.xlabel('t [s]')\n",
    "plt.ylabel('v [m/s]')\n",
    "plt.show()"
   ]
  },
  {
   "cell_type": "code",
   "execution_count": 8,
   "metadata": {
    "collapsed": false
   },
   "outputs": [
    {
     "data": {
      "image/png": "[encoded data removed]",
      "text/plain": [
       "<matplotlib.figure.Figure at 0x7f177017e978>"
      ]
     },
     "metadata": {},
     "output_type": "display_data"
    }
   ],
   "source": [
    "# x-t Diagramm\n",
    "t = np.arange(t0, t1)\n",
    "plt.plot(t, s(t,a1,v0,s0))\n",
    "plt.xlabel('t [s]')\n",
    "plt.ylabel('s [m]')\n",
    "plt.show()"
   ]
  },
  {
   "cell_type": "markdown",
   "metadata": {},
   "source": [
    "### Aufgabe 5\n",
    "An der Einfahrt einer belebten Autobahn steht ein Wagen A, der in 15s auf 150 km/h beschleunigen kann. Es nähert sich ein Kfz B mit 120 km/h.\n",
    "\n",
    "a) Wie weit muss B von A noch entfernt sein, damit der Sicherheitsabstand von $s_0$ = 150m nie unterschritten wird?\n",
    "\n",
    "**Lösung:**"
   ]
  },
  {
   "cell_type": "code",
   "execution_count": 16,
   "metadata": {
    "collapsed": false
   },
   "outputs": [
    {
     "data": {
      "image/png": "[encoded data removed]",
      "text/plain": [
       "<matplotlib.figure.Figure at 0x7f21ef1f07f0>"
      ]
     },
     "metadata": {},
     "output_type": "display_data"
    }
   ],
   "source": [
    "# definiere Größen\n",
    "v0 = 0 # in m/s\n",
    "v1 = 150 * 1000/60**2 # in m/s\n",
    "delta_t = 15 # in s\n",
    "v_B = 120 * 1000/60**2 # in m/s\n",
    "\n",
    "# berechne Beschleunigung von Wagen A\n",
    "a = (v1 - v0)/delta_t # in m/s^(-2)\n",
    "\n",
    "# berechne Position von A und B zum Zeitpunkt t und dem Anfangsabstand s0 zwischen A und B\n",
    "def s(t, a0, v0, s0):\n",
    "    return 0.5 * a0 * (t**2) + v0 * t + s0\n",
    "\n",
    "def delta_s(t, s0):\n",
    "    return s(t, a, v0, s0) - s(t, 0, v_B, 0)\n",
    "\n",
    "# minimaler Abstand zwischen A und B\n",
    "# leite delta_s ab und setze gleich 0 um Minimum zu finden\n",
    "def min_delta_s(s0):\n",
    "    t_min = v_B / a\n",
    "    return (t_min, delta_s(t_min, s0))\n",
    "\n",
    "def plot_distance(s0):\n",
    "    t = np.linspace(0,20,100)\n",
    "    plt.plot(t, delta_s(t, s0))\n",
    "    t_min, ds = min_delta_s(s0)\n",
    "    ds_min = 150. - delta_s(t_min,0)\n",
    "    plt.text(1, 350, r'Anfangsabstand für 150 m Sicherheitsabstand: {:.2f} m'.format(ds_min))\n",
    "    plt.plot([t_min], [ds], 'ro')\n",
    "    plt.text(9, 20, r'Minimaler Abstand: ({:.2f}, {:.2f})'.format(t_min, ds))\n",
    "    plt.plot([0, 20], [150, 150], 'r-', lw=2)\n",
    "    plt.text(6, 120, r'geforderter minimaler Abstand: 150 m')\n",
    "    plt.xlabel('t [s]')\n",
    "    plt.ylabel(r'$\\Delta s$ [m]')\n",
    "    plt.ylim(0, 400)\n",
    "    plt.show()\n",
    "plot_distance(350)"
   ]
  },
  {
   "cell_type": "markdown",
   "metadata": {},
   "source": [
    "b) Wann findet die größte Annäherung statt?\n",
    "\n",
    "**Lösung:**\n",
    "Die Frage nach der größten Annäherung entspricht der Frage nach dem kleinsten Abstand.\n",
    "Diese findet am zuvor bestimmten Minimum von $\\Delta s$ statt, zur Zeit $t_{\\text{min}} = 12 \\,\\text{s}$."
   ]
  },
  {
   "cell_type": "markdown",
   "metadata": {
    "collapsed": false
   },
   "source": [
    "### Aufgabe 6\n",
    "Eine Stahlkugel wird zum Zeitpunkt $t = 0\\,\\text{s}$ mit der Anfangsgeschwindigkeit $v_0 = 30\\,\\text{m/s}$ unter einem Winkel von  $\\alpha= 60^{\\circ}$ gegen die Horizontale geworfen. Vernachlässigen Sie die Luftreibung und verwenden Sie $g = 10\\,\\text{m/s}^2$.\n",
    "\n",
    "a) Wie lauten die allgemeinen Ausdrücke für $\\vec{r}(t)$, $\\vec{v}(t)$ und $\\vec{a}(t)$?\n",
    "\n",
    "**Lösung**: Wir wählen das Koordinatensystem so, dass die z-Achse nach oben zeigt und die x-Achse in Richtung des Wurfs zeigt. Somit reduziert sich die Rechnung auf ein zweidimensionales Problem."
   ]
  },
  {
   "cell_type": "code",
   "execution_count": 10,
   "metadata": {
    "collapsed": false
   },
   "outputs": [
    {
     "name": "stdout",
     "output_type": "stream",
     "text": [
      "a(t) = - 10*N.z\n",
      "v(t) = 15.0000000000000*N.x + (-10*t + 25.9807621135332)*N.z\n",
      "r(t) = 15.0*t*N.x + (-5.0*t**2 + 25.9807621135332*t)*N.z\n"
     ]
    }
   ],
   "source": [
    "# definiere Größen und Konstanten\n",
    "g = 10 # in m/s^2\n",
    "v0 = 30 # in m/s\n",
    "alpha = 60 * math.pi / 180 # in rad\n",
    "\n",
    "# definiere kartesisches Koordinatensystem\n",
    "N = ReferenceFrame('N')\n",
    "\n",
    "# definiere Variable t\n",
    "t = symbols('t')\n",
    "\n",
    "# Ausdruck für a(t)\n",
    "a0_x = 0\n",
    "a0_y = 0 \n",
    "a0_z = - g\n",
    "a0 = a0_x * N.x + a0_y * N.y + a0_z * N.z\n",
    "\n",
    "def a(t):\n",
    "    return a0\n",
    "\n",
    "# Ausdruck für v(t)\n",
    "v0_x = v0 * math.cos(alpha) # Merkhilfe, um zu entscheiden ob cos/sin : Winkel von 0 und 90 Grad einsetzen\n",
    "v0_y = 0 \n",
    "v0_z = v0 * math.sin(alpha)\n",
    "v0 = v0_x * N.x + v0_y * N.y + v0_z * N.z\n",
    "\n",
    "def v(t):\n",
    "    return a(t) * t + v0\n",
    "\n",
    "# Ausdruck für r(t)\n",
    "r0_x = 0\n",
    "r0_y = 0\n",
    "r0_z = 0\n",
    "r0 = r0_x * N.x + r0_y * N.y + r0_z * N.z\n",
    "\n",
    "def r(t):\n",
    "    return (0.5 * a0 * t**2 + v0 * t + r0)\n",
    "\n",
    "print(r'a(t) = {}'.format(a(t)))\n",
    "print(r'v(t) = {}'.format(v(t)))\n",
    "print(r'r(t) = {}'.format(r(t)))"
   ]
  },
  {
   "cell_type": "markdown",
   "metadata": {},
   "source": [
    "b) An welchem Punkt $P_1$ befindet sich die Kugel zur Zeit $t_1 = 2\\,\\text{s}$?\n",
    "\n",
    "**Lösung:**"
   ]
  },
  {
   "cell_type": "code",
   "execution_count": 11,
   "metadata": {
    "collapsed": false
   },
   "outputs": [
    {
     "name": "stdout",
     "output_type": "stream",
     "text": [
      "Position P1 bei t1: 30.0000000000000*N.x + 31.9615242270663*N.z\n"
     ]
    }
   ],
   "source": [
    "t1 = 2 # in s\n",
    "print(r'Position P1 bei t1: {}'.format(r(t1)))"
   ]
  },
  {
   "cell_type": "markdown",
   "metadata": {},
   "source": [
    "c) Wie groß sind Betrag und Richtung der Geschwindigkeit $\\vec{v}_1$ zur Zeit $t_1$?\n",
    "\n",
    "**Lösung:**"
   ]
  },
  {
   "cell_type": "code",
   "execution_count": 12,
   "metadata": {
    "collapsed": false
   },
   "outputs": [
    {
     "name": "stdout",
     "output_type": "stream",
     "text": [
      "Geschwindigkeitsvektor bei t1: 15.0000000000000*N.x + 5.98076211353316*N.z\n",
      "Betrag des Geschwindigkeitsvektors bei t1: 16.148\n",
      "Einheitsvektor der Geschwindigkeit bei t1: 0.928886923381516*N.x + 0.370363447941103*N.z\n",
      "Winkel des Geschwindigkeitsvektor bei t1 zur x-Achse: 21.74\n"
     ]
    }
   ],
   "source": [
    "print(r'Geschwindigkeitsvektor bei t1: {}'.format(v(t1)))\n",
    "print(r'Betrag des Geschwindigkeitsvektors bei t1: {:.3f}'.format(v(t1).magnitude()))\n",
    "unit_vector = v(t1).normalize()\n",
    "print(r'Einheitsvektor der Geschwindigkeit bei t1: {}'.format(unit_vector))\n",
    "beta = math.atan(0.370363447941103/0.928886923381516)*180/math.pi\n",
    "print(r'Winkel des Geschwindigkeitsvektor bei t1 zur x-Achse: {:.2f}'.format(beta))"
   ]
  },
  {
   "cell_type": "markdown",
   "metadata": {},
   "source": [
    "d) Wie groß sind zu diesem Zeitpunkt die Normal- und die Tangentialbeschleunigung?\n",
    "\n",
    "**Lösung:**"
   ]
  },
  {
   "cell_type": "code",
   "execution_count": 13,
   "metadata": {
    "collapsed": false
   },
   "outputs": [
    {
     "name": "stdout",
     "output_type": "stream",
     "text": [
      "Normalbeschleunigung: -9.68\n",
      "Tangentialbeschleunigung: 2.50\n"
     ]
    }
   ],
   "source": [
    "print(r'Normalbeschleunigung: {:.2f}'.format(g * math.cos(beta)))\n",
    "print(r'Tangentialbeschleunigung: {:.2f}'.format(g * math.sin(beta)))"
   ]
  },
  {
   "cell_type": "markdown",
   "metadata": {},
   "source": [
    "e) Zu welchem Zeitpunkt erreicht die Kugel ihre größte Höhe?\n",
    "\n",
    "**Lösung:**\n",
    "\n",
    "Am Scheitelpunkt erreicht die Kugel die größte Höhe. Dort gilt, dass die z-Komponente der Geschwindigkeit einen Vorzeichenwechsel vollzieht.\n",
    "\n",
    "Wir können also direkt ansetzen:\n",
    "$$ v_z = v_0 \\sin \\alpha - g t_{z, \\text{max}} = 0$$"
   ]
  },
  {
   "cell_type": "code",
   "execution_count": 14,
   "metadata": {
    "collapsed": false
   },
   "outputs": [
    {
     "name": "stdout",
     "output_type": "stream",
     "text": [
      "t_zmax beträgt 2.60s\n"
     ]
    }
   ],
   "source": [
    "t_zmax = v0_z / g\n",
    "print(r't_zmax beträgt {:.2f}s'.format(t_zmax))"
   ]
  },
  {
   "cell_type": "markdown",
   "metadata": {},
   "source": [
    "### Aufgabe 7\n",
    "Der Dartpfeil beim Affenschussversuch hat in der Vorlesung das Ziel getroffen, wenn er horizontal losgeschossen wurde, während die Zeilscheibe fallengelassen wird. Sie wollen austesten, ob das auch bei anderen Abschusswinkeln zutrifft und suchen sich kurzerhand einen Affen, der seitlich über Ihnen in einer horizontalen Entfernung $d$ an einem Ast hängt. Diesen Affen wollen sie vom Erdboden aus mit einem Betäubungspfeil treffen und zielen auf ihn. Der Affe betrachtet sie schon argwöhnisch und lässt just in dem Moment den Ast los, in dem sie Ihren Pfeil mit der Geschwindigkeit $v_0$ abschießen.\n",
    "\n",
    "a) Zeigen Sie, ob der Affe getroffen wird oder nicht.\n",
    "\n",
    "**Lösung:**\n",
    "\n",
    "Der Affe wird immer dann getroffen, wenn die x-Komponente der Pfeilgeschwindigkeit groß genug ist, dass der Pfeil den Affen erreicht, bevor der Pfeil auf den Boden auftrifft.\n",
    "Entscheidend ist hier das [Superpositionsprinzip](https://de.wikipedia.org/wiki/Superposition), das besagt, dass die vertikale Bewegungskomponente unabhängig von der horizontalen betrachtet werden darf.\n",
    "\n",
    "Auf Affen und Pfeil wirken beide die Schwerebeschleunigung. Daher bewegen sich beide gleich schnell aus der Anfangsposition nach unten. Wir zeigen dies nun mit einer Rechnung:\n",
    "\n",
    "Ortsvektor des Affen $r_{\\text{Affe}}(t) = \\begin{pmatrix} d \\\\ h - g/2 \\cdot t^2 \\end{pmatrix}$\n",
    "\n",
    "Ortsvektor des Pfeils $r_{\\text{Pfeil}}(t) = \\begin{pmatrix} v_0 \\cos(\\alpha) \\cdot t \\\\ v_0 \\sin(\\alpha) \\cdot t - g/2 \\cdot t^2 \\end{pmatrix}$,\n",
    "\n",
    "wobei der Abschusswinkel (bei einem zielsicheren Schützen) $\\alpha = \\tan^{-1} (h/d)$ ist.\n",
    "\n",
    "Der Pfeil erreicht den Affen, sobald $v_0 \\cos(\\alpha) t_{\\text{Treffer}} = d$, also bei $t_{\\text{Treffer}} = \\frac{d}{v_0 \\cos(\\alpha)}$.\n",
    "\n",
    "Die Bedingung, dass der Affe getroffen wurde entspricht der Forderung, dass die Pfeilhöhe zu diesem Zeitpunkt einen positiven Wert haben muss.\n",
    "\n",
    "Dies ist der Fall, wenn\n",
    "\n",
    "$$v_0 \\sin(\\alpha) \\cdot t_{\\text{Treffer}} - g/2 \\cdot t_{\\text{Treffer}}^2 > 0,$$\n",
    "\n",
    "also falls \n",
    "\n",
    "$$ v_0^2 >  g/2 \\cdot \\left(\\frac{d}{ \\sin(\\alpha) \\cos(\\alpha)}\\right).$$"
   ]
  },
  {
   "cell_type": "code",
   "execution_count": 43,
   "metadata": {
    "collapsed": false
   },
   "outputs": [
    {
     "data": {
      "image/png": "[encoded data removed]",
      "text/plain": [
       "<matplotlib.figure.Figure at 0x7f21eee74e80>"
      ]
     },
     "metadata": {},
     "output_type": "display_data"
    },
    {
     "data": {
      "image/png": "[encoded data removed]",
      "text/plain": [
       "<matplotlib.figure.Figure at 0x7f21ef0eb320>"
      ]
     },
     "metadata": {},
     "output_type": "display_data"
    },
    {
     "data": {
      "image/png": "[encoded data removed]",
      "text/plain": [
       "<matplotlib.figure.Figure at 0x7f21eeefbef0>"
      ]
     },
     "metadata": {},
     "output_type": "display_data"
    }
   ],
   "source": [
    "# definiere Schwerebeschleunigung\n",
    "g = 9.81 # in m/s^2\n",
    "# definiere Abstand Affe zu Schütze, wähle beispielsweise 5m\n",
    "d = 5 # in m\n",
    "# definiere Höhe des Affen relativ zum Gewehr des Schützen, wähle beispielsweise 3m\n",
    "h = 3 # in m\n",
    "# definiere Anfangsgeschindigkeit des Geschosses\n",
    "v0 = 20 # in m/s\n",
    "\n",
    "# Ortsvektor Affe\n",
    "def r_affe(t):\n",
    "    x = d +t -t\n",
    "    z = h -g * t*t\n",
    "    return (x,z)\n",
    "\n",
    "# Ortsvektor Pfeil\n",
    "def r_pfeil(t,v0):\n",
    "    alpha = math.atan(h/d) # Schusswinkel, mit dem der Schütze auf den Affen zielt\n",
    "    x = v0 * math.cos(alpha) * t\n",
    "    z = v0 * math.sin(alpha) * t - g * t*t\n",
    "    return (x,z)\n",
    "\n",
    "\n",
    "# Zeichne die Bewegung des Affens und des Pfeils in x-Koordinate gegen die Zeit    \n",
    "def plottx(t, v0=20):\n",
    "    r_pfeil_x, r_pfeil_z = r_pfeil(t, v0)\n",
    "    plt.plot(t, r_pfeil_x, 'r')\n",
    "    \n",
    "    r_affe_x, r_affe_z = r_affe(t)\n",
    "    plt.plot(t, r_affe_x, 'b')\n",
    "\n",
    "    plt.xlabel(r't [m]')\n",
    "    plt.ylabel(r'x [m]')\n",
    "    plt.xlim(-1, 6)\n",
    "    plt.ylim(-1, 6)\n",
    "    plt.show()\n",
    "\n",
    "# Zeichne die Bewegung des Affens und des Pfeils in z-Koordinate gegen die Zeit\n",
    "def plottz(t, v0=20):\n",
    "    r_pfeil_x, r_pfeil_z = r_pfeil(t, v0)\n",
    "    plt.plot(t, r_pfeil_z, 'r')\n",
    "    \n",
    "    r_affe_x, r_affe_z = r_affe(t)\n",
    "    plt.plot(t, r_affe_z, 'b')\n",
    "\n",
    "    plt.xlabel(r't [m]')\n",
    "    plt.ylabel(r'z [m]')\n",
    "    plt.xlim(-1, 6)\n",
    "    plt.ylim(-1, 6)\n",
    "    plt.show()\n",
    "\n",
    "# Zeichne die Bewegung des Affen und des Pfeils in der x-z Ebene\n",
    "def plotxz(t, v0=20):\n",
    "    r_pfeil_x, r_pfeil_z = r_pfeil(t, v0)\n",
    "    plt.plot(r_pfeil_x, r_pfeil_z, 'r')\n",
    "    \n",
    "    r_affe_x, r_affe_z = r_affe(t)\n",
    "    plt.plot(r_affe_x, r_affe_z, 'b')\n",
    "\n",
    "    plt.xlabel(r'x [m]')\n",
    "    plt.ylabel(r'z [m]')\n",
    "    plt.xlim(-1, 6)\n",
    "    plt.ylim(-1, 6)\n",
    "    plt.show()\n",
    "\n",
    "# Definiere Zeit und Startgeschwindigkeit des Pfeils\n",
    "t = np.linspace(0,.5,100)\n",
    "v = 20\n",
    "plottx(t,v)\n",
    "plottz(t,v)\n",
    "plotxz(t,v)"
   ]
  },
  {
   "cell_type": "markdown",
   "metadata": {},
   "source": [
    "b) Mit welcher Geschwindigkeit bewegt sich der Pfeil relativ zum Affen?\n",
    "\n",
    "**Lösung:**\n",
    "\n",
    "Der Pfeil bewegt sich stets relativ zum Affen mit Geschwindigkeit $\\vec{v}_0 = \\begin{pmatrix} v_0 \\cos(\\alpha) \\\\ v_0 \\sin(\\alpha) \\end{pmatrix}$.\n",
    "\n",
    "Dies kann man leicht einsehen, wenn man sich in das Bezugssystem des Affens setzt, das wie auch der Pfeil der gleichen Schwerebeschleunigung unterliegt."
   ]
  },
  {
   "cell_type": "markdown",
   "metadata": {},
   "source": [
    "### Mathematische Ergänzungen\n",
    "Bestimmen Sie alle Nullstellen des Polynoms\n",
    "$$z^3+z^2-2$$\n",
    "und geben Sie die Zerlegung in Linearfaktoren an.\n",
    "\n",
    "**Lösung:** verwende [Polynomdivision](https://de.wikipedia.org/wiki/Polynomdivision), um die Nullstellen und somit auch die Linearfaktoren zu bestimmen"
   ]
  },
  {
   "cell_type": "code",
   "execution_count": 38,
   "metadata": {
    "collapsed": false
   },
   "outputs": [
    {
     "name": "stdout",
     "output_type": "stream",
     "text": [
      "z**3 + z**2 - 2\n",
      "(z - 1)*(z**2 + 2*z + 2)\n",
      "0\n",
      "z**2 + 2*z + 2\n",
      "1\n",
      "-1.0 + 1.0*I\n",
      "-1.0 - 1.0*I\n",
      "(z - 1)*(z + 1.0 - 1.0*I)*(z + 1.0 + 1.0*I)\n"
     ]
    }
   ],
   "source": [
    "# definiere Variable und Polynom\n",
    "z = symbols('z')\n",
    "f = z**3 + z**2 - 2\n",
    "print(f)\n",
    "\n",
    "# schnelle Lösung mit dem Computer\n",
    "print(factor(f))\n",
    "\n",
    "# ausführliche Lösung\n",
    "# rate erste Nullstelle:\n",
    "z0 = 1\n",
    "print(f.subs(z,z0))\n",
    "\n",
    "# Polynomdivision\n",
    "f_prime = simplify(f / (z-1))\n",
    "print(f_prime)\n",
    "\n",
    "# bestimme Nullstellen mit Lösungsformel für Polynome zweiten Grades\n",
    "def loesungsformel(p,q):\n",
    "    x1 = -p/2 + sympy.sqrt(p**2/4 -q)\n",
    "    x2 = -p/2 - sympy.sqrt(p**2/4 -q)\n",
    "    return x1, x2\n",
    "z1, z2 = loesungsformel(2,2)\n",
    "\n",
    "# gebe Nullstellen aus\n",
    "print(z0)\n",
    "print(z1)\n",
    "print(z2)\n",
    "\n",
    "# Zerlegung in Linearfaktoren\n",
    "f_factorised = (z - z0) * (z - z1) * (z - z2)\n",
    "print(f_factorised)"
   ]
  },
  {
   "cell_type": "code",
   "execution_count": null,
   "metadata": {
    "collapsed": true
   },
   "outputs": [],
   "source": []
  }
 ],
 "metadata": {
  "kernelspec": {
   "display_name": "Python 3",
   "language": "python",
   "name": "python3"
  },
  "language_info": {
   "codemirror_mode": {
    "name": "ipython",
    "version": 3
   },
   "file_extension": ".py",
   "mimetype": "text/x-python",
   "name": "python",
   "nbconvert_exporter": "python",
   "pygments_lexer": "ipython3",
   "version": "3.5.2"
  }
 },
 "nbformat": 4,
 "nbformat_minor": 1
}
