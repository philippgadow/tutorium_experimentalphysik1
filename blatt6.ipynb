{
 "cells": [
  {
   "cell_type": "markdown",
   "metadata": {},
   "source": [
    "![TUM Physik logo](./content/tumphysik.png)\n",
    "## Übungen zur Experimentalphysik 1\n",
    "### Blatt 6\n",
    "Author: Philipp Gadow (philipp@pgadow.de)"
   ]
  },
  {
   "cell_type": "markdown",
   "metadata": {},
   "source": [
    "\n",
    "### Aufgabe 1\n",
    "Ein Flugzeug fliegt über den Nordpol mit einer Geschwindigkeit von $v = 900\\,\\text{km}/\\text{h}$ und fliegt dann mit konstanter Geschwindigkeit südlich auf einem Längengrad weiter. Im Flugzeug hängt eine Lotlinie, an dem ein Gewicht mit Masse $m$ hängt. Geben Sie für jeden Fall die Richtung der Lotlinie an. Der Erdradius beträgt $ r_E = 6.4 \\cdot 10^{3}\\,\\text{km}$. Bestimmen Sie den Winkel zwischen der Lotlinie und dem Radiusvektor, der vom Erdmittelpunkt zum Flugzeug verläuft, wenn\n",
    "\n",
    "a) das Flugzeug über dem Nordpol ist,\n",
    "\n",
    "b) am Äquator ist,\n",
    "\n",
    "c) sich auf einem Breitengrad von 45$^{\\circ}$ befindet."
   ]
  },
  {
   "cell_type": "code",
   "execution_count": null,
   "metadata": {
    "collapsed": true
   },
   "outputs": [],
   "source": []
  },
  {
   "cell_type": "markdown",
   "metadata": {},
   "source": [
    "### Aufgabe 2\n",
    "\n",
    "Stellen Sie sich vor, Sie befinden sich zusammen mit einer Atwoodschen Fallmaschine in einem Aufzug, der sich im Erdschwerefeld in vertikaler Richtung gemäß der vorgegebenen Funktion $h(t)$ bewegt. Berechnen Sie die Beschleunigung der beiden Massen im Bezugssystem des Aufzugs, indem Sie die durch die Bewegung des Aufzugs verursachten Trägheitskräfte berücksichtigen.\n",
    "\n",
    "![Skizze des Fahrstuhls](./content/b6_a2_fahrstuhl.jpg)"
   ]
  },
  {
   "cell_type": "code",
   "execution_count": null,
   "metadata": {
    "collapsed": true
   },
   "outputs": [],
   "source": []
  },
  {
   "cell_type": "markdown",
   "metadata": {},
   "source": [
    "### Aufgabe 3\n",
    "\n",
    "Eine Masse $m$ hänge an einer Feder mit Federkonstante $k$. Die Feder sei ideal (ungedämpft).\n",
    "\n",
    "a) Wie lautet die Differentialgleichung des Oszillators?\n",
    "\n",
    "b) Lösen Sie diese Differentialgleichung allgemein mit einem passenden Ansatz.\n",
    "\n",
    "c) Geben Sie die Frequenz $\\omega_0$ als Funktion von $k$ und $m$ an.\n",
    "\n",
    "d) Wie lautet die spezielle Lösung, wenn sie die Feder zur Zeit $t=0$ um $x_0$ auslenken und ihr die Anfangsgeschwindigkeit $v_0$ geben?"
   ]
  },
  {
   "cell_type": "code",
   "execution_count": null,
   "metadata": {
    "collapsed": true
   },
   "outputs": [],
   "source": []
  },
  {
   "cell_type": "markdown",
   "metadata": {},
   "source": [
    "### Aufgabe 4\n",
    "\n",
    "Man zeige, dass für ein Fadenpendel die zeitlich gemittelte potentielle und kinetische Energie über eine Schwingungsperiode gleich groß sind. Man berechne des weiteren die Gesamtenergie als Funktion der Amplitude der Schwingung. Benutzen Sie die Kleinwinkelnäherung.\n",
    "\n",
    "![Fadenpendel](./content/b6_a4_fadenpendel.jpg)"
   ]
  },
  {
   "cell_type": "code",
   "execution_count": null,
   "metadata": {
    "collapsed": true
   },
   "outputs": [],
   "source": []
  },
  {
   "cell_type": "markdown",
   "metadata": {},
   "source": [
    "### Mathematische Ergänzungen\n",
    "\n",
    "a) Für kleine Populationen wächst die Population proportional zur aktuellen Population (mit $c >0$)\n",
    "\t\t$$\\dot x(t) = c x(t)\\text.$$\n",
    "        \n",
    "b) Für größere Populationen schränkt das begrenzte Nahrungsangebot das Wachstum ein. In erster Näherung sinkt das Nahrungsangebot und damit die Wachstumsrate linear mit der Größe der Population (mit $x_{\\text{max}} > 0$)\n",
    "\t\t$$\\dot x(t) = c \\left( x_{\\text{max}} -x(t) \\right) x(t).$$\n",
    "        \n",
    "Bestimmen Sie jeweils die Größe der Population $x(t)$ als Funktion der Zeit für $x(0)=x_0$ mit $0<x_0<x_{\\text{max}}$."
   ]
  },
  {
   "cell_type": "code",
   "execution_count": null,
   "metadata": {
    "collapsed": true
   },
   "outputs": [],
   "source": []
  }
 ],
 "metadata": {
  "kernelspec": {
   "display_name": "Python 3",
   "language": "python",
   "name": "python3"
  },
  "language_info": {
   "codemirror_mode": {
    "name": "ipython",
    "version": 3
   },
   "file_extension": ".py",
   "mimetype": "text/x-python",
   "name": "python",
   "nbconvert_exporter": "python",
   "pygments_lexer": "ipython3",
   "version": "3.5.2"
  }
 },
 "nbformat": 4,
 "nbformat_minor": 1
}
