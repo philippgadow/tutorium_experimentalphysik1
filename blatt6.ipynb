{
 "cells": [
  {
   "cell_type": "markdown",
   "metadata": {},
   "source": [
    "![TUM Physik logo](./content/tumphysik.png)\n",
    "## Übungen zur Experimentalphysik 1\n",
    "### Blatt 6\n",
    "Author: Philipp Gadow (philipp@pgadow.de)"
   ]
  },
  {
   "cell_type": "code",
   "execution_count": 1,
   "metadata": {
    "collapsed": true
   },
   "outputs": [],
   "source": [
    "# Vorbereitungen: importiere Python-Bibliotheken\n",
    "import math\n",
    "import matplotlib.pyplot as plt\n",
    "import matplotlib.patches as mpatches\n",
    "%matplotlib inline"
   ]
  },
  {
   "cell_type": "markdown",
   "metadata": {},
   "source": [
    "\n",
    "### Aufgabe 1\n",
    "Ein Flugzeug fliegt über den Nordpol mit einer Geschwindigkeit von $v = 900\\,\\text{km}/\\text{h}$ und fliegt dann mit konstanter Geschwindigkeit südlich auf einem Längengrad weiter. Im Flugzeug hängt eine Lotlinie, an dem ein Gewicht mit Masse $m$ hängt. Geben Sie für jeden Fall die Richtung der Lotlinie an. Der Erdradius beträgt $ r_E = 6.4 \\cdot 10^{3}\\,\\text{km}$. Bestimmen Sie den Winkel zwischen der Lotlinie und dem Radiusvektor, der vom Erdmittelpunkt zum Flugzeug verläuft, wenn\n",
    "\n",
    "a) das Flugzeug über dem Nordpol ist,\n",
    "\n",
    "b) am Äquator ist,\n",
    "\n",
    "c) sich auf einem Breitengrad von 45$^{\\circ}$ befindet.\n",
    "\n",
    "**Lösung:**\n",
    "\n",
    "Die Scheinkräfte im rotierenden Bezugssystem sind die Zentrifugalkraft\n",
    "\n",
    "$$ \\vec{F}_Z = m \\, \\vec{\\omega} \\times (\\vec{r} \\times \\vec{\\omega}) $$\n",
    "\n",
    "und die Corioliskraft\n",
    "$$ \\vec{F}_C = 2 m \\, \\vec{r} \\times \\vec{\\omega} .$$ \n",
    "\n",
    "Zur Lösung der Aufgabe müssen wir zunächst ein Koordinatensystem definieren. Die $z$-Achse sei parallel zur Rotationsachse der Erde, die Bewegung des Flugzeugs verlaufe in der $x$-$z$-Ebene (siehe Achsenbeschriftungen der Skizze).\n",
    "\n",
    "Die Rotationsgeschwindigkeit der Erde ist $\\vec{\\omega} = 2\\pi / (24 \\cdot 60 \\cdot 60) \\frac{1}{\\text{s}} \\, \\vec{e}_z $.\n",
    "\n",
    "a) Das Flugzeug befindet sich über dem Nordpol. Dann ist seine Geschwindigkeit $\\vec{v} = v \\, \\vec{e}_x$ und sein Ortsvektor (bei Vernachlässigung der Flughöhe) $\\vec{r} = r_E \\, \\vec{e}_z$.\n",
    "\n",
    "Wir machen zunächst eine Skizze:"
   ]
  },
  {
   "cell_type": "code",
   "execution_count": 64,
   "metadata": {
    "collapsed": false
   },
   "outputs": [
    {
     "data": {
      "text/plain": [
       "<matplotlib.text.Text at 0x7f3924616b00>"
      ]
     },
     "execution_count": 64,
     "metadata": {},
     "output_type": "execute_result"
    },
    {
     "data": {
      "image/png": "[encoded data removed]",
      "text/plain": [
       "<matplotlib.figure.Figure at 0x7f392475d518>"
      ]
     },
     "metadata": {},
     "output_type": "display_data"
    }
   ],
   "source": [
    "# Skizze zu Fall a)\n",
    "fig1 = plt.figure()\n",
    "ax1 = fig1.add_subplot(111, aspect='equal')\n",
    "plt.xlabel('x [m]')\n",
    "plt.ylabel('z [m]')\n",
    "ax1.add_patch(mpatches.Wedge((0.3, 0.2), 0.5, 0, 90., fill=False))\n",
    "ax1.add_patch(mpatches.Circle((0.3,0.7), 0.02, ec=\"none\"))\n",
    "ax1.arrow(0.3, 0.7, 0.2, 0.0, head_width=0.03, head_length=0.05, fc='k', ec='k')\n",
    "ax1.arrow(0.3, 0.7, 0.0, 0.2, head_width=0.03, head_length=0.05, fc='k', ec='k')\n",
    "ax1.text(0.5, 0.75, u'v')\n",
    "ax1.text(0.35, 0.85, u'r, $\\omega$')\n",
    "ax1.add_patch(mpatches.FancyArrowPatch((0.4, 0.18),(0.2, 0.18),\n",
    "        connectionstyle='arc3, rad=-0.5', mutation_scale=10))\n",
    "ax1.text(0.33, 0.08, u'Erdrotation')"
   ]
  },
  {
   "cell_type": "markdown",
   "metadata": {},
   "source": [
    "Offenbar ist $\\vec{r}$ parallel zu $\\vec{\\omega}$, somit ist das Kreuzprodukt $\\vec{r} \\times \\vec{\\omega} =0 $ und daher auch die Zentrifugalkraft $\\vec{F}_Z = 0$.\n",
    "\n",
    "Die Corioliskraft ist $ \\vec{F}_C = 2 m \\, \\vec{r} \\times \\vec{\\omega}  = 2m v \\omega \\, (\\vec{e}_z \\times \\vec{e}_y) = 2m v \\omega \\, \\vec{e}_y$.\n",
    "\n",
    "Für die Lotlinie im Flugzeug gilt folgendes Kräftediagramm:"
   ]
  },
  {
   "cell_type": "code",
   "execution_count": 65,
   "metadata": {
    "collapsed": false
   },
   "outputs": [
    {
     "data": {
      "text/plain": [
       "<matplotlib.text.Text at 0x7f392470b588>"
      ]
     },
     "execution_count": 65,
     "metadata": {},
     "output_type": "execute_result"
    },
    {
     "data": {
      "image/png": "[encoded data removed]",
      "text/plain": [
       "<matplotlib.figure.Figure at 0x7f3924a436d8>"
      ]
     },
     "metadata": {},
     "output_type": "display_data"
    }
   ],
   "source": [
    "# Kräftediagramm zu Fall a)\n",
    "fig2 = plt.figure()\n",
    "ax2 = fig2.add_subplot(111, aspect='equal')\n",
    "plt.xlabel('Fy [N]')\n",
    "plt.ylabel('Fz [N]')\n",
    "ax2.arrow(0.5, 0.5, -.2, 0.2, head_width=0.03, head_length=0.05, fc='k', ec='k')\n",
    "ax2.arrow(0.5, 0.5, 0.2, 0.0, head_width=0.03, head_length=0.05, fc='k', ec='k')\n",
    "ax2.arrow(0.5, 0.5, 0.0, -0.2, head_width=0.03, head_length=0.05, fc='k', ec='k')\n",
    "ax2.text(0.25, 0.75, u'T')\n",
    "ax2.text(0.55, 0.25, u'mg')\n",
    "ax2.text(0.75, 0.5, u' 2mv$\\omega$')"
   ]
  },
  {
   "cell_type": "markdown",
   "metadata": {},
   "source": [
    "In Komponenten gilt\n",
    "$$F_y = 0 = 2 m v \\omega - T \\sin \\theta,$$\n",
    "$$F_z = 0 = -m g + T \\cos \\theta.$$\n",
    "\n",
    "Stellen wir die Gleichungen um und teilen die obere Gleichung durch die untere, folgt für den Winkel $\\theta$ der Lotlinie zur Normalen $\\tan \\theta = \\frac{2 v \\omega}{g}$.\n",
    "\n",
    "Somit wird die Lotlinie um $\\theta = 0.21^{\\circ}$ nach rechts in Flugrichtung sehend ausgelenkt.\n",
    "\n",
    "b) Das Flugzeug befindet sich über dem Äquator. Dann ist seine Geschwindigkeit $\\vec{v} = -v \\, \\vec{e}_z$ und sein Ortsvektor $\\vec{r} = r_E \\, \\vec{e}_x$. Die Rotationsachse der Erde ist unverändert.\n",
    "\n",
    "Wir machen wieder eine Skizze:"
   ]
  },
  {
   "cell_type": "code",
   "execution_count": 82,
   "metadata": {
    "collapsed": false
   },
   "outputs": [
    {
     "data": {
      "text/plain": [
       "<matplotlib.text.Text at 0x7f3923d2af60>"
      ]
     },
     "execution_count": 82,
     "metadata": {},
     "output_type": "execute_result"
    },
    {
     "data": {
      "image/png": "[encoded data removed]",
      "text/plain": [
       "<matplotlib.figure.Figure at 0x7f3923df7048>"
      ]
     },
     "metadata": {},
     "output_type": "display_data"
    }
   ],
   "source": [
    "# Skizze zu Fall b)\n",
    "fig1 = plt.figure()\n",
    "ax1 = fig1.add_subplot(111, aspect='equal')\n",
    "plt.xlabel('x [m]')\n",
    "plt.ylabel('z [m]')\n",
    "ax1.add_patch(mpatches.Wedge((0.3, 0.2), 0.5, 0, 90., fill=False))\n",
    "ax1.add_patch(mpatches.Circle((0.8,0.2), 0.02, ec=\"none\"))\n",
    "ax1.arrow(0.3, 0.7, 0.0, 0.2, head_width=0.03, head_length=0.05, fc='k', ec='k')\n",
    "ax1.arrow(0.8, 0.2, 0.1, 0.0, head_width=0.03, head_length=0.05, fc='k', ec='k')\n",
    "ax1.arrow(0.8, 0.2, 0.0, -0.1, head_width=0.03, head_length=0.05, fc='k', ec='k')\n",
    "ax1.text(0.35, 0.85, u'$\\omega$')\n",
    "ax1.text(0.85, 0.05, u'v')\n",
    "ax1.text(0.9, 0.25, u'r')\n",
    "ax1.add_patch(mpatches.FancyArrowPatch((0.4, 0.18),(0.2, 0.18),\n",
    "        connectionstyle='arc3, rad=-0.5', mutation_scale=10))\n",
    "ax1.text(0.33, 0.08, u'Erdrotation')"
   ]
  },
  {
   "cell_type": "markdown",
   "metadata": {},
   "source": [
    "Nun ist $\\vec{v}$ antiparallel zu $\\vec{\\omega}$, somit ist das Kreuzprodukt $\\vec{v} \\times \\vec{\\omega} =0 $ und daher auch die Corioliskraft $\\vec{F}_C = 0$.\n",
    "\n",
    "Der Ortsvektor $\\vec{r}$ steht senkrecht auf $\\vec{\\omega}$. Daher ist $\\vec{r} \\times \\vec{\\omega} = r_E \\omega \\, (\\vec{e}_x \\times \\vec{e}_z) = - r_E \\omega \\, \\vec{e}_y$.\n",
    "\n",
    "Die Zentrifugalkraft ist $ \\vec{F}_Z = m \\, \\vec{\\omega} \\times (\\vec{r} \\times \\vec{\\omega}) = - m \\, \\omega \\vec{e}_z \\times (r_E \\omega \\, \\vec{e}_y) = m \\, r_E \\omega^2 \\vec{e}_y \\times \\vec{e}_z = m \\, r_E \\omega^2 \\vec{e}_x$.\n",
    "\n",
    "Für die Lotlinie im Flugzeug gilt folgendes Kräftediagramm:"
   ]
  },
  {
   "cell_type": "code",
   "execution_count": 83,
   "metadata": {
    "collapsed": false
   },
   "outputs": [
    {
     "data": {
      "text/plain": [
       "<matplotlib.text.Text at 0x7f3923d10e80>"
      ]
     },
     "execution_count": 83,
     "metadata": {},
     "output_type": "execute_result"
    },
    {
     "data": {
      "image/png": "[encoded data removed]",
      "text/plain": [
       "<matplotlib.figure.Figure at 0x7f3923e02630>"
      ]
     },
     "metadata": {},
     "output_type": "display_data"
    }
   ],
   "source": [
    "# Kräftediagramm zu Fall b)\n",
    "fig2 = plt.figure()\n",
    "ax2 = fig2.add_subplot(111, aspect='equal')\n",
    "plt.xlabel('Fy [N]')\n",
    "plt.ylabel('Fx [N]')\n",
    "ax2.arrow(0.5, 0.5, 0.0, 0.2, head_width=0.03, head_length=0.05, fc='k', ec='k')\n",
    "ax2.arrow(0.5, 0.5, 0.0, -0.2, head_width=0.03, head_length=0.05, fc='k', ec='k')\n",
    "ax2.text(0.55, 0.75, u'T + mr$\\omega^2$')\n",
    "ax2.text(0.55, 0.25, u'mg')"
   ]
  },
  {
   "cell_type": "markdown",
   "metadata": {},
   "source": [
    "Somit zeigt die Zentrifugalkraft in radiale Richtung nach außen, im Flugzeug also nach oben zur Decke in Richtung der $x$-Achse.\n",
    "Es wirkt also keine Kraft, die die Lotlinie auslenken könnte, ihr Winkel zur Normalen ist $\\theta = 0 ^{\\circ}$.\n",
    "\n",
    "c) Das Flugzeug befindet sich auf einem Breitengrad von 45$^{\\circ}$. Dann ist seine Geschwindigkeit $\\vec{v} = \\frac{v}{\\sqrt{2}} \\, (\\vec{e}_x - \\vec{e}_z)$ und sein Ortsvektor $\\vec{r} = \\frac{r_E}{\\sqrt{2}} \\, (\\vec{e}_x + \\vec{e}_z)$. \n",
    "\n",
    "Die Rotationsachse der Erde ist unverändert.\n",
    "\n",
    "Wir machen wieder eine Skizze:"
   ]
  },
  {
   "cell_type": "code",
   "execution_count": 99,
   "metadata": {
    "collapsed": false
   },
   "outputs": [
    {
     "data": {
      "text/plain": [
       "<matplotlib.text.Text at 0x7f3923600a20>"
      ]
     },
     "execution_count": 99,
     "metadata": {},
     "output_type": "execute_result"
    },
    {
     "data": {
      "image/png": "[encoded data removed]",
      "text/plain": [
       "<matplotlib.figure.Figure at 0x7f39236b1390>"
      ]
     },
     "metadata": {},
     "output_type": "display_data"
    }
   ],
   "source": [
    "# Skizze zu Fall c)\n",
    "fig1 = plt.figure()\n",
    "ax1 = fig1.add_subplot(111, aspect='equal')\n",
    "plt.xlabel('x [m]')\n",
    "plt.ylabel('z [m]')\n",
    "ax1.add_patch(mpatches.Wedge((0.3, 0.2), 0.5, 0, 90., fill=False))\n",
    "ax1.add_patch(mpatches.Circle((0.8*math.sqrt(0.65),0.7*math.sqrt(0.65)), 0.02, ec=\"none\"))\n",
    "ax1.arrow(0.3, 0.7, 0.0, 0.2, head_width=0.03, head_length=0.05, fc='k', ec='k')\n",
    "ax1.arrow(0.8*math.sqrt(0.65), 0.7*math.sqrt(0.65), 0.1, 0.1, head_width=0.03, head_length=0.05, fc='k', ec='k')\n",
    "ax1.arrow(0.8*math.sqrt(0.65), 0.7*math.sqrt(0.65), 0.1, -0.1, head_width=0.03, head_length=0.05, fc='k', ec='k')\n",
    "ax1.text(0.35, 0.85, u'$\\omega$')\n",
    "ax1.text(0.65, 0.65, u'v')\n",
    "ax1.text(0.8, 0.45, u'r')\n",
    "ax1.add_patch(mpatches.FancyArrowPatch((0.4, 0.18),(0.2, 0.18),\n",
    "        connectionstyle='arc3, rad=-0.5', mutation_scale=10))\n",
    "ax1.text(0.33, 0.08, u'Erdrotation')"
   ]
  },
  {
   "cell_type": "markdown",
   "metadata": {},
   "source": [
    "Wir berechnen nun die Corioliskraft:\n",
    "\n",
    "Es ist \n",
    "$$\\vec{F}_C =  2 m \\, \\vec{v} \\times \\vec{\\omega}  = 2 m \\frac{v}{\\sqrt{2}}  \\omega \\, ((\\vec{e}_x - \\vec{e}_z) \\times \\vec{e}_z) = - 2 m \\frac{v}{\\sqrt{2}}  \\omega \\, \\vec{e}_y.$$\n",
    "\n",
    "Wir berechnen nun die Zentrifugalkraft:\n",
    "\n",
    "Das Kreuzprodukt zwischen Ortsvektor $\\vec{r}$ und Rotationsachse ist $\\vec{r} \\times \\vec{\\omega} =  \\frac{r_E}{\\sqrt{2}} \\omega \\, ((\\vec{e}_x + \\vec{e}_z) \\times \\vec{e}_z) = - \\frac{r_E}{\\sqrt{2}} \\omega \\vec{e}_y$.\n",
    "\n",
    "Die Zentrifugalkraft ist $ \\vec{F}_Z = m \\, \\vec{\\omega} \\times (\\vec{r} \\times \\vec{\\omega}) = - m \\frac{r_E \\omega^2}{\\sqrt{2}} \\, (\\vec{e}_z \\times \\vec{e}_y) = m \\frac{r_E \\omega^2}{\\sqrt{2}} \\,\\vec{e}_x $.\n",
    "\n",
    "Im Flugzeug gesehen gibt es also eine Komponente der Zentrifugalkraft, die nach oben und eine die nach vorne zeigt.\n",
    "Diese haben jeweils den Betrag $F_{z, \\text{oben}} = \\frac{1}{\\sqrt{2}} F_z = \\frac{m r_E \\omega^2}{2}$ und $F_{z, \\text{vorne}} = \\frac{1}{\\sqrt{2}} F_z = \\frac{m r_E \\omega^2}{2}$.\n",
    "\n",
    "Für die Lotlinie im Flugzeug muss das Kräftediagramm daher eigentlich in drei Dimensionen aufgestellt werden.  Wir betrachten jeweils die $x-z$ und die $y-z$-Projektion:"
   ]
  },
  {
   "cell_type": "code",
   "execution_count": 115,
   "metadata": {
    "collapsed": false
   },
   "outputs": [
    {
     "data": {
      "text/plain": [
       "<matplotlib.text.Text at 0x7f392298d1d0>"
      ]
     },
     "execution_count": 115,
     "metadata": {},
     "output_type": "execute_result"
    },
    {
     "data": {
      "image/png": "[encoded data removed]",
      "text/plain": [
       "<matplotlib.figure.Figure at 0x7f39229f9198>"
      ]
     },
     "metadata": {},
     "output_type": "display_data"
    }
   ],
   "source": [
    "# Kräftediagramm 1 zu Fall c)\n",
    "fig1 = plt.figure()\n",
    "ax1 = fig1.add_subplot(221, aspect='equal')\n",
    "plt.xlabel('Fx [N]')\n",
    "plt.ylabel('Fz [N]')\n",
    "ax1.arrow(0.5, 0.5, 0.0, 0.1, head_width=0.03, head_length=0.05, fc='k', ec='k')\n",
    "ax1.arrow(0.5, 0.5, -.2, 0.1, head_width=0.03, head_length=0.05, fc='k', ec='k')\n",
    "ax1.arrow(0.5, 0.5, 0.2, 0.0, head_width=0.03, head_length=0.05, fc='k', ec='k')\n",
    "ax1.arrow(0.5, 0.5, 0.0, -0.2, head_width=0.03, head_length=0.05, fc='k', ec='k')\n",
    "ax1.text(0.25, 0.75, u'T')\n",
    "ax1.text(0.55, 0.25, u'mg')\n",
    "ax1.text(0.5, 0.7, u'm r $\\omega^2$/2')\n",
    "ax1.text(0.55, 0.55, u'm r $\\omega^2$/2')\n",
    "\n",
    "# Kräftediagramm 2 zu Fall c)\n",
    "ax2 = fig1.add_subplot(222, aspect='equal')\n",
    "plt.xlabel('Fy [N]')\n",
    "plt.ylabel('Fz [N]')\n",
    "ax2.arrow(0.5, 0.5, 0.0, 0.1, head_width=0.03, head_length=0.05, fc='k', ec='k')\n",
    "ax2.arrow(0.5, 0.5, -.2, 0.1, head_width=0.03, head_length=0.05, fc='k', ec='k')\n",
    "ax2.arrow(0.5, 0.5, 0.2, 0.0, head_width=0.03, head_length=0.05, fc='k', ec='k')\n",
    "ax2.arrow(0.5, 0.5, 0.0, -0.2, head_width=0.03, head_length=0.05, fc='k', ec='k')\n",
    "ax2.text(0.25, 0.75, u'T')\n",
    "ax2.text(0.55, 0.25, u'mg')\n",
    "ax2.text(0.5, 0.7, u'm r $\\omega^2$/2')\n",
    "ax2.text(0.55, 0.55, u'mv$\\omega/\\sqrt{2}$')"
   ]
  },
  {
   "cell_type": "markdown",
   "metadata": {},
   "source": [
    "Wir betrachten zunächst die Ablenkung nach vorne in Flugzeug, also das Kräftediagramm in der $x-z$ Ebene:\n",
    "\n",
    "Es gilt fürs Kräftegleichgewicht in der $x-z$ Ebene:\n",
    "\n",
    "$$F_x = 0 = \\frac{m r_E \\omega^2}{2} - T \\sin \\theta_x,$$\n",
    "$$F_z = 0 = mg - \\frac{m r_E \\omega^2}{2} - T \\cos \\theta_x.$$\n",
    "\n",
    "Somit ist $\\tan \\theta_x = \\frac{r_E \\omega^2/2}{g - r_E \\omega^2/2}$ und damit $\\theta_x = 0.1^{\\circ}$. \n",
    "\n",
    "Nun betrachten wir die Ablenkung nach rechts in Flugzeug, also das Kräftediagramm in der $y-z$ Ebene:\n",
    "\n",
    "Es gilt fürs Kräftegleichgewicht in der $y-z$ Ebene:\n",
    "\n",
    "$$F_y = 0 = \\frac{2m v \\omega}{\\sqrt{2}} - T \\sin \\theta_y,$$\n",
    "$$F_z = 0 = mg - \\frac{m r_E \\omega^2}{2} - T \\cos \\theta_y.$$\n",
    "\n",
    "Somit ist $\\tan \\theta_y = \\frac{2m v \\omega/\\sqrt{2}}{g - r_E \\omega^2/2}$ und damit $\\theta_y = 0.15^{\\circ}$.\n",
    "\n",
    "Die gesamte Ablenkung ist $\\theta = \\sqrt{\\theta_x^2 + \\theta_y^2} = 0.18^{\\circ}$ in Richtung $\\phi = \\tan^{-1}\\left(\\frac{0.15}{0.1}\\right) = 56^{\\circ}$."
   ]
  },
  {
   "cell_type": "markdown",
   "metadata": {},
   "source": [
    "##### Aufgabe 2\n",
    "\n",
    "Stellen Sie sich vor, Sie befinden sich zusammen mit einer Atwoodschen Fallmaschine in einem Aufzug, der sich im Erdschwerefeld in vertikaler Richtung gemäß der vorgegebenen Funktion $h(t)$ bewegt. Berechnen Sie die Beschleunigung der beiden Massen im Bezugssystem des Aufzugs, indem Sie die durch die Bewegung des Aufzugs verursachten Trägheitskräfte berücksichtigen.\n",
    "\n",
    "![Skizze des Fahrstuhls](./content/b6_a2_fahrstuhl.jpg)\n",
    "\n",
    "**Lösung:** \n",
    "\n",
    "Die Bewegungsgleichungen im bewegten Bezugssystem lauten\n",
    "\n",
    "$$ m_1 \\ddot x_1 = m_1 g - T + m_1 \\ddot h,$$\n",
    "$$ m_2 \\ddot x_2 = m_2 g - T + m_2 \\ddot h.$$\n",
    "\n",
    "Die Beschleunigung des Aufzugs ist für den Beobachter im beschleunigten Bezugssystem als Trägheitskraft erfahrbar.\n",
    "Zudem gilt noch, da das Seil eine konstante Länge hat, $x_1 + x_2 = \\text{const}$. Also gilt zusätzlich $\\ddot x_1 = - \\ddot x_2$.\n",
    "\n",
    "Somit gilt für die Seilspannung, wenn man die ersten beiden Gleichungen jeweils durch die Masse teilt und in die dritte Gleichung einsetzt,\n",
    "$$ T = \\frac{2 m_1 m_2 (g + \\ddot h)}{m_1 + m_2}.$$\n",
    "\n",
    "Somit gilt für die Beschleunigungen\n",
    "$$ \\ddot x_1 = \\frac{(m_1 - m_2) (g+\\ddot h)}{m_1 + m_2}, $$\n",
    "$$ \\ddot x_2 = \\frac{(m_2 - m_1) (g+\\ddot h)}{m_1 + m_2}. $$"
   ]
  },
  {
   "cell_type": "markdown",
   "metadata": {},
   "source": [
    "### Aufgabe 3\n",
    "\n",
    "Eine Masse $m$ hänge an einer Feder mit Federkonstante $k$. Die Feder sei ideal (ungedämpft).\n",
    "\n",
    "a) Wie lautet die Differentialgleichung des Oszillators?\n",
    "\n",
    "b) Lösen Sie diese Differentialgleichung allgemein mit einem passenden Ansatz.\n",
    "\n",
    "c) Geben Sie die Frequenz $\\omega_0$ als Funktion von $k$ und $m$ an.\n",
    "\n",
    "d) Wie lautet die spezielle Lösung, wenn sie die Feder zur Zeit $t=0$ um $x_0$ auslenken und ihr die Anfangsgeschwindigkeit $v_0$ geben?\n",
    "\n",
    "**Lösung:** \n",
    "\n",
    "a) Die Differentialgleichung des (ungedämpften) Oszillators lautet\n",
    "$$ m \\, \\ddot x + k\\,x = 0.$$\n",
    "\n",
    "b) Wir lösen die Differentialgleichung mit dem Ansatz\n",
    "$$ x(t) = A \\cos (\\omega_0 t) + B \\sin (\\omega_0 t).$$\n",
    "\n",
    "Die Ableitungen dieses Ansatzes sind\n",
    "$$ \\dot x(t) = - \\omega_0 A \\sin (\\omega_0 t) + \\omega_0 B \\cos (\\omega_0 t),$$\n",
    "$$ \\ddot x(t) = - \\omega_0^2 A \\cos (\\omega_0 t) - \\omega_0^2 B \\sin (\\omega_0 t) = - \\omega^2 x(t).$$\n",
    "\n",
    "Wir setzen die zweite Ableitung und den Ansatz in die Bewegungsgleichung ein und erhalten\n",
    "\n",
    "$$ (-m \\omega_0^2 + k) x(t) = 0 .$$\n",
    "\n",
    "Für allgemeines $x(t)$ gilt diese Gleichung, wenn $\\omega_0^2 = \\frac{k}{m}$.\n",
    "\n",
    "c) Die Eigenfrequenz ist $\\omega_0 = \\pm \\sqrt{\\frac{k}{m}}$.\n",
    "\n",
    "d) Die allgemeine Lösung ist (wie eben gezeigt) $x(t) = A \\cos (\\omega_0 t) + B \\sin (\\omega_0 t)$. Dies ist eine Funktionenschar, die von zwei Konstanten abhängig ist. Durch die Anfangsbedingungen wird aus dieser Schar eine spezielle Lösung ausgewählt.\n",
    "\n",
    "Die Anfangsbedingungen lauten $x(0) = x_0$ und $v(0) = v_0$.\n",
    "\n",
    "Sie legen die Werte der Konstanten fest:\n",
    "$$ x(t=0) = A \\cos(0) + B \\sin(0) \\Rightarrow A = x_0,$$\n",
    "$$ v(t=0) = -A \\omega_0 \\sin(0) + B \\omega_0 \\cos(0) \\Rightarrow B = v_0 / \\omega_0.$$\n",
    "\n",
    "Somit ist die spezielle Lösung $x(t) = x_0 \\cos(\\omega_0 t) + \\frac{v_0}{\\omega}\\sin(\\omega_0 t)$."
   ]
  },
  {
   "cell_type": "markdown",
   "metadata": {},
   "source": [
    "### Aufgabe 4\n",
    "\n",
    "Man zeige, dass für ein Fadenpendel die zeitlich gemittelte potentielle und kinetische Energie über eine Schwingungsperiode gleich groß sind. Man berechne des weiteren die Gesamtenergie als Funktion der Amplitude der Schwingung. Benutzen Sie die Kleinwinkelnäherung.\n",
    "\n",
    "![Fadenpendel](./content/b6_a4_fadenpendel.jpg)\n",
    "\n",
    "** Lösung:**\n",
    "Die Bewegungsgleichung des Fadenpendels lautet\n",
    "$$ m \\ddot x = mL \\ddot \\phi = - mg \\sin \\phi.$$\n",
    "\n",
    "Mit der Kleinwinkelnäherung $\\sin \\phi \\approx \\phi$ lautet die Bewegungsgleichung\n",
    "$$ \\ddot \\phi = \\frac{-g}{L} \\phi.$$\n",
    "\n",
    "Die Lösung dieser Differentialgleichung für einen harmonischen Oszillator ist (mit dem Ansatz aus der letzten Aufgabe)\n",
    "$$ \\phi(t) = C_1 \\cos(\\omega t) + C_2 \\sin(\\omega t) .$$\n",
    "\n",
    "Die Eigenfrequenz ist $\\omega = \\sqrt{\\frac{g}{L}}$.\n",
    "\n",
    "Aus dieser allgemeinen Lösung legen die Randbedingungen $\\phi(0) = \\phi_0$, $\\dot \\phi(0) = 0$ eine spezielle Lösung fest:\n",
    "$ \\phi(t=0) = C_1 = \\phi_0,$\n",
    "$ \\dot \\phi(t=0) \\Rightarrow \\omega C_2 = 0.$\n",
    "\n",
    "Somit sind die Lösung und ihre erste und zweite Ableitung\n",
    "$$ \\phi(t) = \\phi_0 \\cos(\\omega t),$$\n",
    "$$ \\dot \\phi(t) = - \\omega \\phi_0 \\sin(\\omega t),$$\n",
    "$$ \\ddot \\phi(t) = - \\omega^2 \\phi_0 \\cos(\\omega t).$$\n",
    "\n",
    "Wir wollen nun die Ausdrücke für kinetische und potentielle Energie angeben:\n",
    "\n",
    "**kinetische Energie:**\n",
    "\n",
    "Die kinetische Energie des Fadenpendels ist\n",
    "$$ E_{\\text{kin}} = \\frac{1}{2} m v^2 = \\frac{1}{2} m L^2 \\dot \\phi^2 = \\frac{1}{2} m L^2 \\omega^2 \\phi_0^2 \\sin^2 (\\omega t).$$\n",
    "\n",
    "**potentielle Energie:**\n",
    "\n",
    "Die potentielle Energie des Fadenpendels ist\n",
    "$$ E_{\\text{pot}} = m \\cdot g \\cdot h = m \\cdot g \\cdot (1 - \\cos \\phi) = m \\cdot g \\cdot L \\cdot \\frac{\\phi^2}{2} = \\frac{m}{2} \\cdot g \\cdot L \\cdot \\phi_0 \\cos(\\omega t), $$\n",
    "wobei wir die Näherung $\\cos \\phi \\approx 1 - \\frac{\\phi^2}{2}$ verwendet haben.\n",
    "\n",
    "**über die Zeit gemittelt:**\n",
    "\n",
    "Nun berechnen wir die mittlere kinetische und potentielle Energie:\n",
    "Den zeitlichen Mittelwert einer Größe berechnet man mit der Vorschrift $\\langle x(t) \\rangle = \\frac{1}{T} \\int_{0}^{T} x(t) \\, \\text{d}t$. Der einzig zeitabhängige Term in den Ausdrücken für kinetische und potentielle Energie ist der Sinus bzw. Cosinus-Term.\n",
    "\n",
    "Dessen Zeitmittel ist (mit [WolframAlpha](http://www.wolframalpha.com)):\n",
    "$$ \\frac{1}{T} \\int_0^T \\sin^2 (\\omega t) \\, \\text{d}t = \\frac{1}{T} \\left[ \\frac{1}{2} x - \\frac{1}{4 \\omega} \\sin(2 \\omega t) \\right]_0^T  = \\frac{1}{2}.$$\n",
    "\n",
    "Ebenso gilt $\\frac{1}{T} \\int_0^T \\sin^2 (\\omega t) \\, \\text{d}t = \\frac{1}{2}$.\n",
    "\n",
    "Somit ist die mittlere kinetische Energie $\\langle E_{\\text{kin}} \\rangle = \\frac{1}{4} g L m \\phi_0^2 = \\frac{1}{4} m \\omega^2 (L \\phi_0)^2$.\n",
    "\n",
    "Die mittlere potentielle Energie $\\langle E_{\\text{pot}} \\rangle = \\frac{1}{4} m g L \\phi_0^2 = \\frac{1}{4} m \\omega^2 (L \\phi_0)^2$, also genau der gleiche Ausdruck wie die mittlere potentielle Energie. Dies sollte nicht überraschen, wird doch bei der ungedämpften Schwindung potentielle Energie in kinetische und umgekehrt während einer Schwingungsperiode umgewandelt.\n",
    "\n",
    "Die mittlere Gesamtenergie ist somit $\\langle E \\rangle = \\langle E_{\\text{kin}} \\rangle+ \\langle E_{\\text{pot}}\\rangle =  \\frac{1}{2} m \\omega^2 (L \\phi_0)^2$."
   ]
  },
  {
   "cell_type": "markdown",
   "metadata": {},
   "source": [
    "### Mathematische Ergänzungen\n",
    "\n",
    "a) Für kleine Populationen wächst die Population proportional zur aktuellen Population (mit $c >0$)\n",
    "\t\t$$\\dot x(t) = c x(t)\\text.$$\n",
    "        \n",
    "b) Für größere Populationen schränkt das begrenzte Nahrungsangebot das Wachstum ein. In erster Näherung sinkt das Nahrungsangebot und damit die Wachstumsrate linear mit der Größe der Population (mit $x_{\\text{max}} > 0$)\n",
    "\t\t$$\\dot x(t) = c \\left( x_{\\text{max}} -x(t) \\right) x(t).$$\n",
    "        \n",
    "Bestimmen Sie jeweils die Größe der Population $x(t)$ als Funktion der Zeit für $x(0)=x_0$ mit $0<x_0<x_{\\text{max}}$."
   ]
  },
  {
   "cell_type": "code",
   "execution_count": null,
   "metadata": {
    "collapsed": true
   },
   "outputs": [],
   "source": []
  }
 ],
 "metadata": {
  "kernelspec": {
   "display_name": "Python 3",
   "language": "python",
   "name": "python3"
  },
  "language_info": {
   "codemirror_mode": {
    "name": "ipython",
    "version": 3
   },
   "file_extension": ".py",
   "mimetype": "text/x-python",
   "name": "python",
   "nbconvert_exporter": "python",
   "pygments_lexer": "ipython3",
   "version": "3.5.2"
  }
 },
 "nbformat": 4,
 "nbformat_minor": 1
}
