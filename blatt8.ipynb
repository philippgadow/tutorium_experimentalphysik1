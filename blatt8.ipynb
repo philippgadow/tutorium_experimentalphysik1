{
 "cells": [
  {
   "cell_type": "markdown",
   "metadata": {},
   "source": [
    "![TUM Physik logo](./content/tumphysik.png)\n",
    "## Übungen zur Experimentalphysik 1\n",
    "### Blatt 8\n",
    "Author: Philipp Gadow (philipp@pgadow.de)\n",
    "\n",
    "### Wiederholung zentraler Konzepte\n",
    "Wir betrachten ein System aus $n$ Körpern und wollen deren Wechselwirkung beschreiben. Dazu teilen wir die Bewegung des Systems in eine Schwerpunktsbewegung und die dazu relative Bewegung der einzelnen Körper auf.\n",
    "#### Massenschwerpunkt\n",
    "Der Massenschwerpunkt eines Systems mit Gesamtmasse $M = \\sum_i m_i$ ist definiert als:\n",
    "$$ \\vec{r}_{S} = \\frac{1}{M} \\sum_{i} m_i \\vec{r}_i .$$\n",
    "\n",
    "Entsprechend ist die Schwerpunktsgeschwindigkeit\n",
    "$$ \\vec{v}_{S} = \\frac{1}{M} \\sum_{i} m_i \\vec{v}_i$$\n",
    "\n",
    "und der Impuls des Massenschwerpunkts einfach\n",
    "$$ \\vec{p}_{S} = \\sum_{i} m_i \\vec{v}_i$$.\n",
    "\n",
    "#### Relativbewegung\n",
    "Die Relativbewegung zwischen zwei Körpern kann beschrieben werden mit\n",
    "$$ \\vec{v}_{12} = \\vec{v}_2 - \\vec{v}_1.$$\n",
    "\n",
    "Führ man die reduzierte Masse\n",
    "$$ \\mu = \\frac{m_1 m_2}{m_1 + m_2}$$ \n",
    "ein, so ist die Wechselwirkung zwischen den beiden Körpern\n",
    "$$ \\vec{F}_{12} = \\mu \\frac{\\text{d}\\vec{v}_{12}}{\\text{d}t}.$$\n",
    "\n",
    "#### Stoßprozesse\n",
    "Bei Stoßprozessen gilt die Impulserhaltung: Der Gesamtimpuls vor und nach dem Stoß muss erhalten bleiben.\n",
    "$$ \\vec{p}_1' + \\vec{p}_2' = \\vec{p}_1 + \\vec{p}_2$$\n",
    "\n",
    "Gleichzeitig gilt die Energieerhaltung: Die Gesamtenergie vor dem Stoß muss gleich der Gesamtenergie nach dem Stoß sein, also der Summe aus der kinetischen Energie der am Stoßprozess beteiligten Körper und eventuell in innere Energie/Wärme oder aber aus der inneren Energie stammende Zusatzenergie (z.B. bei explovisven Stößen) umgesetzte Energie, die mit $Q$ bezeichnet sei.\n",
    "$$ \\frac{\\vec{p'}^2_1}{2 m'_1} + \\frac{\\vec{p'}^2_2}{2 m'_2} = \\frac{\\vec{p}^2_1}{2 m_1} + \\frac{\\vec{p}^2_2}{2 m_2} + Q$$"
   ]
  },
  {
   "cell_type": "markdown",
   "metadata": {},
   "source": [
    "### Aufgabe 1\n",
    "Ein Wagen (Leergewicht $M = 500 \\,\\text{kg}$) bewegt sich reibungsfrei auf einer Ebene mit der Geschwindigkeit $v_0 = 10 \\text{m}/\\text{s}$ in x-Richtung. Auf dem Wagen ist eine Wanne mit vernachlässigbarer Masse und der Grundfläche $A = 6 \\, \\text{m}^2$ mit der offenen Seite nach oben befestigt. Plötzlich zur Zeit $t = 0$ setzt ein Platzregen mit 18 Litern pro Stunde und Quadratmeter ein. Die Regentropfen fallen senkrecht.\n",
    "\n",
    "Hinweise: Sie mögen das Integral $\\int \\frac{1}{a+bx} \\,\\text{d}x = \\frac{1}{b} \\ln |a + bx| + C$ nützlich finden.\n",
    "\n",
    "a) Gilt hier der Impulserhaltungssatz? Gilt der Energieerhaltungssatz?\n",
    "\n",
    "b) Wie groß ist die Geschwindigkeit des Wagens als Funktion der Zeit?\n",
    "\n",
    "c) Kommt der Wagen innerhalb einer endlichen Strecke zum Stehen? Begründen Sie ihre Antwort durch Rechnung.\n",
    "\n",
    "d) Welche Kraft muss aufgebracht werden, um die Geschwindigkeit des Wagens konstant auf dem Wert $v_{0}$ zu halten?"
   ]
  },
  {
   "cell_type": "code",
   "execution_count": null,
   "metadata": {
    "collapsed": true
   },
   "outputs": [],
   "source": []
  },
  {
   "cell_type": "markdown",
   "metadata": {},
   "source": [
    "### Aufgabe 2\n",
    "Eine Lokomotive der Masse $M = 100\\,\\text{t}$ fährt mit einer Geschwindigkeit von $v_0 = 70\\,\\text{km}/\\text{h}$ auf einen ruhenden Waggon der Masse $m = 40\\,\\text{t}$ auf.\n",
    "\n",
    "a) Die Lok stößt zentral auf den Waggon, dabei koppeln sie aneinander an und fahren gemeinsam weiter. Mit welcher Geschwindigkeit $v_1$ fährt dieser Zug weiter?\n",
    "\n",
    "b) Welche Wärmeenergie ist bei diesem Vorgang freigeworden?\n",
    "\n",
    "c) Der Zug (Lok + 1 Waggon) stößt nacheinander noch einen Waggon ($50\\,\\,text{t}$) und dann noch einen weiteren Waggon ($60\\,\\text{t}$), die sich jeweils wieder ankoppeln. Mit welcher Geschwindigkeit $v_3$ fährt dieser größere Zug (Lok + 3 Waggons) weiter?\n",
    "\n",
    "d) Welche Wärmeenergie ist bei dem \\textbf{gesamten} Vorgang (3 Einkopplungen) freigeworden?\n",
    "\n",
    "e) Wieviele Waggons ($40\\,\\text{t}$) sind nötig, damit die Geschwindigkeit des Zuges auf null sinkt?"
   ]
  },
  {
   "cell_type": "code",
   "execution_count": null,
   "metadata": {
    "collapsed": true
   },
   "outputs": [],
   "source": []
  },
  {
   "cell_type": "markdown",
   "metadata": {},
   "source": [
    "### Aufgabe 3\n",
    "Ein Wagen (Masse $m_1$) wird mithilfe einer gespannten Feder (Federkonstante $D$) beschleunigt. Er fährt geradlinig und reibungsfrei auf eine an einem masselosen Faden (Länge $L$) hängende Zielscheibe (Masse $m_2$) zu. Die Zielscheibe soll im Folgenden als Punktmasse behandelt werden.\n",
    "\n",
    "a) Mit welcher Geschwindigkeit $v_1$ fährt der Wagen, wenn die Feder um $\\Delta x$ gespannt war?\n",
    "\n",
    "b) Wie groß ist die Geschwindigkeit der Zielscheibe nach dem vollkommen elastischen Stoß mit den Wagen? Betrachten Sie hierzu vereinfacht den Grenzfall $m_1 \\ll m_2$.\n",
    "\n",
    "c) Wie groß muss die Anfangsgeschwindigkeit $v_1$ mindestens sein, damit die Zielscheibe einen Überschlag mit gespanntem Faden schafft?\n"
   ]
  },
  {
   "cell_type": "code",
   "execution_count": null,
   "metadata": {
    "collapsed": true
   },
   "outputs": [],
   "source": []
  },
  {
   "cell_type": "markdown",
   "metadata": {},
   "source": [
    "### Aufgabe 4\n",
    "Zwei Kugeln der gleichen Masse mit den Geschwindigkeiten $\\vec{v}$ und $-3\\vec{v}$ stoßen elastisch aufeinander. Der Ablenkungswinkel im Schwerpunktsystem sei $\\theta$. Was ist der Winkel $\\alpha$ im Laborsystem?"
   ]
  },
  {
   "cell_type": "code",
   "execution_count": null,
   "metadata": {
    "collapsed": true
   },
   "outputs": [],
   "source": []
  },
  {
   "cell_type": "markdown",
   "metadata": {},
   "source": [
    "### Aufgabe 5\n",
    "Ein Massepunkt mit dem Gewicht $m_1 = 1200 \\, \\text{kg}$ bewegt sich kräftefrei mit einer Geschwindigkeit $v_1 = 60 \\,\\text{km}/\\text{h}$ in x-Richtung und stößt mit einem weiteren Massepunkt (Gewicht $m_2 = 9000 \\, \\text{kg}$) unter einem Winkel von $90 ^{\\circ}$ zusammen.  Zum Zeitpunkt Stoßes hat dieser die Geschwindigkeit $v_2 = 40 \\, \\text{km} / \\text{h}$.\n",
    "\n",
    "a) Stellen Sie die Impulsvektoren der beiden Massepunkte $\\vec{p_1}$ und $\\vec{p_2} $ vor dem Stoß auf.\n",
    "\n",
    "b) Vergleichen Sie Richtung und Geschwindigkeit des Schwerpunktes der Massepunkte vor dem Stoß mit Richtung und Geschwindigkeit des Schwerpunktes der Massepunkte nach dem Zusammenstoß. (1 Satz) \n",
    "\n",
    "c) \tMit welcher Geschwindigkeit $v_s = |\\vec{v_s}|$ entfernt sich der Schwerpunkt der Massepunkte nach dem Stoß vom Ort des Zusammenstoßes?\n",
    "\n",
    "d) Unter welchem Winkel bezüglich der anfänglichen Bewegungsrichtung des ersten Massepunktes bewegt sich der Schwerpunkt der Massepunkte nach dem Stoß?"
   ]
  },
  {
   "cell_type": "code",
   "execution_count": null,
   "metadata": {
    "collapsed": true
   },
   "outputs": [],
   "source": []
  },
  {
   "cell_type": "markdown",
   "metadata": {},
   "source": [
    "### Aufgabe 6\n",
    "Teilchen 1 mit Masse $m_{1}$ bewegt sich mit Geschwindigkeit $v_{1,0}$ und stößt mit Teilchen 2 (Masse $m_{2}=\\frac{m_{1}}{3}$) zusammen, das sich anfangs mit einer unbekannten Geschwindigkeit $v_{2,0}$ in die entgegengesetzte Richtung bewegt. Von außen wirken keine Kräfte auf die Teilchen. Es ist nicht bekannt, ob der Stoß elastisch oder inelastisch ist. Nach dem Stoß bewegt sich Teilchen 1 mit Geschwindigkeit $v_{1,f}=\\frac{v_{1,0}}{2}$ in einem Winkel von $\\theta_{1,f}=90^{\\circ}$ zur positiven $x-$Richtung. Teilchen 2 bewegt sich mit unbekannter Geschwindigkeit $v_{2,f}$ unter einem Winkel $\\theta_{2,f}=45^{\\circ}$ zur positiven $x-$Richtung (siehe Abbildung).\n",
    "\n",
    "a) Bestimmen Sie $v_{2,0}$ und $v_{2,f}$ als Funktion von $v_{1,0}$.\n",
    "\n",
    "b) Wird die mechanische Energie hier erhalten? Begründen Sie Ihre Antwort."
   ]
  },
  {
   "cell_type": "code",
   "execution_count": null,
   "metadata": {
    "collapsed": true
   },
   "outputs": [],
   "source": []
  }
 ],
 "metadata": {
  "kernelspec": {
   "display_name": "Python 3",
   "language": "python",
   "name": "python3"
  },
  "language_info": {
   "codemirror_mode": {
    "name": "ipython",
    "version": 3
   },
   "file_extension": ".py",
   "mimetype": "text/x-python",
   "name": "python",
   "nbconvert_exporter": "python",
   "pygments_lexer": "ipython3",
   "version": "3.5.2"
  }
 },
 "nbformat": 4,
 "nbformat_minor": 1
}
