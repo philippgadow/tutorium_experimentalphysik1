{
 "cells": [
  {
   "cell_type": "markdown",
   "metadata": {},
   "source": [
    "![TUM Physik logo](./content/tumphysik.png)\n",
    "## Übungen zur Experimentalphysik 1\n",
    "### Blatt 4\n",
    "Author: Philipp Gadow (philipp@pgadow.de)"
   ]
  },
  {
   "cell_type": "code",
   "execution_count": 11,
   "metadata": {
    "collapsed": true
   },
   "outputs": [],
   "source": [
    "import math"
   ]
  },
  {
   "cell_type": "markdown",
   "metadata": {},
   "source": [
    "### Aufgabe 1\n",
    "Ein Hund der Masse $M$ sei am Ende einer Feder mit Federkonstanten $k$ und Masse $m$ in der Höhe $h$ angeleint. Die Feder sei entlang eines horizontalen Balkens dehnbar. Die Leine ist undehnbar. Der Winkel zwischen Leine und horizontalem Balken $\\theta$ werde als konstant angenommen. Zwischen dem Hund und dem Untergrund wirke ein Reibungskoeffizient $\\mu$.\n",
    "\n",
    "Nun nähere sich ein Postbote der Anordnung. Der Hund beginnt an der Leine zu ziehen.\n",
    "![Skizze von Hund mit Feder](./content/b4a1_hund.jpg)\n",
    "\n",
    "a) Zeichnen Sie die entsprechenden Kraftdiagramme für die Feder und den Hund. Beachten Sie hierbei insbesondere die Rolle der Reibungskraft zwischen dem Hund und dem Untergrund.\n",
    "\n",
    "b) Der Hund ziehe mit einer konstanten Kraft $\\vec{F}$ entlang der Horizontalen an der Leine. Bis zu welcher Entfernung kann sich der Postbote der Wand nähern ohne vom Hund erreicht zu werden?\n",
    "\n",
    "c) Jetzt ziehe der Hund mit der maximal möglichen Kraft an der Leine. Bis zu welcher Entfernung kann sich der Postbote jetzt der Wand nähern ohne vom Hund erreicht zu werden?"
   ]
  },
  {
   "cell_type": "code",
   "execution_count": null,
   "metadata": {
    "collapsed": true
   },
   "outputs": [],
   "source": []
  },
  {
   "cell_type": "markdown",
   "metadata": {},
   "source": [
    "### Aufgabe 2\n",
    "Ein Satellit wird mit einer Trägerrakete auf eine geostationäre Umlaufbahn um die Erde geschossen. Welche Arbeit muss von der Rakete geleistet werden, um dies zu bewerkstelligen? Nehmen Sie an, dass sich die Rakete entlang der Radialkomponente des Gravitationsfeldes der Erde bewegt:\n",
    "\n",
    "\\begin{equation}\n",
    "\tF_{G}(r)=-G\\frac{m_{s}m_{e}}{r^{2}},\n",
    "\\end{equation}\n",
    "\n",
    "wobei der Koordinatenursprung im Erdzentrum liegt. Die Masse des Satelliten beträgt $m_{s}=5$t und die der Rakete zu Abschussbeinn $m_{r0}=50$t. Die Rakete soll während ihrer Flugbahn Treibstoff verbrennen, wobei die Masse der Rakete folgender Bedingung genügen soll:\n",
    "\n",
    "\\begin{equation}\n",
    "\tm_{R}(r)=m_{r0}-m'\\cdot(r-r_{E}),\n",
    "\\end{equation}\n",
    "\n",
    "mit $m'=1$kg/km und dem Erdradius $r_{E}=6317$km.\n",
    "\n",
    "** Lösung: **\n",
    "Zunächst bestimmen wir die Höhe der geostationären Umlaufbahn.\n",
    "Es gelte $F_z = F_g$, also\n",
    "$$ - G\\frac{m_S m_E}{r_S^2} = - m_S \\omega^2 r_s.$$\n",
    "Daraus folgt für die geostationäre Umlaufbahn mit der Rotationsfrequenz $\\omega = \\frac{2\\pi}{T} = {2\\pi}{24\\cdot60\\cdot60 \\, \\text{s}}$\n",
    "$$ r_S = \\sqrt[3]{\\frac{G m_E}{\\omega^2}} = 42240.68 \\,\\text{km}.$$\n",
    "\n",
    "Diese liegt $r_0 = r_S - r_E =  35869.68 \\,\\text{km}$ über der Erdoberfläche.\n",
    "\n",
    "Wir berechnen nun die nötige Arbeit, um den Satelliten von der Erdoberfläche auf die geostationäre Bahn zu bringen.\n",
    "\n",
    "W = \\int_{r_E}^{r_S} \\vec{F}\\cdot \\text{d}\\vec{r} =  \\frac{}{}"
   ]
  },
  {
   "cell_type": "code",
   "execution_count": 14,
   "metadata": {
    "collapsed": false
   },
   "outputs": [
    {
     "name": "stdout",
     "output_type": "stream",
     "text": [
      "rs: 42240.68 km\n",
      "r0: 35869.68 km\n"
     ]
    }
   ],
   "source": [
    "# Berechne geostationären Orbit\n",
    "G = 6.67408e-11 # gravitational constant\n",
    "me = 5.97219e24 # kg\n",
    "re = 6371e3 # m\n",
    "omega = 2*math.pi/(24.*60.*60.) # 1/s\n",
    "rs = (G*me/omega/omega)**(1./3.)\n",
    "print(\"rs: {:.2f} km\".format(0.001*rs))\n",
    "print(\"r0: {:.2f} km\".format(0.001*(rs-re)))"
   ]
  },
  {
   "cell_type": "markdown",
   "metadata": {},
   "source": [
    "### Aufgabe 3\n",
    "Ein als masselos anzunehmendes Gummiseil, das in entspanntem Zustand die Länge $l_{0}=40$m hat, ist am Geländer einer Brücke der Höhe $h_{0}=100$m befestigt. Am anderen Ende des Seils ist ein Mensch mit der Masse $m=70$kg befestigt. Nehmen Sie an, dass sich das Gummiseil bei Dehnung gemäß Hookeschen Gesetz mit einer Federkonstante von $k=40$N/m verhält. Nun springt der Mensch zur Zeit $t_{0}=0$ von der Brücke. Reibungseffekte seien zu vernachlässigen.\n",
    "\n",
    "a) Berechnen Sie die Geschwindigkeit $v_{1}$ zu dem Zeitpunkt $t_{1}$, zu dem das Seil erstmals gestreckt ist und dessen Dehnung beginnt. Wie groß ist $t_{1}$?\n",
    "\n",
    "b) Nach welcher Fallstrecke $x_{2}$ kompensieren sich gerade die Schwerkraft auf den Menschen und die elastische Kraft des Seils?\n",
    "\n",
    "c) Wie groß ist die maximale Geschwindigkeit $v_{max}$, die der Springer erreicht?"
   ]
  },
  {
   "cell_type": "code",
   "execution_count": null,
   "metadata": {
    "collapsed": true
   },
   "outputs": [],
   "source": []
  },
  {
   "cell_type": "markdown",
   "metadata": {},
   "source": [
    "### Aufgabe 4\n",
    "Ein punktförmiger Körper der Masse $m=100$kg liegt oben auf einer Halbkugel mit Radius $R=10$m. Der Körper gerät aus der Gleichgewichtslage und gleitet reibungsfrei auf der Halbkugeloberlfläche hinunter.\n",
    "\n",
    "![Skizze von Halbkugel und Ball](./content/b4a1_kugel.jpg)\n",
    "\n",
    "a) Wie hängt die kinetische Energie vom Winkel $\\alpha$ ab, solange der Körper in Kontakt mit der Halbkugel ist?\n",
    "\n",
    "b) Welche Kräfte - tangential und radial zur Halbkugel - wirken auf den Körper? Wie hängen diese Kräfte von $\\alpha$ ab?\n",
    "\n",
    "c) Berechnen Sie den Winkel $\\alpha_{K}$, bei dem der Kontakt zur Halbkugel verloren geht."
   ]
  },
  {
   "cell_type": "code",
   "execution_count": null,
   "metadata": {
    "collapsed": true
   },
   "outputs": [],
   "source": []
  },
  {
   "cell_type": "markdown",
   "metadata": {},
   "source": [
    "### Aufgabe 5\n",
    "Ein Körper mit Masse $m$ gleitet reibungsfrei auf einer schiefen Ebene mit dem Neigungswinkel $\\alpha$ auf eine am Ende der schiefen Ebene befestigte Feder zu (Federkonstante $D$). Die Entfernung zwischen Federanfang und Startpunkt des Körpers ist $L$, die Anfangsgeschwindigkeit des Körpers sei 0.\n",
    "\n",
    "![Skizze von Rampe, Feder und Ball](./content/b4a1_rampe.jpg)\n",
    "\n",
    "a) Berechnen Sie die Geschwindigkeit (Betrag) des Körpers, wenn er die Feder berührt.\n",
    "\n",
    "b) Bestimmen Sie den maximalen Geschwindigskeitbetrag ($v_{max}$) des Körpers und die zugehörige Deformation ($s_0$) der Feder.\n",
    "\n",
    "c) Berechnen Sie die maximale Deformation ($s_{max}$) der Feder."
   ]
  },
  {
   "cell_type": "code",
   "execution_count": null,
   "metadata": {
    "collapsed": true
   },
   "outputs": [],
   "source": []
  },
  {
   "cell_type": "markdown",
   "metadata": {},
   "source": [
    "### Aufgabe 6\n",
    "Ein Punkt mit Masse $m$ ist an einem Fadenpendel der Länge $l$ befestigt. Es wird in horizontaler Lage gehalten und losgelassen. Man bestimme den minimalen Abstand $d$ eines Nagels, sodass der Massenpunkt einmal den Nagel komplett umschwingt.\n",
    "\n",
    "![Skizze von Nagel und Pendel](./content/b4a1_schwingung.jpg)"
   ]
  },
  {
   "cell_type": "code",
   "execution_count": null,
   "metadata": {
    "collapsed": true
   },
   "outputs": [],
   "source": []
  }
 ],
 "metadata": {
  "kernelspec": {
   "display_name": "Python 3",
   "language": "python",
   "name": "python3"
  },
  "language_info": {
   "codemirror_mode": {
    "name": "ipython",
    "version": 3
   },
   "file_extension": ".py",
   "mimetype": "text/x-python",
   "name": "python",
   "nbconvert_exporter": "python",
   "pygments_lexer": "ipython3",
   "version": "3.5.2"
  }
 },
 "nbformat": 4,
 "nbformat_minor": 1
}
