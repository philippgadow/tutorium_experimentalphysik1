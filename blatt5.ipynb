{
 "cells": [
  {
   "cell_type": "markdown",
   "metadata": {},
   "source": [
    "![TUM Physik logo](./content/tumphysik.png)\n",
    "## Übungen zur Experimentalphysik 1\n",
    "### Blatt 5\n",
    "Author: Philipp Gadow (philipp@pgadow.de)"
   ]
  },
  {
   "cell_type": "code",
   "execution_count": 7,
   "metadata": {
    "collapsed": true
   },
   "outputs": [],
   "source": [
    "# Vorbereitung: importiere Python Bibliotheken\n",
    "import math\n",
    "import matplotlib.pyplot as plt\n",
    "%matplotlib inline"
   ]
  },
  {
   "cell_type": "markdown",
   "metadata": {},
   "source": [
    "### Aufgabe 1\n",
    "\n",
    "Ein umweltfreundlicher Achterbahnwagen mit Masse $m$ rutscht aus der Ruhe in Höhe $h$ los und durch einen Looping mit Radius $R$ (siehe Abbildung). Die Bahn ist dabei reibungslos. Als sich der Wagen bei Punkt $a$ am Höhepunkt des Loopings befindet, drückt er mit seiner dreifachen Gewichtskraft gegen die Bahn. Von welcher Höhe $h$ ist der Wagen gestartet? \n",
    "\n",
    "![Skizze des Loopings](./content/b5_a1_looping.jpg)\n",
    "\n",
    "\n",
    "**Lösung: **\n",
    "\n",
    "Zur Lösung dieser Aufgabe wird der Energieerhaltungssatz angewendet.\n",
    "Wir betrachten die Gesamtenergie des Systems einmal zu Beginn der Bewegung und dann am Ende, wenn der Wagen am Punkt $a$ angekommen ist.\n",
    "\n",
    "- vorher: $E = m \\cdot g \\cdot h$\n",
    "- nachher: $E = \\frac{m}{2} v^2 + m \\cdot g \\cdot (2R)$\n",
    "\n",
    "Da die Gesamtenergie bei der Bewegung erhalten bleibt, kann man die beiden Ausdrücke gleichsetzen und erhält so\n",
    "$$ mg (h - 2 R) = \\frac{m}{2} v^2$$.\n",
    "\n",
    "Laut Aufgabentext drückt der Wagen mit dreifacher Gewichtskraft gegen die Wand.\n",
    "\n",
    "Wir zeichnen ein Kräftediagramm:"
   ]
  },
  {
   "cell_type": "code",
   "execution_count": 6,
   "metadata": {
    "collapsed": false
   },
   "outputs": [
    {
     "data": {
      "text/plain": [
       "<matplotlib.text.Text at 0x7f6ee5b31198>"
      ]
     },
     "execution_count": 6,
     "metadata": {},
     "output_type": "execute_result"
    },
    {
     "data": {
      "image/png": "[encoded data removed]",
      "text/plain": [
       "<matplotlib.figure.Figure at 0x7f6ee7eed9e8>"
      ]
     },
     "metadata": {},
     "output_type": "display_data"
    }
   ],
   "source": [
    "# Kräftediagramm\n",
    "fig2 = plt.figure()\n",
    "ax2 = fig2.add_subplot(111, aspect='equal')\n",
    "plt.xlabel('Fy [N]')\n",
    "plt.ylabel('Fx [N]')\n",
    "ax2.arrow(0.5, 0.5, 0.0, 0.2, head_width=0.03, head_length=0.05, fc='k', ec='k')\n",
    "ax2.arrow(0.5, 0.5, 0.0, -0.2, head_width=0.03, head_length=0.05, fc='k', ec='k')\n",
    "ax2.text(0.55, 0.75, u'N + Fz')\n",
    "ax2.text(0.55, 0.25, u'mg')"
   ]
  },
  {
   "cell_type": "markdown",
   "metadata": {},
   "source": [
    "Beim Kräftegleichgewicht im Punkt $a$ gilt:\n",
    "$$- mg + N + m \\frac{v^2}{R} = 0.$$\n",
    "\n",
    "Da die Normalkraft drei mal der Erdbeschleunigung entspricht, gilt $N = -3 mg$.\n",
    "Somit folgt\n",
    "$$- mg - 3 mg + m \\frac{v^2}{R} = 0.$$\n",
    "\n",
    "Die Zentripetalkraft ist $\\frac{mv^2}{R} = 4 mg$.\n",
    "\n",
    "Wenn wir diese Gleichung durch 2 teilen und mit $R$ multiplizieren, erhalten wir den gleichen Term, wie für die kinetische Energie weiter oben und können diese Ausdrücke gleichsetzen:\n",
    "$$ \\frac{m}{2} v^2 = 2 mg R.$$\n",
    "\n",
    "Somit folgt\n",
    "\n",
    "$$ 2 mg R = mgh - 2 mgR \\Rightarrow h = 4R.$$\n",
    "\n",
    "Der Wagen muss also aus der Höhe, die gleich dem vierfachen Radius ist, starten."
   ]
  },
  {
   "cell_type": "markdown",
   "metadata": {},
   "source": [
    "### Aufgabe 2\n",
    "\n",
    "Alice und Bob stehen 5 Meter voneinander entfernt in einem ruhenden Boot. Alice hat einen schweren Koffer dabei. Die Masse des \n",
    "Koffers beträgt $m_{2}=20\\,\\text{kg}$; die Masse von Alice, Bob und dem Boot zusammen beträgt $m_{1}=200\\,\\text{kg}$.\n",
    "\n",
    "![Skizze von Boot, Alice und Bob samt Koffer](./content/b5_a2_boot.jpg)\n",
    "\n",
    "a) Alice wirft den Koffer mit einer horizontalen Geschwindigkeit von $10\\,\\text{m}/\\text{s}$ in Richtung von Bob. Hierbei setzt sich das Boot in Bewegung. Wie schnell bewegt sich das Boot?\n",
    "\n",
    "b) Bob fängt den Koffer. Berechnen Sie nun die Geschwindigkeit des Bootes. Wie lange war der Koffer ingesamt in der  Luft?\n",
    "\n",
    "**Hinweis:** Bob bewegt sich durch die Bewegung des Bootes dem Koffer entgegen.\n",
    "\n",
    "c) Der Koffer wird wieder zurückgeworfen und gefangen. Was ist nun die Geschwindigkeit des Bootes? An welchem Ort befindet sich das Boot nun?\n",
    "\n",
    "**Lösung: **\n",
    "\n",
    "a) Wir argumentieren mit der Impulserhaltung. Vor dem Wurf war der Gesamtimpuls des Systems null, also $p_{\\text{gesamt}} = 0 = (m_1 + m_2 ) \\cdot v_{\\text{Boot}}$.\n",
    "Nach dem Wurf muss der Gesamtimpuls erhalten sein, also gilt\n",
    "$p_{\\text{gesamt}}' = 0 = m_1 v_1' + m_2 v_2' = 0$. Durch Umstellen nach $v_1'$ erhalten wir für die Bootsgeschwindigkeit $v_1' = - \\frac{m_2}{m_1} v_2' = -0.1 \\cdot 10 \\, \\text{m}/\\text{s} = -1 \\, \\text{m}/\\text{s}.$\n",
    "\n",
    "b) Nachdem Bob den Koffer gefangen hat, erhält das Boot wieder einen Impuls in entgegengesetzte Richtung gleichen Betrages, sodass die Geschwindigkeit des Boots dann wieder null ist.\n",
    "\n",
    "Der Koffer hat sich auf Bob mit der Geschwindigkeit $v' = 10 \\,\\text{m}/\\text{s} - (-1 \\,\\text{m}/\\text{s}) = 11 \\,\\text{m}/\\text{s}$ bewegt.\n",
    "Er war $t' = \\frac{s}{t'} = \\frac{5 \\,\\text{m}}{11 \\, \\text{s}} = 0.45 \\, \\text{s}$ unterwegs.\n",
    "\n",
    "c) Nachdem der Koffer zurückgeworfen wurde, hat das Schiff wieder die Geschwindigkeit null und befindet sich am Ausgangsort, bevor der Koffer zum ersten Mal geworfen wurde."
   ]
  },
  {
   "cell_type": "code",
   "execution_count": 17,
   "metadata": {
    "collapsed": false
   },
   "outputs": [
    {
     "name": "stdout",
     "output_type": "stream",
     "text": [
      "Geschwindigkeit des Bootes nach Wurf: -1.00 m/s\n",
      "Flugzeit des Koffers: 0.45 m/s\n"
     ]
    }
   ],
   "source": [
    "v2 = 10. # m\\s\n",
    "m1 = 200. # kg\n",
    "m2 = 20. # kg\n",
    "\n",
    "v1 = -m2/m1 *v2\n",
    "print(\"Geschwindigkeit des Bootes nach Wurf: {:.2f} m/s\".format(v1))\n",
    "\n",
    "# Wurfdauer\n",
    "v2 = 10 # m/s\n",
    "s = 5 # m\n",
    "t = s/(v2 - v1)\n",
    "print(\"Flugzeit des Koffers: {:.2f} m/s\".format(t))"
   ]
  },
  {
   "cell_type": "markdown",
   "metadata": {},
   "source": [
    "### Aufgabe 3\n",
    "\n",
    "An den Enden eines masselosen aufgebogenen Winkeleisens sind zwei Kugeln der Masse $m_1 = 1\\, \\text{kg}$ und $m_2 = 1,5\\, \\text{kg}$ befestigt. Das Winkeleisen ist an seinem Knick drehbar gelagert. Der Zwischenwinkel $\\alpha$ der beiden Schenkel des Eisens beträgt 120\\degree. Schenkel 1 besitzt die Länge $l_1 = 0,5 \\, \\text{m}$ und Schenkel 2 die Länge $l_2 = 0,3 \\, \\text{m}$. Die Bewegung erfolgt in der $x-z$-Ebene.\n",
    "\n",
    "![Skizze des Pendels](./content/b5_a3_pendel.jpg)\n",
    "\n",
    "a) Berechnen Sie das Gesamtdrehmoment des Systems, wenn an den Schwerpunkten der beiden Massen die Gewichtskraft in $-z$-Richtung angreift.\n",
    "\n",
    "b) Welchen Winkel $\\phi$ schließt der Schenkel 2 mit der $x$-Achse ein, falls sich die Massen in der Ruhelage befinden?\n",
    "\n",
    "c) Wie muss das Massenverhältnis $\\frac{m_1}{m_2}$ lauten, damit sich das System bei gleicher Höhe der Mittelpunkte der beiden Massen in Ruhe befindet?\n",
    "\n",
    "**Lösung:**\n",
    "\n",
    "a) Das Drehmoment ist $\\vec{D} = \\vec{r} \\times \\vec{F}$\n",
    "\n",
    "Wir parametrisieren die Radiusvektoren als\n",
    "$$\\vec{r}_1 = \\begin{pmatrix} \\cos(\\alpha + \\phi) \\\\ 0 \\\\ - \\sin(\\alpha + \\phi) \\end{pmatrix} l_1,$$\n",
    "$$\\vec{r}_2 = \\begin{pmatrix} \\cos(\\phi) \\\\ 0 \\\\ - \\sin(\\phi) \\end{pmatrix} l_2.$$\n",
    "\n",
    "Auf beide Massen wirkt die Gewichtskraft\n",
    "$$ \\vec{F}_1 = - m_1 g \\vec{e}_z,$$\n",
    "$$ \\vec{F}_2 = - m_2 g \\vec{e}_z.$$\n",
    "\n",
    "Das Gesamtdrehmoment ist\n",
    "$$\\vec{D}(\\phi) = \\vec{r}_1 \\times \\vec{F}_1 + \\vec{r}_2 \\times \\vec{F}_2 = l_1 \\begin{pmatrix} \\cos(\\alpha + \\phi) \\\\ 0 \\\\ - \\sin(\\alpha + \\phi) \\end{pmatrix} \\times \\begin{pmatrix} 0 \\\\ 0 \\\\ -m_1 g \\end{pmatrix} + l_2 \\begin{pmatrix} \\cos(\\phi) \\\\ 0 \\\\ - \\sin(\\phi) \\end{pmatrix} \\times \\begin{pmatrix} 0 \\\\ 0 \\\\ -m_2 g \\end{pmatrix}.$$\n",
    "\n",
    "Berechnet man das Kreuzprodukt, erhält man\n",
    "$$\\vec{D}(\\phi) = \\left(l_1 m_1 g \\cos(\\alpha + \\phi) + l_2 + m_2 g \\cos(\\phi) \\right) \\vec{e}_y .$$\n",
    "\n",
    "b) Wenn sich die Massen in Ruhelage befinden, ist das Gesamtdrehmoment null, es gelte also $D(\\phi) = 0$.\n",
    "\n",
    "Somit gilt $l_1 m_1 g \\cos (\\alpha + \\phi) + l_2 m_2 g \\cos(\\phi) = 0$\n",
    "\n",
    "Unter Verwendung des Additionstheorems $\\cos (a + b) = \\cos a \\cos b - \\sin a \\sin b$ formen wir diesen Ausdruck um zu\n",
    "$$ l_1 m_1 g (\\cos \\phi \\cos \\alpha - \\sin \\phi \\sin \\alpha) + l_2 m_2 g \\cos \\phi = 0 .$$\n",
    "\n",
    "Mit Umformen folgt\n",
    "$$ \\tan \\phi = \\text{cot} \\alpha  + \\frac{l_2 m_2 g}{l_1 m_1 g \\sin \\alpha}.$$\n",
    "\n",
    "Somit ist der Winkel bei der Gleichgewichtslage $\\phi = 24.8^{\\circ}$.\n",
    "\n",
    "c)  Das System soll in Ruhe sein, wenn $z_1 = z_2 $. Das bedeutet, dass $l_1 \\sin(\\alpha + \\phi) = l_2 \\sin \\phi$ gelte. Die Bedingung für ein Kräftegleichgewicht lautet $l_1 m_1 g \\cos(\\phi+\\alpha) = l_2 \\sin \\phi$.\n",
    "\n",
    "Aus diesen zwei Gleichungen lässt sich nun das geforderte Massenverhältnis bestimmen. Wir wenden Additionstheoreme zur Vereinfachung an:\n",
    "$$ l_1 (\\sin \\phi \\cos \\alpha + \\cos \\phi \\sin \\alpha) - l_2 \\sin \\phi = 0,$$\n",
    "$$ l_1 m_1 g (\\cos \\phi \\cos \\alpha - \\sin \\phi \\sin \\alpha) + l_2 m_2 g \\cos \\phi = 0.$$\n",
    "\n",
    "Dazu sortieren wir die Gleichungen nach Sinus- und Cosinustermen.\n",
    "$$ (l_1 \\cos \\alpha - l_2) \\sin \\phi + l_1 \\sin \\alpha \\cos \\alpha = 0, $$\n",
    "$$ (- l_1 m_1 g \\sin \\alpha) \\sin \\phi + (l_1 m_1 g \\cos \\alpha + l_2 m_2 g) \\cos \\phi = 0. $$\n",
    "\n",
    "Wir stellen die Gleichungen um und teilen die zweite Gleichung durch die erste Gleichung:\n",
    "$$ \\frac{l_1 m_1 g \\sin \\alpha}{l_2 - l_1 \\cos \\alpha} = \\frac{l_1 m_1 g \\cos \\alpha + l_2 m_2 g}{l_1 \\sin \\alpha}.$$\n",
    "\n",
    "Nun folgt noch etwas umstellen und umformen der Gleichung:\n",
    "$$ l_1^2 \\sin^2 \\alpha m_1 g = l_1 l_2 m_1 g \\cos \\alpha - l_1^2 \\cos^2 \\alpha + l_2^2 m_2 g - l_1 l_2 \\cos \\alpha m_2 g$$\n",
    "$$ m_1 (l_1^2 g \\sin^2 \\alpha - l_1 l_2 g \\cos \\alpha + l_1^2 \\cos^2 \\alpha g)= m_2 (g l_2^2 - l_1 l_2 \\cos \\alpha g)$$\n",
    "$$ m_1 (l_1^2 g - l_1 l_2 g \\cos \\alpha)= m_2 (g l_2^2 - l_1 l_2 \\cos \\alpha g)$$\n",
    "$$ \\frac{m_1}{m_2} = \\frac{l_2^2 - l_1 l_2 \\cos \\alpha}{l_1^2 - l_1 l_2 \\cos \\alpha} = 0.5077$$"
   ]
  },
  {
   "cell_type": "markdown",
   "metadata": {},
   "source": [
    "### Aufgabe 4\n",
    "\n",
    "Eine Pistole ist auf einem Dreharm fest montiert. Die Pistole wiegt 1 kg. Auf der anderen Seite des Dreharms ist ein gleich schweres Gegengewicht montiert.\n",
    "\n",
    "![Skizze des Konstrukts](./content/b5_a4_drehmoment.jpg)\n",
    "\n",
    "Die Pistole wird bei ruhendem Dreharm horizontal abgefeuert. Der senkrechte Abstand des Drehpunkts $D$ von der Pistole ist $r=10\\,\\text{cm}$.\n",
    "\n",
    "Die Pistolenkugel (Masse $m_\\text{K}=6\\,\\text{g}$) wird im Zeitintervall $\\Delta t =2\\cdot 10^{-4}\\,\\text{s}$ beschleunigt; sie erreicht die Endgeschwindigkeit $v_\\text{K}$.\n",
    "\n",
    "Nach Abfeuern der Kugel stellt sich eine konstante Drehfrequenz von $0,5\\,\\text{s}^{-1}$ ein.\n",
    "\n",
    "a) Berechnen Sie die konstante Winkelgeschwindigkeit $\\omega$ der Scheibe. \n",
    "\n",
    "b) Welcher Erhaltungssatz gilt und welche Geschwindigkeit $v_\\text{K}$ erreicht die Pistolenkugel?\n",
    "\n",
    "c) Bestimmen Sie die mittlere Kraft $\\overline{F}$ , die während der Beschleunigung im Pistolenlauf auf die Kugel wirkt.\n",
    "\n",
    "d) Berechnen Sie für die den Dreharm das mittlere Drehmoment $\\overline{M}$ und die mittlere Winkelbeschleunigung $\\overline{\\alpha}$ für das Zeitintervall $\\Delta t$.\n",
    "\n",
    "**Lösung:**\n",
    "\n",
    "a) Die Winkelgeschwindigkeit der Scheibe ist\n",
    "\n",
    "$$ \\omega = 2 \\pi f = \\pi \\,1/\\text{s}.$$\n",
    "\n",
    "b) Um die Geschwindigkeit der Pistolenkugel zu berechnen, können wir die Drehimpulserhaltung nutzen. Vor dem Schuss ist der Gesamtdrehimpuls des Systems null, also muss er auch nach dem Schuss null sein.\n",
    "Der Gesamtdrehimpuls nach dem Schuss setzt sich zusammen aus \n",
    "- Drehimpuls der Kugel $\\vec{L}_K = \\vec{r} \\times \\vec{p}_K = m_K \\vec{r} \\times \\vec{v}_K$. Da $\\vec{r} \\perp \\vec{v}_K$, ist $|\\vec{L}_K| = m_k r v_k$ und $\\vec{L}_K = m_k r v_k \\, \\vec{e}_z$.\n",
    "- Drehimpuls des Arms $\\vec{L}_A = - M r^2 \\omega \\vec{e}_z - M r^2 \\omega \\vec{e}_z = 2M r^2 \\omega \\vec{e}_z$.\n",
    "\n",
    "Die Drehimpuls müssen entgegengesetzt sein und Beträge der beiden Drehimpuls müssen gleich groß sein. Somit folgt\n",
    "$$m_K r v_K = 2 M r^2 \\omega.$$\n",
    "\n",
    "Stellen wir diese Gleichung nach dem Betrag der Geschwindigkeit der Pistolenkugel $v_K$ um, können wir den Wert direkt angeben:\n",
    "$$ v_K = \\frac{2Mr\\omega}{m_K} = 104.72 \\,\\text{m}/\\text{s}.$$\n",
    "\n",
    "c) Die mittlere Kraft, die während der Beschleunigung im Pistolenlauf auf die Kugel wirkt ist\n",
    "$$ \\overline{F} = \\frac{p_2 - p_1}{\\Delta t} = \\frac{m_K v_K - 0}{\\Delta t} = 3.14 \\,\\text{kN}.$$\n",
    "\n",
    "d) Das mittlere Drehmoment des Dreharms ist $\\overline{\\vec{D}} = \\overline{\\vec{r} \\times \\vec{F}}$. Der Betrag des mittleren Drehmoments ist $|\\vec{D}| = r \\cdot F = 314.16 \\,\\text{Nm}$.\n",
    "\n",
    "Die mittlere Winkelbeschleunigung kann direkt aus der zeitlichen Änderung der Winkelgeschwindigkeit berechnet werden und ist $\\alpha = \\dot \\omega = \\frac{\\Delta \\omega}{\\Delta t} = 1.57 \\cdot 10^4 \\frac{1}{s^2}$."
   ]
  },
  {
   "cell_type": "code",
   "execution_count": 14,
   "metadata": {
    "collapsed": false
   },
   "outputs": [
    {
     "name": "stdout",
     "output_type": "stream",
     "text": [
      "omega: 3.14 Hz\n",
      "Geschwindigkeit der Pistolenkugel: 104.72\n",
      "mittlere Kraft auf Pistolenkugel: 3141.59\n",
      "mittleres Drehmoment: 314.16\n",
      "mittlere Winkelbeschleunigung: 15707.96\n"
     ]
    }
   ],
   "source": [
    "# Winkelgeschindigkeit der Scheibe\n",
    "f = 0.5\n",
    "omega = 2*math.pi*0.5\n",
    "print(\"omega: {:.2f} Hz\".format(omega))\n",
    "\n",
    "# Geschwindigkeit der Pistolenkugel\n",
    "M = 1 # kg\n",
    "mK = 0.006 # kg\n",
    "r = 0.1 # m\n",
    "vK = 2*M*r*omega/mK\n",
    "print(\"Geschwindigkeit der Pistolenkugel: {:.2f}\".format(vK))\n",
    "\n",
    "# mittlere Kraft auf Kugel\n",
    "dt = 0.0002 # s\n",
    "F_average = mK*vK/dt\n",
    "print(\"mittlere Kraft auf Pistolenkugel: {:.2f}\".format(F_average))\n",
    "\n",
    "# mittleres Drehmoment\n",
    "D_average = r * F_average\n",
    "print(\"mittleres Drehmoment: {:.2f}\".format(D_average))\n",
    "\n",
    "# mittlere Winkelbeschleunigung\n",
    "alpha = omega / dt\n",
    "print(\"mittlere Winkelbeschleunigung: {:.2f}\".format(alpha))"
   ]
  },
  {
   "cell_type": "markdown",
   "metadata": {},
   "source": [
    "### Aufgabe 5\n",
    "\n",
    "Eine Leiter der Länge $l$ und der Masse $m$ lehnt unter dem Winkel $\\phi$ an einer glatten senkrechten Wand. Die Schwerkraft greift dabei im Schwerpunkt der Leiter an. Der Reibungskoeffizient zwischen Boden und Leiter ist $\\mu$. Bestimmen Sie den Maximalwinkel $\\phi_{max}$, unter dem die Leiter an der Wand stehen bleibt, ohne zu rutschen. Erstellen Sie eine Skizze der Anordnung und zeichnen Sie die Kräfte ein. \n",
    "\n",
    "![Skizze der Wand und Leiter](./content/b5_a5_leiter.jpg)\n",
    "\n",
    "**Lösung:**\n",
    "Da die Leiter sich nicht bewegen soll, muss sowohl ein Kräftegleichgewicht als auch ein verschwindendes Gesamtdrehmoment vorliegen.\n",
    "\n",
    "Wir betrachten zunächst die Bedingung für das Kräftegleichgewicht zwischen Gewichtskraft $\\vec{F}_g$, Normalkraft des Bodens $\\vec{N}_B$ und Normalkraft der Wand $\\vec{N}_W$, sowie der Reibungskraft $\\vec{F}_R$\n",
    "\n",
    "$$\\vec{F}_{\\text{ges}} = \\vec{F}_g + \\vec{N}_W + \\vec{N}_B + \\vec{F}_R = 0$$\n",
    "\n",
    "In Kompenenten ist das \n",
    "$$\\begin{pmatrix}0 \\\\ -mg \\end{pmatrix} + \\begin{pmatrix}N_W \\\\ 0 \\end{pmatrix} + \\begin{pmatrix}0 \\\\ N_B \\end{pmatrix} + \\begin{pmatrix} - F_R \\\\ 0 \\end{pmatrix} = \\begin{pmatrix}0 \\\\ 0 \\end{pmatrix}. $$\n",
    "\n",
    "Daraus folgt für die Normalkräfte\n",
    "- $N_B = mg$,\n",
    "- $N_W = F_R = \\mu N_B = \\mu m g$.\n",
    "\n",
    "Auch die Drehmomente müssen verschwinden. Im Punkt 0 muss gelten $\\sum \\vec{D}_i = 0$\n",
    "Es herrschen drei Drehmomente\n",
    "- durch Gewichtskraft: $mg \\frac{l}{2} \\sin \\phi$\n",
    "- durch Normalkraft Boden: $- mgl \\sin \\phi$\n",
    "- durch Reibungskraft: $\\mu m g l \\cos \\phi$\n",
    "\n",
    "In Summe ist das \n",
    "$$ m g \\frac{l}{2} \\sin \\phi - m g l \\sin \\phi + \\mu m g l \\cos \\phi = 0, $$\n",
    "\n",
    "also $ mg \\frac{l}{2} \\sin \\phi = \\mu m g l \\cos \\phi$, woraus folgt $\\tan \\phi = 2 \\mu$ und somit der maximale Winkel, bei dem die Leiter nicht rutscht, $\\phi = \\tan^{-1} (2 \\mu)$ ist."
   ]
  },
  {
   "cell_type": "code",
   "execution_count": null,
   "metadata": {
    "collapsed": true
   },
   "outputs": [],
   "source": []
  },
  {
   "cell_type": "markdown",
   "metadata": {},
   "source": [
    "### Mathematische Ergänzungen\n",
    "Die Geschwindigkeit eines Körpers, der im Schwerefeld der Erde newtonscher Reibung $F_R = -Kv^2$ unterliegt, ist implizit gegeben durch\n",
    "$$t(v) = \\frac{m}{K}\\int_{v_0}^v \\frac1{v_{\\infty}^2-{v'}^2}\\,\\mathrm dv'\\text,$$\n",
    "wobei $v_{\\infty} = \\sqrt{\\tfrac{mg}{K}}$. Bestimmen Sie $v(t)$."
   ]
  },
  {
   "cell_type": "code",
   "execution_count": null,
   "metadata": {
    "collapsed": true
   },
   "outputs": [],
   "source": []
  }
 ],
 "metadata": {
  "kernelspec": {
   "display_name": "Python 3",
   "language": "python",
   "name": "python3"
  },
  "language_info": {
   "codemirror_mode": {
    "name": "ipython",
    "version": 3
   },
   "file_extension": ".py",
   "mimetype": "text/x-python",
   "name": "python",
   "nbconvert_exporter": "python",
   "pygments_lexer": "ipython3",
   "version": "3.5.2"
  }
 },
 "nbformat": 4,
 "nbformat_minor": 1
}
