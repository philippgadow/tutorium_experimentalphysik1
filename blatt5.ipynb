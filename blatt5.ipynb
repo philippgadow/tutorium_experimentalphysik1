{
 "cells": [
  {
   "cell_type": "markdown",
   "metadata": {},
   "source": [
    "![TUM Physik logo](./content/tumphysik.png)\n",
    "## Übungen zur Experimentalphysik 1\n",
    "### Blatt 5\n",
    "Author: Philipp Gadow (philipp@pgadow.de)"
   ]
  },
  {
   "cell_type": "markdown",
   "metadata": {},
   "source": [
    "### Aufgabe 1\n",
    "\n",
    "Ein umweltfreundlicher Achterbahnwagen mit Masse $m$ rutscht aus der Ruhe in Höhe $h$ los und durch einen Looping mit Radius $R$ (siehe Abbildung). Die Bahn ist dabei reibungslos. Als sich der Wagen bei Punkt $a$ am Höhepunkt des Loopings befindet, drückt er mit seiner dreifachen Gewichtskraft gegen die Bahn. Von welcher Höhe $h$ ist der Wagen gestartet? \n",
    "\n",
    "![Skizze des Loopings](./content/b5_a1_looping.jpg)\n"
   ]
  },
  {
   "cell_type": "code",
   "execution_count": null,
   "metadata": {
    "collapsed": true
   },
   "outputs": [],
   "source": []
  },
  {
   "cell_type": "markdown",
   "metadata": {},
   "source": [
    "### Aufgabe 2\n",
    "\n",
    "Alice und Bob stehen 5 Meter voneinander entfernt in einem ruhenden Boot. Alice hat einen schweren Koffer dabei. Die Masse des \n",
    "Koffers beträgt $m_{2}=20\\,\\text{kg}$; die Masse von Alice, Bob und dem Boot zusammen beträgt $m_{1}=200\\,\\text{kg}$.\n",
    "\n",
    "![Skizze von Boot, Alice und Bob samt Koffer](./content/b5_a2_boot.jpg)\n",
    "\n",
    "a) Alice wirft den Koffer mit einer horizontalen Geschwindigkeit von $10\\,\\text{m}/\\text{s}$ in Richtung von Bob. Hierbei setzt sich das Boot in Bewegung. Wie schnell bewegt sich das Boot?\n",
    "\n",
    "b) Bob fängt den Koffer. Berechnen Sie nun die Geschwindigkeit des Bootes. Wie lange war der Koffer ingesamt in der  Luft? **Hinweis:** Bob bewegt sich durch die Bewegung des Bootes dem Koffer entgegen.\n",
    "\n",
    "c) Der Koffer wird wieder zurückgeworfen und gefangen. Was ist nun die Geschwindigkeit des Bootes? An welchem Ort befindet sich das Boot nun?"
   ]
  },
  {
   "cell_type": "code",
   "execution_count": null,
   "metadata": {
    "collapsed": true
   },
   "outputs": [],
   "source": []
  },
  {
   "cell_type": "markdown",
   "metadata": {},
   "source": [
    "### Aufgabe 3\n",
    "\n",
    "An den Enden eines masselosen aufgebogenen Winkeleisens sind zwei Kugeln der Masse $m_1 = 1\\, \\text{kg}$ und $m_2 = 1,5\\, \\text{kg}$ befestigt. Das Winkeleisen ist an seinem Knick drehbar gelagert. Der Zwischenwinkel $\\alpha$ der beiden Schenkel des Eisens beträgt 120\\degree. Schenkel 1 besitzt die Länge $l_1 = 0,5 \\, \\text{m}$ und Schenkel 2 die Länge $l_2 = 0,3 \\, \\text{m}$. Die Bewegung erfolgt in der $x-z$-Ebene.\n",
    "\n",
    "![Skizze des Pendels](./content/b5_a3_pendel.jpg)\n",
    "\n",
    "a) Berechnen Sie das Gesamtdrehmoment des Systems, wenn an den Schwerpunkten der beiden Massen die Gewichtskraft in $-z$-Richtung angreift.\n",
    "\n",
    "b) Welchen Winkel $\\phi$ schließt der Schenkel 2 mit der $x$-Achse ein, falls sich die Massen in der Ruhelage befinden?\n",
    "\n",
    "c) Wie muss das Massenverhältnis $\\frac{m_1}{m_2}$ lauten, damit sich das System bei gleicher Höhe der Mittelpunkte der beiden Massen in Ruhe befindet?"
   ]
  },
  {
   "cell_type": "code",
   "execution_count": null,
   "metadata": {
    "collapsed": true
   },
   "outputs": [],
   "source": []
  },
  {
   "cell_type": "markdown",
   "metadata": {},
   "source": [
    "### Aufgabe 4\n",
    "\n",
    "Eine Pistole ist auf einem Dreharm fest montiert. Die Pistole wiegt 1 kg. Auf der anderen Seite des Dreharms ist ein gleich schweres Gegengewicht montiert.\n",
    "\n",
    "![Skizze des Konstrukts](./content/b5_a4_drehmoment.jpg)\n",
    "\n",
    "Die Pistole wird bei ruhendem Dreharm horizontal abgefeuert. Der senkrechte Abstand des Drehpunkts $D$ von der Pistole ist $r=10\\,\\text{cm}$.\n",
    "\n",
    "Die Pistolenkugel (Masse $m_\\text{K}=6\\,\\text{g}$) wird im Zeitintervall $\\Delta t =2\\cdot 10^{-4}\\,\\text{s}$ beschleunigt; sie erreicht die Endgeschwindigkeit $v_\\text{K}$.\n",
    "\n",
    "Nach Abfeuern der Kugel stellt sich eine konstante Drehfrequenz von $0,5\\,\\text{s}^{-1}$ ein.\n",
    "\n",
    "a) Berechnen Sie die konstante Winkelgeschwindigkeit $\\omega$ der Scheibe. \n",
    "\n",
    "b) Welcher Erhaltungssatz gilt und welche Geschwindigkeit $v_\\text{K}$ erreicht die Pistolenkugel?\n",
    "\n",
    "c) Bestimmen Sie die mittlere Kraft $\\overline{F}$ , die während der Beschleunigung im Pistolenlauf auf die Kugel wirkt.\n",
    "\n",
    "d) Berechnen Sie für die den Dreharm das mittlere Drehmoment $\\overline{M}$ und die mittlere Winkelbeschleunigung $\\overline{\\alpha}$ für das Zeitintervall $\\Delta t$."
   ]
  },
  {
   "cell_type": "code",
   "execution_count": null,
   "metadata": {
    "collapsed": true
   },
   "outputs": [],
   "source": []
  },
  {
   "cell_type": "markdown",
   "metadata": {},
   "source": [
    "### Aufgabe 5\n",
    "\n",
    "Eine Leiter der Länge $l$ und der Masse $m$ lehnt unter dem Winkel $\\phi$ an einer glatten senkrechten Wand. Die Schwerkraft greift dabei im Schwerpunkt der Leiter an. Der Reibungskoeffizient zwischen Boden und Leiter ist $\\mu$. Bestimmen Sie den Maximalwinkel $\\phi_{max}$, unter dem die Leiter an der Wand stehen bleibt, ohne zu rutschen. Erstellen Sie eine Skizze der Anordnung und zeichnen Sie die Kräfte ein. \n",
    "\n",
    "![Skizze der Wand und Leiter](./content/b5_a5_leiter.jpg)\n"
   ]
  },
  {
   "cell_type": "code",
   "execution_count": null,
   "metadata": {
    "collapsed": true
   },
   "outputs": [],
   "source": []
  },
  {
   "cell_type": "markdown",
   "metadata": {},
   "source": [
    "### Mathematische Ergänzungen\n",
    "Die Geschwindigkeit eines Körpers, der im Schwerefeld der Erde newtonscher Reibung $F_R = -Kv^2$ unterliegt, ist implizit gegeben durch\n",
    "$$t(v) = \\frac{m}{K}\\int_{v_0}^v \\frac1{v_{\\infty}^2-{v'}^2}\\,\\mathrm dv'\\text,$$\n",
    "wobei $v_{\\infty} = \\sqrt{\\tfrac{mg}{K}}$. Bestimmen Sie $v(t)$."
   ]
  },
  {
   "cell_type": "code",
   "execution_count": null,
   "metadata": {
    "collapsed": true
   },
   "outputs": [],
   "source": []
  }
 ],
 "metadata": {
  "kernelspec": {
   "display_name": "Python 3",
   "language": "python",
   "name": "python3"
  },
  "language_info": {
   "codemirror_mode": {
    "name": "ipython",
    "version": 3
   },
   "file_extension": ".py",
   "mimetype": "text/x-python",
   "name": "python",
   "nbconvert_exporter": "python",
   "pygments_lexer": "ipython3",
   "version": "3.5.2"
  }
 },
 "nbformat": 4,
 "nbformat_minor": 1
}
